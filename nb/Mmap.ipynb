{
 "cells": [
  {
   "cell_type": "code",
   "execution_count": 1,
   "id": "27e8f8b9-b0fa-4434-8a02-a105321f5733",
   "metadata": {},
   "outputs": [],
   "source": [
    "import pyarrow as pa"
   ]
  },
  {
   "cell_type": "code",
   "execution_count": 2,
   "id": "cd909800-2f7b-46d4-8d66-012ba9975701",
   "metadata": {},
   "outputs": [
    {
     "data": {
      "text/plain": [
       "22.888160705566406"
      ]
     },
     "execution_count": 2,
     "metadata": {},
     "output_type": "execute_result"
    }
   ],
   "source": [
    "# create test data\n",
    "batch = pa.RecordBatch.from_arrays([range(1,1_000_000),\n",
    "                                    range(1,1_000_000),\n",
    "                                    range(1,1_000_000)],\n",
    "                                   names=[\"x\", \"y\", \"z\"])\n",
    "batch.nbytes / 1024**2"
   ]
  },
  {
   "cell_type": "code",
   "execution_count": 3,
   "id": "c1ecfb09-52e3-4cd4-a99f-5763b3e74cb2",
   "metadata": {},
   "outputs": [],
   "source": [
    "# write it\n",
    "with pa.ipc.new_file(\"test.arrow\", schema=batch.schema) as f:\n",
    "    for i in range(50):\n",
    "        f.write_batch(batch)"
   ]
  },
  {
   "cell_type": "code",
   "execution_count": 5,
   "id": "b7ad77db-7f02-4aad-9330-c27c86941186",
   "metadata": {},
   "outputs": [
    {
     "name": "stdout",
     "output_type": "stream",
     "text": [
      "total 1.4G\n",
      "drwxr-xr-x 3 1001 1002 4.0K Oct  7 17:37 .\n",
      "drwxr-xr-x 1 root root 4.0K Oct  7 04:48 ..\n",
      "drwxr-xr-x 2 1001 1002 4.0K Oct  7 04:50 .ipynb_checkpoints\n",
      "-rw-r--r-- 1 1001 1002  19K Oct  5 23:10 9-15_lecture.ipynb\n",
      "-rw-r--r-- 1 1001 1002  54K Oct  5 23:10 9-18_lecture.ipynb\n",
      "-rw-r--r-- 1 1001 1002 5.9K Oct  6 00:26 Caching1.ipynb\n",
      "-rw-r--r-- 1 root root 3.8K Oct  6 16:32 Caching2.ipynb\n",
      "-rw-r--r-- 1 root root  26K Oct  7 03:59 Caching3_PyArrow.ipynb\n",
      "-rw-r--r-- 1 root root 3.0K Oct  7 17:37 Mmap.ipynb\n",
      "-rw-r--r-- 1 1001 1002 2.3K Oct  5 23:10 Threading1.ipynb\n",
      "-rw-r--r-- 1 1001 1002 7.3K Oct  5 23:10 Threading2.ipynb\n",
      "-rw-r----- 1 root root 167M Nov  1  2022 hdma-wi-2021.csv\n",
      "-rw-r--r-- 1 root root  21M Jan  5  2023 hdma-wi-2021.zip\n",
      "-rw-r--r-- 1 root root 1.2G Oct  7 17:36 test.arrow\n"
     ]
    }
   ],
   "source": [
    "!ls -lah # the file we created (1.2 GB) is larger than our memory (512 MB)"
   ]
  },
  {
   "cell_type": "code",
   "execution_count": null,
   "id": "c7a09245-f844-46b3-a0e2-8870d16551f3",
   "metadata": {},
   "outputs": [],
   "source": [
    "# this code causes the kernel to crash, as we're trying to load in the entire file (1.2 GB) into our physical memory (0.5 GB)\n",
    "# with pa.ipc.open_file(\"test_arrow\") as f:\n",
    "#     tbl = f.read_all()"
   ]
  },
  {
   "cell_type": "code",
   "execution_count": 7,
   "id": "2c859888-f2ba-4150-a7c3-71118a007bb3",
   "metadata": {},
   "outputs": [],
   "source": [
    "import mmap\n",
    "with open(\"test.arrow\", \"rb\") as f:\n",
    "    # memory_region = mmap.mmap(FILE, SIZE, access=ACCESS)\n",
    "    mm = mmap.mmap(f.fileno(), 0, access=mmap.ACCESS_READ)    # creates a region of SIZE (in this case, 0=the whole file so 1.2 GB) in virtual memory mapped to the file in disk"
   ]
  },
  {
   "cell_type": "code",
   "execution_count": 8,
   "id": "26875f20-b8f3-41ca-9ff3-2ad94115a793",
   "metadata": {},
   "outputs": [
    {
     "data": {
      "text/plain": [
       "<mmap.mmap closed=False, access=ACCESS_READ, length=1200012490, pos=0, offset=0>"
      ]
     },
     "execution_count": 8,
     "metadata": {},
     "output_type": "execute_result"
    }
   ],
   "source": [
    "# Can see our region is 1.2 GB large\n",
    "mm"
   ]
  },
  {
   "cell_type": "code",
   "execution_count": 9,
   "id": "7efb07dc-c005-477a-8bb4-d748ee943c2b",
   "metadata": {},
   "outputs": [
    {
     "data": {
      "text/plain": [
       "b'ARROW1\\x00\\x00\\xff\\xff'"
      ]
     },
     "execution_count": 9,
     "metadata": {},
     "output_type": "execute_result"
    }
   ],
   "source": [
    "# we can read some file contents (ex. first 10 lines), which triggers pulling into physical memory\n",
    "mm[:10]"
   ]
  },
  {
   "cell_type": "code",
   "execution_count": 10,
   "id": "087f14fb-a57a-4211-8c2a-3d4810f4759e",
   "metadata": {},
   "outputs": [],
   "source": [
    "# file contents will be lazily read into our mmap region as we read them\n",
    "with pa.ipc.open_file(mm) as f:\n",
    "    tbl = f.read_all()"
   ]
  },
  {
   "cell_type": "code",
   "execution_count": 11,
   "id": "6a3dca7b-334d-41a1-adb5-eadca4421e96",
   "metadata": {},
   "outputs": [
    {
     "data": {
      "text/plain": [
       "<pyarrow.Int64Scalar: 24999975000000>"
      ]
     },
     "execution_count": 11,
     "metadata": {},
     "output_type": "execute_result"
    }
   ],
   "source": [
    "# using mmap we can load in only contents we need; in this case we only load in 1 column from disk saving on I/O\n",
    "import pyarrow.compute as pc\n",
    "pc.sum(tbl[\"x\"])"
   ]
  },
  {
   "cell_type": "code",
   "execution_count": 13,
   "id": "a50591ef-cd24-4168-aeca-06e44196679d",
   "metadata": {},
   "outputs": [
    {
     "data": {
      "text/plain": [
       "<pyarrow.Int64Scalar: 24999975000000>"
      ]
     },
     "execution_count": 13,
     "metadata": {},
     "output_type": "execute_result"
    }
   ],
   "source": [
    "# These columns definitely can't all fit into physical memory but with mmap we can do the calculation\n",
    "pc.sum(tbl[\"y\"])\n",
    "pc.sum(tbl[\"z\"])"
   ]
  },
  {
   "cell_type": "code",
   "execution_count": null,
   "id": "4c85bb63-dcc4-4ab6-b092-7c48e00ec6ab",
   "metadata": {},
   "outputs": [],
   "source": []
  }
 ],
 "metadata": {
  "kernelspec": {
   "display_name": "Python 3 (ipykernel)",
   "language": "python",
   "name": "python3"
  },
  "language_info": {
   "codemirror_mode": {
    "name": "ipython",
    "version": 3
   },
   "file_extension": ".py",
   "mimetype": "text/x-python",
   "name": "python",
   "nbconvert_exporter": "python",
   "pygments_lexer": "ipython3",
   "version": "3.11.6"
  }
 },
 "nbformat": 4,
 "nbformat_minor": 5
}
