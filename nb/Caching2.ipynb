{
 "cells": [
  {
   "cell_type": "code",
   "execution_count": 1,
   "id": "399dfec0-a9c3-46e6-9ddb-7625398f2137",
   "metadata": {},
   "outputs": [],
   "source": [
    "import torch, time"
   ]
  },
  {
   "cell_type": "code",
   "execution_count": 2,
   "id": "bb6d0f4d-3c0c-4c3a-913f-18c70b11ffc3",
   "metadata": {},
   "outputs": [],
   "source": [
    "A = torch.rand(10000, 10000)    # default = torch.float32 --> 400 MB in size (larger than many L3 caches)"
   ]
  },
  {
   "cell_type": "code",
   "execution_count": 3,
   "id": "830814ae-fe57-482b-9079-637af885f54b",
   "metadata": {},
   "outputs": [
    {
     "data": {
      "text/plain": [
       "tensor(50001200.)"
      ]
     },
     "execution_count": 3,
     "metadata": {},
     "output_type": "execute_result"
    }
   ],
   "source": [
    "A.sum()    # sum of all the numbers in the tensor"
   ]
  },
  {
   "cell_type": "code",
   "execution_count": 4,
   "id": "02ae78fc-86dc-48f1-b3a6-688d4078475d",
   "metadata": {},
   "outputs": [
    {
     "name": "stdout",
     "output_type": "stream",
     "text": [
      "Time used in column sum = 154.47330474853516 ms\n"
     ]
    }
   ],
   "source": [
    "start = time.time()\n",
    "A.sum(dim=0)    # 0=down, sum using columns\n",
    "end = time.time()\n",
    "print(f\"Time used in column sum = {(end - start) * 1000} ms\")"
   ]
  },
  {
   "cell_type": "code",
   "execution_count": 5,
   "id": "5b1f76c7-2667-4af1-8a60-3cf74ce9a388",
   "metadata": {},
   "outputs": [
    {
     "name": "stdout",
     "output_type": "stream",
     "text": [
      "Time used in row sum = 74.50699806213379 ms\n"
     ]
    }
   ],
   "source": [
    "start = time.time()\n",
    "A.sum(dim=1)    # 1=across, sum using rows\n",
    "end = time.time()\n",
    "print(f\"Time used in row sum = {(end - start) * 1000} ms\")"
   ]
  },
  {
   "cell_type": "code",
   "execution_count": 6,
   "id": "f6abb4f9-e044-49f3-b030-b88087406741",
   "metadata": {},
   "outputs": [],
   "source": [
    "A_transpose = torch.rand(10000, 10000).T"
   ]
  },
  {
   "cell_type": "code",
   "execution_count": 7,
   "id": "611fcc6f-b725-44f2-a2a4-5156e8c6a52a",
   "metadata": {},
   "outputs": [
    {
     "name": "stdout",
     "output_type": "stream",
     "text": [
      "Time used in column sum = 54.367780685424805 ms\n"
     ]
    }
   ],
   "source": [
    "start = time.time()\n",
    "A_transpose.sum(dim=0)    # 0=down, sum using columns\n",
    "end = time.time()\n",
    "print(f\"Time used in column sum = {(end - start) * 1000} ms\")"
   ]
  },
  {
   "cell_type": "code",
   "execution_count": 8,
   "id": "4183321b-e0a5-4c69-8ed3-6b2cd62fb0df",
   "metadata": {},
   "outputs": [
    {
     "name": "stdout",
     "output_type": "stream",
     "text": [
      "Time used in row sum = 138.70787620544434 ms\n"
     ]
    }
   ],
   "source": [
    "start = time.time()\n",
    "A_transpose.sum(dim=1)    # 1=across, sum using rows\n",
    "end = time.time()\n",
    "print(f\"Time used in row sum = {(end - start) * 1000} ms\")"
   ]
  },
  {
   "cell_type": "markdown",
   "id": "74b13704-6871-4165-a494-50809b0c189d",
   "metadata": {},
   "source": [
    "Running out of memory in notebook, so restart kernel"
   ]
  },
  {
   "cell_type": "code",
   "execution_count": null,
   "id": "c942b82b-30c5-4bee-af8b-425adbefa9b0",
   "metadata": {},
   "outputs": [],
   "source": []
  }
 ],
 "metadata": {
  "kernelspec": {
   "display_name": "Python 3 (ipykernel)",
   "language": "python",
   "name": "python3"
  },
  "language_info": {
   "codemirror_mode": {
    "name": "ipython",
    "version": 3
   },
   "file_extension": ".py",
   "mimetype": "text/x-python",
   "name": "python",
   "nbconvert_exporter": "python",
   "pygments_lexer": "ipython3",
   "version": "3.11.5"
  }
 },
 "nbformat": 4,
 "nbformat_minor": 5
}
