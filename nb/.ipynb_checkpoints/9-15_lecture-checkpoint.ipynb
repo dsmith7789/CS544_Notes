{
 "cells": [
  {
   "cell_type": "markdown",
   "id": "7ab43984-096d-471a-aa47-a84598668f2e",
   "metadata": {},
   "source": [
    "1. Integer Behavior"
   ]
  },
  {
   "cell_type": "code",
   "execution_count": 2,
   "id": "f112dc90-876a-47ae-a461-89b21b5de461",
   "metadata": {},
   "outputs": [],
   "source": [
    "import torch"
   ]
  },
  {
   "cell_type": "code",
   "execution_count": 5,
   "id": "685f6e5a-c229-4de9-9346-ef026a706522",
   "metadata": {},
   "outputs": [
    {
     "data": {
      "text/plain": [
       "tensor(2147483648)"
      ]
     },
     "execution_count": 5,
     "metadata": {},
     "output_type": "execute_result"
    }
   ],
   "source": [
    "torch.tensor(2 ** 31, dtype=torch.int64) # value fits inside 64 bits"
   ]
  },
  {
   "cell_type": "code",
   "execution_count": 7,
   "id": "541ce0f0-6601-4173-8027-5b3fcd544e6f",
   "metadata": {},
   "outputs": [],
   "source": [
    "#torch.tensor(2 ** 31, dtype=torch.int32) # error b/c value too large for 32 bits"
   ]
  },
  {
   "cell_type": "code",
   "execution_count": 9,
   "id": "4e651f25-4f5d-4a3c-b002-ddcbca0bdf01",
   "metadata": {},
   "outputs": [
    {
     "data": {
      "text/plain": [
       "tensor(2147483647, dtype=torch.int32)"
      ]
     },
     "execution_count": 9,
     "metadata": {},
     "output_type": "execute_result"
    }
   ],
   "source": [
    "x = torch.tensor(2 ** 31 - 1, dtype=torch.int32)\n",
    "x"
   ]
  },
  {
   "cell_type": "code",
   "execution_count": 12,
   "id": "e0c7cdc2-31fd-4084-8406-39a3588030c0",
   "metadata": {},
   "outputs": [
    {
     "data": {
      "text/plain": [
       "tensor(-2147483648, dtype=torch.int32)"
      ]
     },
     "execution_count": 12,
     "metadata": {},
     "output_type": "execute_result"
    }
   ],
   "source": [
    "y = x + 1 # overflow causes value to flip signs, PyTorch skips safety check once x is initialized\n",
    "y"
   ]
  },
  {
   "cell_type": "code",
   "execution_count": 14,
   "id": "6463ca81-abcf-471a-8d05-6c0884351b38",
   "metadata": {},
   "outputs": [
    {
     "data": {
      "text/plain": [
       "tensor(2147483647, dtype=torch.int32)"
      ]
     },
     "execution_count": 14,
     "metadata": {},
     "output_type": "execute_result"
    }
   ],
   "source": [
    "y - 1 # underflow (subtract from the max negative value causes a positive result)"
   ]
  },
  {
   "cell_type": "markdown",
   "id": "028e2f86-7b72-4720-b15e-a48f03439b57",
   "metadata": {},
   "source": [
    "2. Float Behavior"
   ]
  },
  {
   "cell_type": "code",
   "execution_count": 15,
   "id": "310c2b70-e373-412c-8177-3f85f566fda6",
   "metadata": {},
   "outputs": [],
   "source": [
    "from sys import float_info"
   ]
  },
  {
   "cell_type": "code",
   "execution_count": 19,
   "id": "01f3c43a-4413-4c7a-8b81-47b5deb3ba2a",
   "metadata": {},
   "outputs": [
    {
     "data": {
      "text/plain": [
       "1.7976931348623157e+308"
      ]
     },
     "execution_count": 19,
     "metadata": {},
     "output_type": "execute_result"
    }
   ],
   "source": [
    "big = float_info.max # what's the largest float we can store?\n",
    "big"
   ]
  },
  {
   "cell_type": "code",
   "execution_count": 20,
   "id": "c4040b9c-5b3b-4c1e-a18c-d6b5f8bf0015",
   "metadata": {},
   "outputs": [
    {
     "data": {
      "text/plain": [
       "2.2250738585072014e-308"
      ]
     },
     "execution_count": 20,
     "metadata": {},
     "output_type": "execute_result"
    }
   ],
   "source": [
    "float_info.min # what's the smallest float we can store? Notice not exactly opposite of max"
   ]
  },
  {
   "cell_type": "code",
   "execution_count": 21,
   "id": "8c5ec129-9ce3-4371-807e-8189142a3f7a",
   "metadata": {},
   "outputs": [
    {
     "data": {
      "text/plain": [
       "True"
      ]
     },
     "execution_count": 21,
     "metadata": {},
     "output_type": "execute_result"
    }
   ],
   "source": [
    "big == big + 1 # we can't represent numbers larger than big, so that's why this weird behavior"
   ]
  },
  {
   "cell_type": "code",
   "execution_count": 25,
   "id": "cb8624c9-82e3-4040-8d82-b4a75ecc4c60",
   "metadata": {},
   "outputs": [
    {
     "data": {
      "text/plain": [
       "inf"
      ]
     },
     "execution_count": 25,
     "metadata": {},
     "output_type": "execute_result"
    }
   ],
   "source": [
    "big * 2 # multiplication that gives a float overflow will lead to the result being +infinity"
   ]
  },
  {
   "cell_type": "code",
   "execution_count": 28,
   "id": "034987f0-3418-4f02-8c52-f90f278173f9",
   "metadata": {},
   "outputs": [
    {
     "data": {
      "text/plain": [
       "-inf"
      ]
     },
     "execution_count": 28,
     "metadata": {},
     "output_type": "execute_result"
    }
   ],
   "source": [
    "small = -big\n",
    "small * 3 # similarly, multiplication that gives a float underflow will lead to result being -infinity"
   ]
  },
  {
   "cell_type": "code",
   "execution_count": 31,
   "id": "2ef44b0e-4c59-4df6-adad-6d0c06fa3c08",
   "metadata": {},
   "outputs": [
    {
     "data": {
      "text/plain": [
       "nan"
      ]
     },
     "execution_count": 31,
     "metadata": {},
     "output_type": "execute_result"
    }
   ],
   "source": [
    "2*small + 2*big # undefined behavior once we get to 'inf' and '-inf' so we can't really do math with those, hence 'nan'"
   ]
  },
  {
   "cell_type": "code",
   "execution_count": 35,
   "id": "f075489b-e0c4-47bd-9b3e-ad8ae5dc7260",
   "metadata": {},
   "outputs": [
    {
     "data": {
      "text/plain": [
       "True"
      ]
     },
     "execution_count": 35,
     "metadata": {},
     "output_type": "execute_result"
    }
   ],
   "source": [
    "x = 1.2345678912345678912\n",
    "y = 1.2345678912345678919\n",
    "x == y  # Beware that float will cut the decimal point off after a certain amount (16 bits in this case)"
   ]
  },
  {
   "cell_type": "code",
   "execution_count": 39,
   "id": "76ce7989-c379-486f-a85e-60a275288bbe",
   "metadata": {},
   "outputs": [
    {
     "data": {
      "text/plain": [
       "2.220446049250313e-16"
      ]
     },
     "execution_count": 39,
     "metadata": {},
     "output_type": "execute_result"
    }
   ],
   "source": [
    "float_info.epsilon   # the smallest increment we can do with float numbers"
   ]
  },
  {
   "cell_type": "code",
   "execution_count": 43,
   "id": "834c2a38-6bdd-42f5-a7d4-855d36b26d32",
   "metadata": {},
   "outputs": [
    {
     "data": {
      "text/plain": [
       "1.0000000000000002"
      ]
     },
     "execution_count": 43,
     "metadata": {},
     "output_type": "execute_result"
    }
   ],
   "source": [
    "x = 1.0\n",
    "x += float_info.epsilon    # demonstration of smallest increment\n",
    "x"
   ]
  },
  {
   "cell_type": "code",
   "execution_count": 44,
   "id": "d830d5ec-6abe-4899-a812-12e7359e8132",
   "metadata": {},
   "outputs": [
    {
     "data": {
      "text/plain": [
       "True"
      ]
     },
     "execution_count": 44,
     "metadata": {},
     "output_type": "execute_result"
    }
   ],
   "source": [
    "x = 1.0\n",
    "x += float_info.epsilon / 2  # epsilon / 2 will be cut off by the precision limit when using 1.0\n",
    "x == 1.0"
   ]
  },
  {
   "cell_type": "code",
   "execution_count": 46,
   "id": "cd2d6e72-4300-4dab-bf5e-526c7cbb1031",
   "metadata": {},
   "outputs": [
    {
     "data": {
      "text/plain": [
       "False"
      ]
     },
     "execution_count": 46,
     "metadata": {},
     "output_type": "execute_result"
    }
   ],
   "source": [
    "0.1 == 0.1 + float_info.epsilon / 2  # we have increased precision with the smaller number so that's why behavior is different"
   ]
  },
  {
   "cell_type": "markdown",
   "id": "0939c143-0f31-45a7-b60d-65ee4d965f96",
   "metadata": {},
   "source": [
    "3. Matrices"
   ]
  },
  {
   "cell_type": "code",
   "execution_count": 52,
   "id": "24cb5904-d5d3-49bf-b5ec-8dc4a11acbf9",
   "metadata": {},
   "outputs": [
    {
     "data": {
      "text/plain": [
       "tensor([[0.7692, 0.9618, 0.8904],\n",
       "        [0.3012, 0.3632, 0.3643],\n",
       "        [0.4400, 0.5399, 0.2021],\n",
       "        [0.2635, 0.8353, 0.9543],\n",
       "        [0.1562, 0.3406, 0.8177],\n",
       "        [0.5484, 0.2357, 0.4979],\n",
       "        [0.1438, 0.1072, 0.6780],\n",
       "        [0.4778, 0.7092, 0.9595],\n",
       "        [0.7423, 0.2768, 0.6928],\n",
       "        [0.7247, 0.5754, 0.3158]])"
      ]
     },
     "execution_count": 52,
     "metadata": {},
     "output_type": "execute_result"
    }
   ],
   "source": [
    "torch.manual_seed(544)   # setting the seed makes sure our randomizations are consistent\n",
    "A = torch.rand(10, 3)   # 10 rows x 3 columns, with pseudo-random values (same seed = same values)\n",
    "A"
   ]
  },
  {
   "cell_type": "code",
   "execution_count": 54,
   "id": "9144f066-4682-4645-97e9-1fdbb1759893",
   "metadata": {},
   "outputs": [
    {
     "data": {
      "text/plain": [
       "torch.float32"
      ]
     },
     "execution_count": 54,
     "metadata": {},
     "output_type": "execute_result"
    }
   ],
   "source": [
    "A.dtype    # data type of tensor elements (float32 by default)"
   ]
  },
  {
   "cell_type": "code",
   "execution_count": 56,
   "id": "11ba729f-7c0d-4640-abc4-280a710598d1",
   "metadata": {},
   "outputs": [
    {
     "data": {
      "text/plain": [
       "torch.Size([10, 3])"
      ]
     },
     "execution_count": 56,
     "metadata": {},
     "output_type": "execute_result"
    }
   ],
   "source": [
    "A.shape    # use this to get the number of rows and cols that are in a tensor"
   ]
  },
  {
   "cell_type": "code",
   "execution_count": 58,
   "id": "84362822-c6ca-4fcb-b5ab-e0295971a3c6",
   "metadata": {},
   "outputs": [
    {
     "data": {
      "text/plain": [
       "device(type='cpu')"
      ]
     },
     "execution_count": 58,
     "metadata": {},
     "output_type": "execute_result"
    }
   ],
   "source": [
    "A.device   # are we running on CPU or GPU?"
   ]
  },
  {
   "cell_type": "code",
   "execution_count": 60,
   "id": "070e5cc1-9787-4281-bac5-7ff1efe75eb9",
   "metadata": {},
   "outputs": [
    {
     "data": {
      "text/plain": [
       "tensor([[0.7690, 0.9619, 0.8906],\n",
       "        [0.3013, 0.3633, 0.3643],\n",
       "        [0.4399, 0.5400, 0.2021],\n",
       "        [0.2634, 0.8354, 0.9541],\n",
       "        [0.1561, 0.3406, 0.8179],\n",
       "        [0.5483, 0.2357, 0.4980],\n",
       "        [0.1438, 0.1072, 0.6782],\n",
       "        [0.4778, 0.7090, 0.9595],\n",
       "        [0.7422, 0.2769, 0.6929],\n",
       "        [0.7246, 0.5752, 0.3159]], dtype=torch.float16)"
      ]
     },
     "execution_count": 60,
     "metadata": {},
     "output_type": "execute_result"
    }
   ],
   "source": [
    "A.to(torch.float16)   # change the datatype of tensor elements"
   ]
  },
  {
   "cell_type": "code",
   "execution_count": 61,
   "id": "addc465f-cd60-4792-9e32-8d74a2c1ed33",
   "metadata": {},
   "outputs": [],
   "source": [
    "# standard check to run on GPU if available (FLOPS are faster on GPU)\n",
    "if torch.cuda.is_available():\n",
    "    A = A.to(\"cuda\")"
   ]
  },
  {
   "cell_type": "code",
   "execution_count": 63,
   "id": "c983f93f-4bc8-4be8-bd45-b97dadc8e549",
   "metadata": {},
   "outputs": [
    {
     "data": {
      "text/plain": [
       "device(type='cpu')"
      ]
     },
     "execution_count": 63,
     "metadata": {},
     "output_type": "execute_result"
    }
   ],
   "source": [
    "A.device   # in this VM, we don't have GPUs so can't use cuda or any other GPU tools..."
   ]
  },
  {
   "cell_type": "code",
   "execution_count": 64,
   "id": "81e3c19b-1640-4f69-8917-aa53a2ee52d8",
   "metadata": {},
   "outputs": [
    {
     "data": {
      "text/plain": [
       "tensor([[0.7692, 0.3012, 0.4400, 0.2635, 0.1562, 0.5484, 0.1438, 0.4778, 0.7423,\n",
       "         0.7247],\n",
       "        [0.9618, 0.3632, 0.5399, 0.8353, 0.3406, 0.2357, 0.1072, 0.7092, 0.2768,\n",
       "         0.5754],\n",
       "        [0.8904, 0.3643, 0.2021, 0.9543, 0.8177, 0.4979, 0.6780, 0.9595, 0.6928,\n",
       "         0.3158]])"
      ]
     },
     "execution_count": 64,
     "metadata": {},
     "output_type": "execute_result"
    }
   ],
   "source": [
    "A.T   # get the transpose of the tensor"
   ]
  },
  {
   "cell_type": "code",
   "execution_count": 67,
   "id": "e99269f4-c34b-4f1a-82f8-0c7bfbffd98c",
   "metadata": {},
   "outputs": [
    {
     "data": {
      "text/plain": [
       "tensor([[0.7692, 0.9618, 0.8904, 0.3012, 0.3632, 0.3643, 0.4400, 0.5399, 0.2021,\n",
       "         0.2635, 0.8353, 0.9543, 0.1562, 0.3406, 0.8177],\n",
       "        [0.5484, 0.2357, 0.4979, 0.1438, 0.1072, 0.6780, 0.4778, 0.7092, 0.9595,\n",
       "         0.7423, 0.2768, 0.6928, 0.7247, 0.5754, 0.3158]])"
      ]
     },
     "execution_count": 67,
     "metadata": {},
     "output_type": "execute_result"
    }
   ],
   "source": [
    "A.reshape(2, 15) # can resize the tensor as long as the end number of elements lines up"
   ]
  },
  {
   "cell_type": "code",
   "execution_count": 70,
   "id": "0e55fbfe-c741-40a7-91a4-8e1bcf3b06dc",
   "metadata": {},
   "outputs": [
    {
     "data": {
      "text/plain": [
       "30"
      ]
     },
     "execution_count": 70,
     "metadata": {},
     "output_type": "execute_result"
    }
   ],
   "source": [
    "A.nelement()   # how many elements are in tensor A?"
   ]
  },
  {
   "cell_type": "code",
   "execution_count": 72,
   "id": "d470f6bd-2c42-44b1-89c1-dbf1d101757e",
   "metadata": {},
   "outputs": [
    {
     "data": {
      "text/plain": [
       "4"
      ]
     },
     "execution_count": 72,
     "metadata": {},
     "output_type": "execute_result"
    }
   ],
   "source": [
    "A.element_size() # how many bytes does each element in tensor A occupy?"
   ]
  },
  {
   "cell_type": "code",
   "execution_count": 74,
   "id": "f87592a9-898b-43ce-b5b6-1ae7f0da2ee1",
   "metadata": {},
   "outputs": [
    {
     "data": {
      "text/plain": [
       "120"
      ]
     },
     "execution_count": 74,
     "metadata": {},
     "output_type": "execute_result"
    }
   ],
   "source": [
    "A.nelement() * A.element_size()  # how many bytes does this tensor take up in memory?"
   ]
  },
  {
   "cell_type": "code",
   "execution_count": 75,
   "id": "14f02dd7-c20f-49d3-a884-e14f4d599d94",
   "metadata": {},
   "outputs": [
    {
     "data": {
      "text/plain": [
       "tensor([[0.6328, 0.3786, 0.5304, 0.9536, 0.4527],\n",
       "        [0.5590, 0.8712, 0.6088, 0.1902, 0.2815],\n",
       "        [0.9316, 0.5239, 0.1163, 0.9079, 0.8680],\n",
       "        [0.3044, 0.6517, 0.6400, 0.1318, 0.4360],\n",
       "        [0.2169, 0.1357, 0.8953, 0.9961, 0.0261],\n",
       "        [0.0827, 0.3893, 0.1925, 0.8271, 0.4342],\n",
       "        [0.2311, 0.9747, 0.3815, 0.8167, 0.7667],\n",
       "        [0.6076, 0.6184, 0.6529, 0.7855, 0.7847],\n",
       "        [0.0096, 0.4722, 0.8270, 0.6347, 0.6249],\n",
       "        [0.5678, 0.4897, 0.3131, 0.8285, 0.1607]])"
      ]
     },
     "execution_count": 75,
     "metadata": {},
     "output_type": "execute_result"
    }
   ],
   "source": [
    "X = torch.rand(10, 5)\n",
    "X"
   ]
  },
  {
   "cell_type": "code",
   "execution_count": 77,
   "id": "8024c97c-6b2b-4261-8986-38873b1f751f",
   "metadata": {},
   "outputs": [
    {
     "data": {
      "text/plain": [
       "tensor([[100.6328, 100.3786, 100.5304, 100.9536, 100.4527],\n",
       "        [100.5590, 100.8712, 100.6088, 100.1902, 100.2815],\n",
       "        [100.9316, 100.5239, 100.1163, 100.9079, 100.8680],\n",
       "        [100.3044, 100.6517, 100.6400, 100.1318, 100.4360],\n",
       "        [100.2169, 100.1357, 100.8953, 100.9961, 100.0261],\n",
       "        [100.0827, 100.3893, 100.1925, 100.8271, 100.4342],\n",
       "        [100.2311, 100.9747, 100.3815, 100.8167, 100.7667],\n",
       "        [100.6076, 100.6184, 100.6529, 100.7855, 100.7847],\n",
       "        [100.0096, 100.4722, 100.8270, 100.6347, 100.6249],\n",
       "        [100.5678, 100.4897, 100.3131, 100.8285, 100.1607]])"
      ]
     },
     "execution_count": 77,
     "metadata": {},
     "output_type": "execute_result"
    }
   ],
   "source": [
    "X + 100   # add to each element in the tensor (matrix addition)"
   ]
  },
  {
   "cell_type": "code",
   "execution_count": 80,
   "id": "ff86b3a0-0c43-4fcf-a090-1d42477c5f9d",
   "metadata": {},
   "outputs": [
    {
     "data": {
      "text/plain": [
       "tensor(0.6225)"
      ]
     },
     "execution_count": 80,
     "metadata": {},
     "output_type": "execute_result"
    }
   ],
   "source": [
    "torch.sigmoid(torch.tensor(0.5))  # sigmoid gives a value between -1 and 1 (useful in ML/neural networks)"
   ]
  },
  {
   "cell_type": "code",
   "execution_count": 85,
   "id": "48a6b457-b8f4-4c16-b640-9332cc90bb13",
   "metadata": {},
   "outputs": [
    {
     "data": {
      "text/plain": [
       "tensor([-5, -2,  1,  4])"
      ]
     },
     "execution_count": 85,
     "metadata": {},
     "output_type": "execute_result"
    }
   ],
   "source": [
    "B = torch.arange(-5, 6, 3)  # (start_val, end_val, spacing between vals)\n",
    "B"
   ]
  },
  {
   "cell_type": "code",
   "execution_count": 86,
   "id": "ab9e8d90-38e4-4ed3-9912-2e55e41e6498",
   "metadata": {},
   "outputs": [
    {
     "data": {
      "text/plain": [
       "tensor([0.0067, 0.1192, 0.7311, 0.9820])"
      ]
     },
     "execution_count": 86,
     "metadata": {},
     "output_type": "execute_result"
    }
   ],
   "source": [
    "torch.sigmoid(torch.arange(-5, 6, 3))   # apply PyTorch sigmoid function implementation to all elements in arange resultant tensor"
   ]
  },
  {
   "cell_type": "code",
   "execution_count": 88,
   "id": "b22b6250-e82f-42b3-aa3b-9a3df99f8a50",
   "metadata": {},
   "outputs": [
    {
     "data": {
      "text/plain": [
       "tensor([[2.6039, 2.1564, 2.5166, 2.9972, 1.7830],\n",
       "        [1.8670, 1.5377, 2.3953, 2.1231, 1.4290],\n",
       "        [1.0053, 0.8466, 1.0403, 1.1643, 0.6546],\n",
       "        [2.8701, 2.4145, 2.8288, 3.3272, 1.8485],\n",
       "        [1.5054, 1.2222, 1.4831, 1.7152, 1.1204]])"
      ]
     },
     "execution_count": 88,
     "metadata": {},
     "output_type": "execute_result"
    }
   ],
   "source": [
    "x = torch.rand(5, 3) # a x b\n",
    "y = torch.rand(3, 8) # b x c\n",
    "z = torch.rand(8, 5) # c x d\n",
    "res = x @ y @ z      # a x d\n",
    "res"
   ]
  },
  {
   "cell_type": "code",
   "execution_count": null,
   "id": "fbac8597-e370-45be-ba7a-96662cf97eac",
   "metadata": {},
   "outputs": [],
   "source": []
  }
 ],
 "metadata": {
  "kernelspec": {
   "display_name": "Python 3 (ipykernel)",
   "language": "python",
   "name": "python3"
  },
  "language_info": {
   "codemirror_mode": {
    "name": "ipython",
    "version": 3
   },
   "file_extension": ".py",
   "mimetype": "text/x-python",
   "name": "python",
   "nbconvert_exporter": "python",
   "pygments_lexer": "ipython3",
   "version": "3.11.5"
  }
 },
 "nbformat": 4,
 "nbformat_minor": 5
}
