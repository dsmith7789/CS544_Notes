{
 "cells": [
  {
   "cell_type": "code",
   "execution_count": 17,
   "id": "b40da4a6-a60a-4f0d-b974-4d7cec0f99ea",
   "metadata": {},
   "outputs": [],
   "source": [
    "import random\n",
    "import requests\n",
    "import pandas as pd\n",
    "import time\n",
    "\n",
    "r = requests.get(\"https://pages.cs.wisc.edu/~harter/cs544/data/wi-stations/stations.txt\")\n",
    "r.raise_for_status()\n",
    "stations = r.text.strip().split(\"\\n\")\n",
    "stations = random.sample(stations, k=10)\n",
    "workload = random.choices(stations, k=100, weights=[0.3, 0.2] + [0.5/8]*8)"
   ]
  },
  {
   "cell_type": "code",
   "execution_count": 5,
   "id": "13fb0b06-c5cd-4b9d-bc4f-2f6007339544",
   "metadata": {},
   "outputs": [
    {
     "data": {
      "text/plain": [
       "['USC00479190',\n",
       " 'USC00473250',\n",
       " 'US1WIWS0006',\n",
       " 'US1WIWS0006',\n",
       " 'USC00479190',\n",
       " 'US1WIWS0006',\n",
       " 'USC00478540',\n",
       " 'US1WIRC0041',\n",
       " 'US1WIWS0032',\n",
       " 'USC00473250']"
      ]
     },
     "execution_count": 5,
     "metadata": {},
     "output_type": "execute_result"
    }
   ],
   "source": [
    "workload[:10]"
   ]
  },
  {
   "cell_type": "markdown",
   "id": "9a383ad9-f893-4b9d-877c-8cfcc3e6107e",
   "metadata": {},
   "source": [
    "Implementing a FIFO cache:"
   ]
  },
  {
   "cell_type": "code",
   "execution_count": 26,
   "id": "fec3108b-b946-4e74-97e0-a43c5fbc4bbc",
   "metadata": {},
   "outputs": [
    {
     "name": "stdout",
     "output_type": "stream",
     "text": [
      "FIFO cache hit rate = 0.53\n",
      "FIFO average latency = 99.55347061157227 ms\n"
     ]
    }
   ],
   "source": [
    "cache = {}  # key=station, value=DataFrame for that station\n",
    "CACHE_SIZE = 5\n",
    "evict_order = []   # FIFO cache (first is oldest)\n",
    "\n",
    "# stats\n",
    "hits = [] # hit=True, miss=False\n",
    "ms_latencies = []\n",
    "\n",
    "def get_station(station):\n",
    "    start = time.time()\n",
    "    if station in cache:\n",
    "        hits.append(True)\n",
    "        #print(\"hit\")\n",
    "        df = cache[station]\n",
    "    else:\n",
    "        hits.append(False)\n",
    "        #print(\"miss\")\n",
    "        \n",
    "        # should we evict?\n",
    "        if len(cache) >= CACHE_SIZE:\n",
    "            victim = evict_order.pop(0)\n",
    "            cache.pop(victim)           \n",
    "            \n",
    "        df = pd.read_csv(f\"https://pages.cs.wisc.edu/~harter/cs544/data/wi-stations/{station}.csv.gz\",\n",
    "                             names=[\"station\", \"date\", \"element\", \"value\", \"m\", \"q\", \"s\", \"obs\"], low_memory=False)\n",
    "        cache[station] = df\n",
    "        evict_order.append(station)\n",
    "    end = time.time()\n",
    "    ms_latencies.append((end - start) * 1000)\n",
    "    return df\n",
    "\n",
    "for station in workload:\n",
    "    df = get_station(station)\n",
    "    #print(hits[-1], ms_latencies[-1])\n",
    "\n",
    "print(f\"FIFO cache hit rate = {sum(hits) / len(hits)}\")\n",
    "print(f\"FIFO average latency = {sum(ms_latencies) / len(ms_latencies)} ms\")"
   ]
  },
  {
   "cell_type": "markdown",
   "id": "f3574146-e355-4702-855c-a7a8fce2afd1",
   "metadata": {},
   "source": [
    "LRU Cache (very similar to FIFO, except when we get a hit):"
   ]
  },
  {
   "cell_type": "code",
   "execution_count": 27,
   "id": "112e2620-45f2-4482-bfe6-87800be4dac7",
   "metadata": {},
   "outputs": [
    {
     "name": "stdout",
     "output_type": "stream",
     "text": [
      "LRU cache hit rate = 0.61\n",
      "LRU average latency = 71.95860624313354 ms\n"
     ]
    }
   ],
   "source": [
    "cache = {}  # key=station, value=DataFrame for that station\n",
    "CACHE_SIZE = 5\n",
    "evict_order = []   # LRU cache (first is least recently used)\n",
    "\n",
    "# stats\n",
    "hits = [] # hit=True, miss=False\n",
    "ms_latencies = []\n",
    "\n",
    "def get_station(station):\n",
    "    start = time.time()\n",
    "    if station in cache:\n",
    "        hits.append(True)\n",
    "        #print(\"hit\")\n",
    "        df = cache[station]\n",
    "        evict_order.remove(station)\n",
    "        evict_order.append(station)\n",
    "    else:\n",
    "        hits.append(False)\n",
    "        #print(\"miss\")\n",
    "        \n",
    "        # should we evict?\n",
    "        if len(cache) >= CACHE_SIZE:\n",
    "            victim = evict_order.pop(0)\n",
    "            cache.pop(victim)           \n",
    "            \n",
    "        df = pd.read_csv(f\"https://pages.cs.wisc.edu/~harter/cs544/data/wi-stations/{station}.csv.gz\",\n",
    "                             names=[\"station\", \"date\", \"element\", \"value\", \"m\", \"q\", \"s\", \"obs\"], low_memory=False)\n",
    "        cache[station] = df\n",
    "        evict_order.append(station)\n",
    "    end = time.time()\n",
    "    ms_latencies.append((end - start) * 1000)\n",
    "    return df\n",
    "\n",
    "for station in workload:\n",
    "    df = get_station(station)\n",
    "    #print(hits[-1], ms_latencies[-1])\n",
    "\n",
    "print(f\"LRU cache hit rate = {sum(hits) / len(hits)}\")\n",
    "print(f\"LRU average latency = {sum(ms_latencies) / len(ms_latencies)} ms\")"
   ]
  },
  {
   "cell_type": "code",
   "execution_count": null,
   "id": "8f4614cd-7c9e-444c-b15a-00b27a08b22e",
   "metadata": {},
   "outputs": [],
   "source": []
  }
 ],
 "metadata": {
  "kernelspec": {
   "display_name": "Python 3 (ipykernel)",
   "language": "python",
   "name": "python3"
  },
  "language_info": {
   "codemirror_mode": {
    "name": "ipython",
    "version": 3
   },
   "file_extension": ".py",
   "mimetype": "text/x-python",
   "name": "python",
   "nbconvert_exporter": "python",
   "pygments_lexer": "ipython3",
   "version": "3.11.5"
  }
 },
 "nbformat": 4,
 "nbformat_minor": 5
}
