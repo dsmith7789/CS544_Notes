{
 "cells": [
  {
   "cell_type": "code",
   "execution_count": 1,
   "id": "5e100207-1a11-4867-8da5-cfcf04db83e1",
   "metadata": {},
   "outputs": [],
   "source": [
    "import threading"
   ]
  },
  {
   "cell_type": "code",
   "execution_count": 9,
   "id": "aec42a1d-10a0-4006-9fbf-29b05fbae3ac",
   "metadata": {},
   "outputs": [
    {
     "name": "stdout",
     "output_type": "stream",
     "text": [
      "Hello World, from thread #89!\n",
      "Hello from the main thread, #26\n"
     ]
    }
   ],
   "source": [
    "def task():\n",
    "    print(f\"Hello World, from thread #{threading.get_native_id()}!\")\n",
    "\n",
    "t = threading.Thread(target=task)  # not task(), don't want to call function immediately\n",
    "t.start()\n",
    "print(f\"Hello from the main thread, #{threading.get_native_id()}\")"
   ]
  },
  {
   "cell_type": "code",
   "execution_count": 20,
   "id": "a88b8589-e176-456a-ba74-c354e866478b",
   "metadata": {},
   "outputs": [
    {
     "name": "stdout",
     "output_type": "stream",
     "text": [
      "Without joining (incorrect): 788819340\n",
      "Using joining (correct): 499999500000\n"
     ]
    }
   ],
   "source": [
    "total = 0\n",
    "\n",
    "def add(count):\n",
    "    global total\n",
    "    for i in range(count):\n",
    "        total += i\n",
    "\n",
    "t = threading.Thread(target=add, args=[1000000])\n",
    "t.start()\n",
    "print(f\"Without joining (incorrect): {total}\") # the answer is changing here??? Race condition between adding and printing threads; who gets further first determines output\n",
    "t.join() # <-- add this to ensure t completes before advancing past this point\n",
    "print(f\"Using joining (correct): {total}\")"
   ]
  },
  {
   "cell_type": "code",
   "execution_count": null,
   "id": "0dd264c0-a11d-4a2c-bde2-c6a71f2233a5",
   "metadata": {},
   "outputs": [],
   "source": []
  }
 ],
 "metadata": {
  "kernelspec": {
   "display_name": "Python 3 (ipykernel)",
   "language": "python",
   "name": "python3"
  },
  "language_info": {
   "codemirror_mode": {
    "name": "ipython",
    "version": 3
   },
   "file_extension": ".py",
   "mimetype": "text/x-python",
   "name": "python",
   "nbconvert_exporter": "python",
   "pygments_lexer": "ipython3",
   "version": "3.11.5"
  }
 },
 "nbformat": 4,
 "nbformat_minor": 5
}
