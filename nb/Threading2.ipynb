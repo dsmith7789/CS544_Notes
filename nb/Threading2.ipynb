{
 "cells": [
  {
   "cell_type": "code",
   "execution_count": 12,
   "id": "c92c20c3-58e9-469e-84bb-679608cfb17c",
   "metadata": {},
   "outputs": [],
   "source": [
    "import threading\n",
    "import torch\n",
    "import time"
   ]
  },
  {
   "cell_type": "markdown",
   "id": "37319ffa-2f86-4023-8404-36ef08574347",
   "metadata": {},
   "source": [
    "Incorrect Result; Not protecting a critical section!"
   ]
  },
  {
   "cell_type": "code",
   "execution_count": 11,
   "id": "9d1978d7-8e2e-44a0-9a71-25c63e51f1c1",
   "metadata": {},
   "outputs": [
    {
     "name": "stdout",
     "output_type": "stream",
     "text": [
      "Incorrect total due to race condition on total between t1 and t2: 1999695\n"
     ]
    }
   ],
   "source": [
    "total = torch.tensor(0, dtype=torch.int32)\n",
    "\n",
    "def inc(count):\n",
    "    global total\n",
    "    for i in range(count):\n",
    "        total += 1\n",
    "\n",
    "t1 = threading.Thread(target=inc, args=[1_000_000])\n",
    "t2 = threading.Thread(target=inc, args=[1_000_000])\n",
    "t1.start()\n",
    "t2.start()\n",
    "t1.join()\n",
    "t2.join()\n",
    "print(f\"Incorrect total due to race condition on total between t1 and t2: {total}\") # should be 2_000_000, but we get less"
   ]
  },
  {
   "cell_type": "markdown",
   "id": "71765b59-5699-4397-bcf6-c5e9e81e71ce",
   "metadata": {},
   "source": [
    "Examine Bytecode to see how we get race condition"
   ]
  },
  {
   "cell_type": "code",
   "execution_count": 8,
   "id": "2e65ba32-ceeb-4f5a-ba63-1a9091e682b3",
   "metadata": {},
   "outputs": [
    {
     "name": "stdout",
     "output_type": "stream",
     "text": [
      "  0           0 RESUME                   0\n",
      "\n",
      "  1           2 LOAD_NAME                0 (total)\n",
      "              4 LOAD_NAME                1 (i)\n",
      "              6 BINARY_OP               13 (+=)\n",
      "             10 STORE_NAME               0 (total)\n",
      "             12 LOAD_CONST               0 (None)\n",
      "             14 RETURN_VALUE\n"
     ]
    }
   ],
   "source": [
    "import dis\n",
    "dis.dis(\"total += i\") # <-- looking at the bytecode, we can see there's potential for interleaving even in this 1 line"
   ]
  },
  {
   "cell_type": "markdown",
   "id": "b3f5c86d-bc0c-4e7c-82e0-037d98413988",
   "metadata": {},
   "source": [
    "Let's use Locks to protect our critical section, so only one thread can add to the total at any time"
   ]
  },
  {
   "cell_type": "code",
   "execution_count": 14,
   "id": "08a93685-fb54-4fe9-b1cd-029b4ad57752",
   "metadata": {},
   "outputs": [
    {
     "name": "stdout",
     "output_type": "stream",
     "text": [
      "Correct total after protecting critical section with locks: 2000000, took 36.96721053123474 seconds.\n"
     ]
    }
   ],
   "source": [
    "total = torch.tensor(0, dtype=torch.int32)\n",
    "lock = threading.Lock()\n",
    "\n",
    "def inc(count):\n",
    "    global total\n",
    "    for i in range(count):\n",
    "        lock.acquire()   # is this locking too fine grained? Hurts performance...\n",
    "        total += 1\n",
    "        lock.release()\n",
    "\n",
    "start = time.time()\n",
    "t1 = threading.Thread(target=inc, args=[1_000_000])\n",
    "t2 = threading.Thread(target=inc, args=[1_000_000])\n",
    "t1.start()\n",
    "t2.start()\n",
    "t1.join()\n",
    "t2.join()\n",
    "end = time.time()\n",
    "print(f\"Correct total after protecting critical section with locks: {total}, took {end - start} seconds.\") # 1_000_000 + 1_000_000 = 2_000_000"
   ]
  },
  {
   "cell_type": "markdown",
   "id": "1ec62f42-b097-4f79-a18f-5204ccd74d34",
   "metadata": {},
   "source": [
    "We can make the locking more coarse grained"
   ]
  },
  {
   "cell_type": "code",
   "execution_count": 15,
   "id": "df213742-8adc-4429-aa94-163321d2bbfc",
   "metadata": {},
   "outputs": [
    {
     "name": "stdout",
     "output_type": "stream",
     "text": [
      "Correct total after protecting critical section with locks: 2000000, took 8.609662532806396 seconds.\n"
     ]
    }
   ],
   "source": [
    "total = torch.tensor(0, dtype=torch.int32)\n",
    "lock = threading.Lock()\n",
    "\n",
    "def inc(count):\n",
    "    global total\n",
    "    lock.acquire()   # Do the whole loop, runs faster now\n",
    "    for i in range(count):\n",
    "        total += 1\n",
    "    lock.release()\n",
    "\n",
    "start = time.time()\n",
    "t1 = threading.Thread(target=inc, args=[1_000_000])\n",
    "t2 = threading.Thread(target=inc, args=[1_000_000])\n",
    "t1.start()\n",
    "t2.start()\n",
    "t1.join()\n",
    "t2.join()\n",
    "end = time.time()\n",
    "print(f\"Correct total after protecting critical section with locks: {total}, took {end - start} seconds.\") # 1_000_000 + 1_000_000 = 2_000_000"
   ]
  },
  {
   "cell_type": "markdown",
   "id": "a6ba390c-b30a-4f26-b04a-2fa452e1cb56",
   "metadata": {},
   "source": [
    "Bank Account Example (Critical Sections; Deadlock)"
   ]
  },
  {
   "cell_type": "code",
   "execution_count": 22,
   "id": "6463928f-66b1-4400-857d-034f5ed72c6a",
   "metadata": {},
   "outputs": [],
   "source": [
    "bank_accounts = {\"x\": 25, \"y\": 100, \"z\": 200} # in dollars\n",
    "lock = threading.Lock() # protects bank_accounts\n",
    "\n",
    "def transfer(src, dst, amount):\n",
    "    lock.acquire()\n",
    "    success = False\n",
    "    if bank_accounts[src] >= amount:\n",
    "        bank_accounts[src] -= amount\n",
    "        bank_accounts[dst] += amount\n",
    "        success = True\n",
    "    print(\"transferred\" if success else \"denied\")\n",
    "    lock.release()\n",
    "\n",
    "#transfer(\"w\", \"x\", 10) # gives exception because key doesn't exist in dict!\n",
    "    \n",
    "# the way the code is written, we acquire lock first and then run into exception so it never gets released\n",
    "# therefore, no other threads can acquire the lock --> DEADLOCK"
   ]
  },
  {
   "cell_type": "markdown",
   "id": "763caa10-7288-4685-8771-302e02c964a3",
   "metadata": {},
   "source": [
    "Using Python Lock Auto-Handling"
   ]
  },
  {
   "cell_type": "code",
   "execution_count": null,
   "id": "3d31b699-a4d2-4751-8d80-71d10244531e",
   "metadata": {},
   "outputs": [],
   "source": [
    "bank_accounts = {\"x\": 25, \"y\": 100, \"z\": 200} # in dollars\n",
    "lock = threading.Lock() # protects bank_accounts\n",
    "\n",
    "def transfer(src, dst, amount):\n",
    "    with lock: # acquires/locks automatically, and handles exceptions for us\n",
    "        # lock.acquire() <-- not needed anymore\n",
    "        success = False\n",
    "        if bank_accounts[src] >= amount:\n",
    "            bank_accounts[src] -= amount\n",
    "            bank_accounts[dst] += amount\n",
    "            success = True\n",
    "        print(\"transferred\" if success else \"denied\")\n",
    "        # lock.release() <-- not needed anymore"
   ]
  }
 ],
 "metadata": {
  "kernelspec": {
   "display_name": "Python 3 (ipykernel)",
   "language": "python",
   "name": "python3"
  },
  "language_info": {
   "codemirror_mode": {
    "name": "ipython",
    "version": 3
   },
   "file_extension": ".py",
   "mimetype": "text/x-python",
   "name": "python",
   "nbconvert_exporter": "python",
   "pygments_lexer": "ipython3",
   "version": "3.11.5"
  }
 },
 "nbformat": 4,
 "nbformat_minor": 5
}
