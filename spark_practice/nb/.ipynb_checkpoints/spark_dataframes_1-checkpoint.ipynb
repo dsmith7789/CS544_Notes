{
 "cells": [
  {
   "cell_type": "code",
   "execution_count": 1,
   "id": "b88918b5-c599-47e6-8065-7232e7f06bae",
   "metadata": {},
   "outputs": [
    {
     "name": "stderr",
     "output_type": "stream",
     "text": [
      "Setting default log level to \"WARN\".\n",
      "To adjust logging level use sc.setLogLevel(newLevel). For SparkR, use setLogLevel(newLevel).\n",
      "23/11/02 03:49:45 WARN NativeCodeLoader: Unable to load native-hadoop library for your platform... using builtin-java classes where applicable\n"
     ]
    }
   ],
   "source": [
    "from pyspark.sql import SparkSession\n",
    "# SparkSession only takes in 1 argument, it uses these functions to set attributes and then returns itself\n",
    "# slow because it has to setup the JVM (and other steps)\n",
    "spark = (SparkSession.builder.appName(\"cs544\")\n",
    "         .master(\"spark://boss:7077\")\n",
    "         .config(\"spark.executor.memory\", \"512M\")\n",
    "         .getOrCreate())"
   ]
  },
  {
   "cell_type": "code",
   "execution_count": 2,
   "id": "0c7fa244-7c2f-4196-a60e-699e5c28e874",
   "metadata": {},
   "outputs": [],
   "source": [
    "sc = spark.sparkContext"
   ]
  },
  {
   "cell_type": "code",
   "execution_count": 3,
   "id": "4ee1d6f8-6aea-40b3-808f-21c885660001",
   "metadata": {},
   "outputs": [
    {
     "name": "stdout",
     "output_type": "stream",
     "text": [
      "--2023-11-02 03:51:18--  https://pages.cs.wisc.edu/~harter/cs544/data/ghcnd-stations.txt\n",
      "Resolving pages.cs.wisc.edu (pages.cs.wisc.edu)... 128.105.7.9\n",
      "Connecting to pages.cs.wisc.edu (pages.cs.wisc.edu)|128.105.7.9|:443... connected.\n",
      "HTTP request sent, awaiting response... 200 OK\n",
      "Length: 10607756 (10M) [text/plain]\n",
      "Saving to: ‘ghcnd-stations.txt’\n",
      "\n",
      "ghcnd-stations.txt  100%[===================>]  10.12M  14.8MB/s    in 0.7s    \n",
      "\n",
      "2023-11-02 03:51:19 (14.8 MB/s) - ‘ghcnd-stations.txt’ saved [10607756/10607756]\n",
      "\n"
     ]
    }
   ],
   "source": [
    "!wget -nc https://pages.cs.wisc.edu/~harter/cs544/data/ghcnd-stations.txt"
   ]
  },
  {
   "cell_type": "code",
   "execution_count": 6,
   "id": "2893e31f-25dc-4ea9-b679-5075afe06f88",
   "metadata": {},
   "outputs": [
    {
     "data": {
      "text/plain": [
       "DataFrame[value: string]"
      ]
     },
     "execution_count": 6,
     "metadata": {},
     "output_type": "execute_result"
    }
   ],
   "source": [
    "df = spark.read.text(\"ghcnd-stations.txt\")\n",
    "df"
   ]
  },
  {
   "cell_type": "code",
   "execution_count": 7,
   "id": "faeb550c-88ca-4842-ba94-eb149ecd71c5",
   "metadata": {},
   "outputs": [
    {
     "data": {
      "text/plain": [
       "(pyspark.sql.dataframe.DataFrame, pyspark.rdd.RDD)"
      ]
     },
     "execution_count": 7,
     "metadata": {},
     "output_type": "execute_result"
    }
   ],
   "source": [
    "type(df), type(df.rdd)"
   ]
  },
  {
   "cell_type": "code",
   "execution_count": null,
   "id": "65f0b18c-a188-4331-b3fa-18fbcd13136e",
   "metadata": {},
   "outputs": [],
   "source": [
    "# the file doesn't exist? ---> that's because we need to put it in HDFS so that the Spark workers can access it\n",
    "# df.take(10)"
   ]
  },
  {
   "cell_type": "code",
   "execution_count": 10,
   "id": "df71a522-4da5-4f2f-9dcf-39b699f61b5c",
   "metadata": {},
   "outputs": [],
   "source": [
    "! hdfs dfs -cp ghcnd-stations.txt hdfs://nn:9000/"
   ]
  },
  {
   "cell_type": "code",
   "execution_count": 12,
   "id": "1fdb2d37-bcc6-4ba4-a1e4-0bf3fe15b5eb",
   "metadata": {},
   "outputs": [
    {
     "name": "stdout",
     "output_type": "stream",
     "text": [
      "Found 1 items\n",
      "-rw-r--r--   3 root supergroup   10607756 2023-11-02 04:06 hdfs://nn:9000/ghcnd-stations.txt\n"
     ]
    }
   ],
   "source": [
    "# now we can tell that the file is in HDFS\n",
    "! hdfs dfs -ls hdfs://nn:9000/"
   ]
  },
  {
   "cell_type": "code",
   "execution_count": 13,
   "id": "b64df27e-fd5b-4333-9b25-f5afa667e345",
   "metadata": {},
   "outputs": [],
   "source": [
    "df = spark.read.text(\"hdfs://nn:9000/ghcnd-stations.txt\")"
   ]
  },
  {
   "cell_type": "code",
   "execution_count": 15,
   "id": "3e0c95e5-978f-4d46-8d80-bd2871b19aca",
   "metadata": {},
   "outputs": [
    {
     "name": "stdout",
     "output_type": "stream",
     "text": [
      "ACW00011604  17.1167  -61.7833   10.1    ST JOHNS COOLIDGE FLD                       \n",
      "ACW00011647  17.1333  -61.7833   19.2    ST JOHNS                                    \n",
      "AE000041196  25.3330   55.5170   34.0    SHARJAH INTER. AIRP            GSN     41196\n",
      "AEM00041194  25.2550   55.3640   10.4    DUBAI INTL                             41194\n",
      "AEM00041217  24.4330   54.6510   26.8    ABU DHABI INTL                         41217\n",
      "AEM00041218  24.2620   55.6090  264.9    AL AIN INTL                            41218\n",
      "AF000040930  35.3170   69.0170 3366.0    NORTH-SALANG                   GSN     40930\n",
      "AFM00040938  34.2100   62.2280  977.2    HERAT                                  40938\n",
      "AFM00040948  34.5660   69.2120 1791.3    KABUL INTL                             40948\n",
      "AFM00040990  31.5000   65.8500 1010.0    KANDAHAR AIRPORT                       40990\n"
     ]
    }
   ],
   "source": [
    "! head ghcnd-stations.txt"
   ]
  },
  {
   "cell_type": "code",
   "execution_count": 16,
   "id": "a59f2d32-aa87-477c-904d-24d73838cc09",
   "metadata": {},
   "outputs": [
    {
     "data": {
      "text/plain": [
       "[Row(value='ACW00011604  17.1167  -61.7833   10.1    ST JOHNS COOLIDGE FLD                       '),\n",
       " Row(value='ACW00011647  17.1333  -61.7833   19.2    ST JOHNS                                    '),\n",
       " Row(value='AE000041196  25.3330   55.5170   34.0    SHARJAH INTER. AIRP            GSN     41196'),\n",
       " Row(value='AEM00041194  25.2550   55.3640   10.4    DUBAI INTL                             41194'),\n",
       " Row(value='AEM00041217  24.4330   54.6510   26.8    ABU DHABI INTL                         41217'),\n",
       " Row(value='AEM00041218  24.2620   55.6090  264.9    AL AIN INTL                            41218'),\n",
       " Row(value='AF000040930  35.3170   69.0170 3366.0    NORTH-SALANG                   GSN     40930'),\n",
       " Row(value='AFM00040938  34.2100   62.2280  977.2    HERAT                                  40938'),\n",
       " Row(value='AFM00040948  34.5660   69.2120 1791.3    KABUL INTL                             40948'),\n",
       " Row(value='AFM00040990  31.5000   65.8500 1010.0    KANDAHAR AIRPORT                       40990')]"
      ]
     },
     "execution_count": 16,
     "metadata": {},
     "output_type": "execute_result"
    }
   ],
   "source": [
    "df.take(10)  # we can see the rows from the file in our DataFrame"
   ]
  },
  {
   "cell_type": "code",
   "execution_count": 18,
   "id": "54d0c7f9-cead-48d8-8fd8-012ea3de4acb",
   "metadata": {},
   "outputs": [
    {
     "data": {
      "text/html": [
       "<div>\n",
       "<style scoped>\n",
       "    .dataframe tbody tr th:only-of-type {\n",
       "        vertical-align: middle;\n",
       "    }\n",
       "\n",
       "    .dataframe tbody tr th {\n",
       "        vertical-align: top;\n",
       "    }\n",
       "\n",
       "    .dataframe thead th {\n",
       "        text-align: right;\n",
       "    }\n",
       "</style>\n",
       "<table border=\"1\" class=\"dataframe\">\n",
       "  <thead>\n",
       "    <tr style=\"text-align: right;\">\n",
       "      <th></th>\n",
       "      <th>value</th>\n",
       "    </tr>\n",
       "  </thead>\n",
       "  <tbody>\n",
       "    <tr>\n",
       "      <th>0</th>\n",
       "      <td>ACW00011604  17.1167  -61.7833   10.1    ST JO...</td>\n",
       "    </tr>\n",
       "    <tr>\n",
       "      <th>1</th>\n",
       "      <td>ACW00011647  17.1333  -61.7833   19.2    ST JO...</td>\n",
       "    </tr>\n",
       "    <tr>\n",
       "      <th>2</th>\n",
       "      <td>AE000041196  25.3330   55.5170   34.0    SHARJ...</td>\n",
       "    </tr>\n",
       "    <tr>\n",
       "      <th>3</th>\n",
       "      <td>AEM00041194  25.2550   55.3640   10.4    DUBAI...</td>\n",
       "    </tr>\n",
       "    <tr>\n",
       "      <th>4</th>\n",
       "      <td>AEM00041217  24.4330   54.6510   26.8    ABU D...</td>\n",
       "    </tr>\n",
       "    <tr>\n",
       "      <th>5</th>\n",
       "      <td>AEM00041218  24.2620   55.6090  264.9    AL AI...</td>\n",
       "    </tr>\n",
       "    <tr>\n",
       "      <th>6</th>\n",
       "      <td>AF000040930  35.3170   69.0170 3366.0    NORTH...</td>\n",
       "    </tr>\n",
       "    <tr>\n",
       "      <th>7</th>\n",
       "      <td>AFM00040938  34.2100   62.2280  977.2    HERAT...</td>\n",
       "    </tr>\n",
       "    <tr>\n",
       "      <th>8</th>\n",
       "      <td>AFM00040948  34.5660   69.2120 1791.3    KABUL...</td>\n",
       "    </tr>\n",
       "    <tr>\n",
       "      <th>9</th>\n",
       "      <td>AFM00040990  31.5000   65.8500 1010.0    KANDA...</td>\n",
       "    </tr>\n",
       "  </tbody>\n",
       "</table>\n",
       "</div>"
      ],
      "text/plain": [
       "                                               value\n",
       "0  ACW00011604  17.1167  -61.7833   10.1    ST JO...\n",
       "1  ACW00011647  17.1333  -61.7833   19.2    ST JO...\n",
       "2  AE000041196  25.3330   55.5170   34.0    SHARJ...\n",
       "3  AEM00041194  25.2550   55.3640   10.4    DUBAI...\n",
       "4  AEM00041217  24.4330   54.6510   26.8    ABU D...\n",
       "5  AEM00041218  24.2620   55.6090  264.9    AL AI...\n",
       "6  AF000040930  35.3170   69.0170 3366.0    NORTH...\n",
       "7  AFM00040938  34.2100   62.2280  977.2    HERAT...\n",
       "8  AFM00040948  34.5660   69.2120 1791.3    KABUL...\n",
       "9  AFM00040990  31.5000   65.8500 1010.0    KANDA..."
      ]
     },
     "execution_count": 18,
     "metadata": {},
     "output_type": "execute_result"
    }
   ],
   "source": [
    "# to make the output easier to read, can move to a Pandas dataframe\n",
    "# but be careful not to load too much into Pandas (then it's only on 1 computer's memory)\n",
    "pandas_df = df.limit(10).toPandas()\n",
    "pandas_df   # this is all bunched up though, can we extract a column of only the station ID?"
   ]
  },
  {
   "cell_type": "markdown",
   "id": "67d89513-dfcb-4a34-9961-3f267c4c3cac",
   "metadata": {},
   "source": [
    "#### Extract station ID using Pandas"
   ]
  },
  {
   "cell_type": "code",
   "execution_count": 24,
   "id": "55651fca-13d9-4d4f-a111-568f9e91a633",
   "metadata": {},
   "outputs": [
    {
     "data": {
      "text/html": [
       "<div>\n",
       "<style scoped>\n",
       "    .dataframe tbody tr th:only-of-type {\n",
       "        vertical-align: middle;\n",
       "    }\n",
       "\n",
       "    .dataframe tbody tr th {\n",
       "        vertical-align: top;\n",
       "    }\n",
       "\n",
       "    .dataframe thead th {\n",
       "        text-align: right;\n",
       "    }\n",
       "</style>\n",
       "<table border=\"1\" class=\"dataframe\">\n",
       "  <thead>\n",
       "    <tr style=\"text-align: right;\">\n",
       "      <th></th>\n",
       "      <th>value</th>\n",
       "      <th>station</th>\n",
       "    </tr>\n",
       "  </thead>\n",
       "  <tbody>\n",
       "    <tr>\n",
       "      <th>0</th>\n",
       "      <td>ACW00011604  17.1167  -61.7833   10.1    ST JO...</td>\n",
       "      <td>ACW00011604</td>\n",
       "    </tr>\n",
       "    <tr>\n",
       "      <th>1</th>\n",
       "      <td>ACW00011647  17.1333  -61.7833   19.2    ST JO...</td>\n",
       "      <td>ACW00011647</td>\n",
       "    </tr>\n",
       "    <tr>\n",
       "      <th>2</th>\n",
       "      <td>AE000041196  25.3330   55.5170   34.0    SHARJ...</td>\n",
       "      <td>AE000041196</td>\n",
       "    </tr>\n",
       "    <tr>\n",
       "      <th>3</th>\n",
       "      <td>AEM00041194  25.2550   55.3640   10.4    DUBAI...</td>\n",
       "      <td>AEM00041194</td>\n",
       "    </tr>\n",
       "    <tr>\n",
       "      <th>4</th>\n",
       "      <td>AEM00041217  24.4330   54.6510   26.8    ABU D...</td>\n",
       "      <td>AEM00041217</td>\n",
       "    </tr>\n",
       "    <tr>\n",
       "      <th>5</th>\n",
       "      <td>AEM00041218  24.2620   55.6090  264.9    AL AI...</td>\n",
       "      <td>AEM00041218</td>\n",
       "    </tr>\n",
       "    <tr>\n",
       "      <th>6</th>\n",
       "      <td>AF000040930  35.3170   69.0170 3366.0    NORTH...</td>\n",
       "      <td>AF000040930</td>\n",
       "    </tr>\n",
       "    <tr>\n",
       "      <th>7</th>\n",
       "      <td>AFM00040938  34.2100   62.2280  977.2    HERAT...</td>\n",
       "      <td>AFM00040938</td>\n",
       "    </tr>\n",
       "    <tr>\n",
       "      <th>8</th>\n",
       "      <td>AFM00040948  34.5660   69.2120 1791.3    KABUL...</td>\n",
       "      <td>AFM00040948</td>\n",
       "    </tr>\n",
       "    <tr>\n",
       "      <th>9</th>\n",
       "      <td>AFM00040990  31.5000   65.8500 1010.0    KANDA...</td>\n",
       "      <td>AFM00040990</td>\n",
       "    </tr>\n",
       "  </tbody>\n",
       "</table>\n",
       "</div>"
      ],
      "text/plain": [
       "                                               value      station\n",
       "0  ACW00011604  17.1167  -61.7833   10.1    ST JO...  ACW00011604\n",
       "1  ACW00011647  17.1333  -61.7833   19.2    ST JO...  ACW00011647\n",
       "2  AE000041196  25.3330   55.5170   34.0    SHARJ...  AE000041196\n",
       "3  AEM00041194  25.2550   55.3640   10.4    DUBAI...  AEM00041194\n",
       "4  AEM00041217  24.4330   54.6510   26.8    ABU D...  AEM00041217\n",
       "5  AEM00041218  24.2620   55.6090  264.9    AL AI...  AEM00041218\n",
       "6  AF000040930  35.3170   69.0170 3366.0    NORTH...  AF000040930\n",
       "7  AFM00040938  34.2100   62.2280  977.2    HERAT...  AFM00040938\n",
       "8  AFM00040948  34.5660   69.2120 1791.3    KABUL...  AFM00040948\n",
       "9  AFM00040990  31.5000   65.8500 1010.0    KANDA...  AFM00040990"
      ]
     },
     "execution_count": 24,
     "metadata": {},
     "output_type": "execute_result"
    }
   ],
   "source": [
    "# pandas DataFrames are mutable\n",
    "pandas_df[\"station\"] = pandas_df[\"value\"].str[ : 11]    # all station IDs are 11 char long, so this slicing works\n",
    "pandas_df"
   ]
  },
  {
   "cell_type": "markdown",
   "id": "58360136-6b78-4752-bb27-b436f14d2fb9",
   "metadata": {},
   "source": [
    "#### Extract station ID using Spark"
   ]
  },
  {
   "cell_type": "code",
   "execution_count": 25,
   "id": "7592aae6-8337-468c-9566-0fb544f07d5e",
   "metadata": {},
   "outputs": [],
   "source": [
    "# Spark DataFrames are immutable, so we can't just put an extra column in there"
   ]
  },
  {
   "cell_type": "code",
   "execution_count": 26,
   "id": "45c2f369-2f90-4f3b-bfc1-f8ba82287b4d",
   "metadata": {},
   "outputs": [],
   "source": [
    "from pyspark.sql.functions import expr, col"
   ]
  },
  {
   "cell_type": "code",
   "execution_count": 27,
   "id": "ce304513-c520-462a-a867-30ccf790df80",
   "metadata": {},
   "outputs": [
    {
     "data": {
      "text/plain": [
       "Column<'substring(value, 0, 11)'>"
      ]
     },
     "execution_count": 27,
     "metadata": {},
     "output_type": "execute_result"
    }
   ],
   "source": [
    "# expr(\"SQL STUFF HERE\")\n",
    "expr(\"substring(value, 0, 11)\")   # only a demo of how expr works"
   ]
  },
  {
   "cell_type": "code",
   "execution_count": 28,
   "id": "22abad4e-0566-4d1b-89f6-7a85f155c285",
   "metadata": {},
   "outputs": [],
   "source": [
    "# df.withColumn(COLUMN NAME, EXPRESSION)\n",
    "df2 = df.withColumn(\"station\", expr(\"substring(value, 0, 11)\"))"
   ]
  },
  {
   "cell_type": "code",
   "execution_count": 32,
   "id": "0a4b0675-e8fd-435b-bb34-1f6c3de356e2",
   "metadata": {},
   "outputs": [
    {
     "data": {
      "text/html": [
       "<div>\n",
       "<style scoped>\n",
       "    .dataframe tbody tr th:only-of-type {\n",
       "        vertical-align: middle;\n",
       "    }\n",
       "\n",
       "    .dataframe tbody tr th {\n",
       "        vertical-align: top;\n",
       "    }\n",
       "\n",
       "    .dataframe thead th {\n",
       "        text-align: right;\n",
       "    }\n",
       "</style>\n",
       "<table border=\"1\" class=\"dataframe\">\n",
       "  <thead>\n",
       "    <tr style=\"text-align: right;\">\n",
       "      <th></th>\n",
       "      <th>value</th>\n",
       "      <th>station</th>\n",
       "    </tr>\n",
       "  </thead>\n",
       "  <tbody>\n",
       "    <tr>\n",
       "      <th>0</th>\n",
       "      <td>ACW00011604  17.1167  -61.7833   10.1    ST JO...</td>\n",
       "      <td>ACW00011604</td>\n",
       "    </tr>\n",
       "    <tr>\n",
       "      <th>1</th>\n",
       "      <td>ACW00011647  17.1333  -61.7833   19.2    ST JO...</td>\n",
       "      <td>ACW00011647</td>\n",
       "    </tr>\n",
       "    <tr>\n",
       "      <th>2</th>\n",
       "      <td>AE000041196  25.3330   55.5170   34.0    SHARJ...</td>\n",
       "      <td>AE000041196</td>\n",
       "    </tr>\n",
       "    <tr>\n",
       "      <th>3</th>\n",
       "      <td>AEM00041194  25.2550   55.3640   10.4    DUBAI...</td>\n",
       "      <td>AEM00041194</td>\n",
       "    </tr>\n",
       "    <tr>\n",
       "      <th>4</th>\n",
       "      <td>AEM00041217  24.4330   54.6510   26.8    ABU D...</td>\n",
       "      <td>AEM00041217</td>\n",
       "    </tr>\n",
       "    <tr>\n",
       "      <th>5</th>\n",
       "      <td>AEM00041218  24.2620   55.6090  264.9    AL AI...</td>\n",
       "      <td>AEM00041218</td>\n",
       "    </tr>\n",
       "    <tr>\n",
       "      <th>6</th>\n",
       "      <td>AF000040930  35.3170   69.0170 3366.0    NORTH...</td>\n",
       "      <td>AF000040930</td>\n",
       "    </tr>\n",
       "    <tr>\n",
       "      <th>7</th>\n",
       "      <td>AFM00040938  34.2100   62.2280  977.2    HERAT...</td>\n",
       "      <td>AFM00040938</td>\n",
       "    </tr>\n",
       "    <tr>\n",
       "      <th>8</th>\n",
       "      <td>AFM00040948  34.5660   69.2120 1791.3    KABUL...</td>\n",
       "      <td>AFM00040948</td>\n",
       "    </tr>\n",
       "    <tr>\n",
       "      <th>9</th>\n",
       "      <td>AFM00040990  31.5000   65.8500 1010.0    KANDA...</td>\n",
       "      <td>AFM00040990</td>\n",
       "    </tr>\n",
       "  </tbody>\n",
       "</table>\n",
       "</div>"
      ],
      "text/plain": [
       "                                               value      station\n",
       "0  ACW00011604  17.1167  -61.7833   10.1    ST JO...  ACW00011604\n",
       "1  ACW00011647  17.1333  -61.7833   19.2    ST JO...  ACW00011647\n",
       "2  AE000041196  25.3330   55.5170   34.0    SHARJ...  AE000041196\n",
       "3  AEM00041194  25.2550   55.3640   10.4    DUBAI...  AEM00041194\n",
       "4  AEM00041217  24.4330   54.6510   26.8    ABU D...  AEM00041217\n",
       "5  AEM00041218  24.2620   55.6090  264.9    AL AI...  AEM00041218\n",
       "6  AF000040930  35.3170   69.0170 3366.0    NORTH...  AF000040930\n",
       "7  AFM00040938  34.2100   62.2280  977.2    HERAT...  AFM00040938\n",
       "8  AFM00040948  34.5660   69.2120 1791.3    KABUL...  AFM00040948\n",
       "9  AFM00040990  31.5000   65.8500 1010.0    KANDA...  AFM00040990"
      ]
     },
     "execution_count": 32,
     "metadata": {},
     "output_type": "execute_result"
    }
   ],
   "source": [
    "df2.limit(10).toPandas()    # same result as with Pandas\n",
    "\n",
    "# Spark disadvantages: more work to do the same result as Pandas\n",
    "# Spark advantages: use many machines, use Spark optimizer (rearrange RDDs to make query faster), \n",
    "#     don't need whole dataset in RAM at the same time (or even in the cumulative RAM of all machines)"
   ]
  },
  {
   "cell_type": "code",
   "execution_count": null,
   "id": "b4dbd864-2d07-4d56-a55c-b3703a13ec3f",
   "metadata": {},
   "outputs": [],
   "source": []
  }
 ],
 "metadata": {
  "kernelspec": {
   "display_name": "Python 3 (ipykernel)",
   "language": "python",
   "name": "python3"
  },
  "language_info": {
   "codemirror_mode": {
    "name": "ipython",
    "version": 3
   },
   "file_extension": ".py",
   "mimetype": "text/x-python",
   "name": "python",
   "nbconvert_exporter": "python",
   "pygments_lexer": "ipython3",
   "version": "3.10.12"
  }
 },
 "nbformat": 4,
 "nbformat_minor": 5
}
