{
 "cells": [
  {
   "cell_type": "code",
   "execution_count": 3,
   "id": "bf657b52-62c1-466e-bc9b-c441d9ff426a",
   "metadata": {},
   "outputs": [
    {
     "name": "stdout",
     "output_type": "stream",
     "text": [
      "total 521M\n",
      "drwxr-xr-x 3 root root 4.0K Nov  2 19:34 .\n",
      "drwxr-xr-x 1 root root 4.0K Nov  2 02:37 ..\n",
      "drwxr-xr-x 2 root root 4.0K Nov  2 19:32 .ipynb_checkpoints\n",
      "-rw-r--r-- 1 root root 2.3K Nov  2 19:34 Untitled.ipynb\n",
      "-rw-r--r-- 1 root root  11M Jan 12  2023 ghcnd-stations.txt\n",
      "-rw-r--r-- 1 root root 511M Mar  4  2023 sf.zip\n",
      "-rw-r--r-- 1 root root  21K Nov  2 19:31 spark_dataframes_1.ipynb\n",
      "-rw-r--r-- 1 root root  36K Nov  2 02:50 spark_demo_1.ipynb\n",
      "-rw-r--r-- 1 root root  13K Nov  2 03:48 spark_demo_2.ipynb\n"
     ]
    }
   ],
   "source": [
    "!ls -lah"
   ]
  },
  {
   "cell_type": "code",
   "execution_count": 2,
   "id": "66d09ae4-6b1d-411f-a959-80ddaec94239",
   "metadata": {},
   "outputs": [
    {
     "name": "stdout",
     "output_type": "stream",
     "text": [
      "--2023-11-02 19:33:37--  https://pages.cs.wisc.edu/~harter/cs544/data/sf.zip\n",
      "Resolving pages.cs.wisc.edu (pages.cs.wisc.edu)... 128.105.7.9\n",
      "Connecting to pages.cs.wisc.edu (pages.cs.wisc.edu)|128.105.7.9|:443... connected.\n",
      "HTTP request sent, awaiting response... 200 OK\n",
      "Length: 534803160 (510M) [application/zip]\n",
      "Saving to: ‘sf.zip’\n",
      "\n",
      "sf.zip              100%[===================>] 510.03M  8.14MB/s    in 38s     \n",
      "\n",
      "2023-11-02 19:34:15 (13.5 MB/s) - ‘sf.zip’ saved [534803160/534803160]\n",
      "\n"
     ]
    }
   ],
   "source": [
    "! wget -nc https://pages.cs.wisc.edu/~harter/cs544/data/sf.zip"
   ]
  },
  {
   "cell_type": "code",
   "execution_count": 2,
   "id": "1c110dbd-5842-4645-a756-19bba5aa5da5",
   "metadata": {},
   "outputs": [
    {
     "name": "stderr",
     "output_type": "stream",
     "text": [
      "Setting default log level to \"WARN\".\n",
      "To adjust logging level use sc.setLogLevel(newLevel). For SparkR, use setLogLevel(newLevel).\n",
      "23/11/03 01:21:38 WARN NativeCodeLoader: Unable to load native-hadoop library for your platform... using builtin-java classes where applicable\n"
     ]
    }
   ],
   "source": [
    "# The Spark session is a little different this time\n",
    "# adding the Hive warehouse option (treat HDFS files as if they are SQL tables in a database)\n",
    "from pyspark.sql import SparkSession\n",
    "spark = (SparkSession.builder.appName(\"cs544\")\n",
    "         .master(\"spark://boss:7077\")\n",
    "         .config(\"spark.executor.memory\", \"512MB\")   # needed to increase this memory to fix the error (minimum of 450 MB)\n",
    "         .config(\"spark.sql.warehouse.dir\", \"hdfs://nn:9000/user/hive/warehouse\")\n",
    "         .enableHiveSupport()\n",
    "         .getOrCreate())"
   ]
  },
  {
   "cell_type": "code",
   "execution_count": 5,
   "id": "e6757fe2-578f-455d-8b25-45f0559259bb",
   "metadata": {},
   "outputs": [
    {
     "data": {
      "text/plain": [
       "450.0"
      ]
     },
     "execution_count": 5,
     "metadata": {},
     "output_type": "execute_result"
    }
   ],
   "source": [
    "# minimum Spark executor memory needed (from error) in MB = 450 MB\n",
    "471859200 / 1024**2"
   ]
  },
  {
   "cell_type": "code",
   "execution_count": 10,
   "id": "0f65290b-127c-4d27-8e50-eae63c49eb1c",
   "metadata": {},
   "outputs": [
    {
     "name": "stdout",
     "output_type": "stream",
     "text": [
      "Reading package lists... Done\n",
      "Building dependency tree... Done\n",
      "Reading state information... Done\n",
      "Suggested packages:\n",
      "  zip\n",
      "The following NEW packages will be installed:\n",
      "  unzip\n",
      "0 upgraded, 1 newly installed, 0 to remove and 0 not upgraded.\n",
      "Need to get 174 kB of archives.\n",
      "After this operation, 385 kB of additional disk space will be used.\n",
      "Get:1 http://archive.ubuntu.com/ubuntu jammy-updates/main amd64 unzip amd64 6.0-26ubuntu3.1 [174 kB]\n",
      "Fetched 174 kB in 1s (242 kB/s)\n",
      "debconf: delaying package configuration, since apt-utils is not installed\n",
      "Selecting previously unselected package unzip.\n",
      "(Reading database ... 20105 files and directories currently installed.)\n",
      "Preparing to unpack .../unzip_6.0-26ubuntu3.1_amd64.deb ...\n",
      "Unpacking unzip (6.0-26ubuntu3.1) ...\n",
      "Setting up unzip (6.0-26ubuntu3.1) ...\n"
     ]
    }
   ],
   "source": [
    "! apt-get install unzip"
   ]
  },
  {
   "cell_type": "code",
   "execution_count": 11,
   "id": "e1ea9682-7a8b-4888-8e07-be5d5dfff49e",
   "metadata": {},
   "outputs": [
    {
     "name": "stdout",
     "output_type": "stream",
     "text": [
      "Archive:  sf.zip\n",
      "  inflating: sf.csv                  \n"
     ]
    }
   ],
   "source": [
    "! unzip sf.zip"
   ]
  },
  {
   "cell_type": "code",
   "execution_count": 12,
   "id": "a58d3d30-4618-440f-87d9-2e852eced5cb",
   "metadata": {},
   "outputs": [],
   "source": [
    "! hdfs dfs -cp sf.csv hdfs://nn:9000/"
   ]
  },
  {
   "cell_type": "code",
   "execution_count": 13,
   "id": "2bc9b9d2-e2df-4386-8116-b582d40482f6",
   "metadata": {},
   "outputs": [
    {
     "name": "stdout",
     "output_type": "stream",
     "text": [
      "Found 2 items\n",
      "-rw-r--r--   3 root supergroup   10607756 2023-11-02 04:06 hdfs://nn:9000/ghcnd-stations.txt\n",
      "-rw-r--r--   3 root supergroup 2265533682 2023-11-02 20:24 hdfs://nn:9000/sf.csv\n"
     ]
    }
   ],
   "source": [
    "! hdfs dfs -ls hdfs://nn:9000/"
   ]
  },
  {
   "cell_type": "code",
   "execution_count": 15,
   "id": "ed3608a5-a348-46fe-9eaf-d58a5c0205a8",
   "metadata": {},
   "outputs": [],
   "source": [
    "df = spark.read.format(\"csv\").load(\"hdfs://nn:9000/sf.csv\")"
   ]
  },
  {
   "cell_type": "code",
   "execution_count": 17,
   "id": "4a1b446e-dd65-4a34-a7be-8970bbd18346",
   "metadata": {},
   "outputs": [
    {
     "name": "stderr",
     "output_type": "stream",
     "text": [
      "23/11/02 20:40:34 WARN SparkStringUtils: Truncated the string representation of a plan since it was too large. This behavior can be adjusted by setting 'spark.sql.debug.maxToStringFields'.\n",
      "                                                                                \r"
     ]
    },
    {
     "data": {
      "text/html": [
       "<div>\n",
       "<style scoped>\n",
       "    .dataframe tbody tr th:only-of-type {\n",
       "        vertical-align: middle;\n",
       "    }\n",
       "\n",
       "    .dataframe tbody tr th {\n",
       "        vertical-align: top;\n",
       "    }\n",
       "\n",
       "    .dataframe thead th {\n",
       "        text-align: right;\n",
       "    }\n",
       "</style>\n",
       "<table border=\"1\" class=\"dataframe\">\n",
       "  <thead>\n",
       "    <tr style=\"text-align: right;\">\n",
       "      <th></th>\n",
       "      <th>_c0</th>\n",
       "      <th>_c1</th>\n",
       "      <th>_c2</th>\n",
       "      <th>_c3</th>\n",
       "      <th>_c4</th>\n",
       "      <th>_c5</th>\n",
       "      <th>_c6</th>\n",
       "      <th>_c7</th>\n",
       "      <th>_c8</th>\n",
       "      <th>_c9</th>\n",
       "      <th>...</th>\n",
       "      <th>_c25</th>\n",
       "      <th>_c26</th>\n",
       "      <th>_c27</th>\n",
       "      <th>_c28</th>\n",
       "      <th>_c29</th>\n",
       "      <th>_c30</th>\n",
       "      <th>_c31</th>\n",
       "      <th>_c32</th>\n",
       "      <th>_c33</th>\n",
       "      <th>_c34</th>\n",
       "    </tr>\n",
       "  </thead>\n",
       "  <tbody>\n",
       "    <tr>\n",
       "      <th>0</th>\n",
       "      <td>Call Number</td>\n",
       "      <td>Unit ID</td>\n",
       "      <td>Incident Number</td>\n",
       "      <td>Call Type</td>\n",
       "      <td>Call Date</td>\n",
       "      <td>Watch Date</td>\n",
       "      <td>Received DtTm</td>\n",
       "      <td>Entry DtTm</td>\n",
       "      <td>Dispatch DtTm</td>\n",
       "      <td>Response DtTm</td>\n",
       "      <td>...</td>\n",
       "      <td>Call Type Group</td>\n",
       "      <td>Number of Alarms</td>\n",
       "      <td>Unit Type</td>\n",
       "      <td>Unit sequence in call dispatch</td>\n",
       "      <td>Fire Prevention District</td>\n",
       "      <td>Supervisor District</td>\n",
       "      <td>Neighborhooods - Analysis Boundaries</td>\n",
       "      <td>RowID</td>\n",
       "      <td>case_location</td>\n",
       "      <td>Analysis Neighborhoods</td>\n",
       "    </tr>\n",
       "    <tr>\n",
       "      <th>1</th>\n",
       "      <td>221210313</td>\n",
       "      <td>E36</td>\n",
       "      <td>22054955</td>\n",
       "      <td>Outside Fire</td>\n",
       "      <td>05/01/2022</td>\n",
       "      <td>04/30/2022</td>\n",
       "      <td>05/01/2022 02:58:25 AM</td>\n",
       "      <td>05/01/2022 02:59:15 AM</td>\n",
       "      <td>05/01/2022 02:59:25 AM</td>\n",
       "      <td>05/01/2022 03:01:06 AM</td>\n",
       "      <td>...</td>\n",
       "      <td>Fire</td>\n",
       "      <td>1</td>\n",
       "      <td>ENGINE</td>\n",
       "      <td>1</td>\n",
       "      <td>2</td>\n",
       "      <td>5</td>\n",
       "      <td>Hayes Valley</td>\n",
       "      <td>221210313-E36</td>\n",
       "      <td>POINT (-122.42316555403964 37.77781524520032)</td>\n",
       "      <td>9</td>\n",
       "    </tr>\n",
       "    <tr>\n",
       "      <th>2</th>\n",
       "      <td>220190150</td>\n",
       "      <td>E29</td>\n",
       "      <td>22008871</td>\n",
       "      <td>Alarms</td>\n",
       "      <td>01/19/2022</td>\n",
       "      <td>01/18/2022</td>\n",
       "      <td>01/19/2022 01:42:12 AM</td>\n",
       "      <td>01/19/2022 01:44:13 AM</td>\n",
       "      <td>01/19/2022 01:44:28 AM</td>\n",
       "      <td>01/19/2022 01:46:47 AM</td>\n",
       "      <td>...</td>\n",
       "      <td>Alarm</td>\n",
       "      <td>1</td>\n",
       "      <td>ENGINE</td>\n",
       "      <td>1</td>\n",
       "      <td>3</td>\n",
       "      <td>10</td>\n",
       "      <td>Potrero Hill</td>\n",
       "      <td>220190150-E29</td>\n",
       "      <td>POINT (-122.39469970274361 37.76460987856451)</td>\n",
       "      <td>26</td>\n",
       "    </tr>\n",
       "  </tbody>\n",
       "</table>\n",
       "<p>3 rows × 35 columns</p>\n",
       "</div>"
      ],
      "text/plain": [
       "           _c0      _c1              _c2           _c3         _c4  \\\n",
       "0  Call Number  Unit ID  Incident Number     Call Type   Call Date   \n",
       "1    221210313      E36         22054955  Outside Fire  05/01/2022   \n",
       "2    220190150      E29         22008871        Alarms  01/19/2022   \n",
       "\n",
       "          _c5                     _c6                     _c7  \\\n",
       "0  Watch Date           Received DtTm              Entry DtTm   \n",
       "1  04/30/2022  05/01/2022 02:58:25 AM  05/01/2022 02:59:15 AM   \n",
       "2  01/18/2022  01/19/2022 01:42:12 AM  01/19/2022 01:44:13 AM   \n",
       "\n",
       "                      _c8                     _c9  ...             _c25  \\\n",
       "0           Dispatch DtTm           Response DtTm  ...  Call Type Group   \n",
       "1  05/01/2022 02:59:25 AM  05/01/2022 03:01:06 AM  ...             Fire   \n",
       "2  01/19/2022 01:44:28 AM  01/19/2022 01:46:47 AM  ...            Alarm   \n",
       "\n",
       "               _c26       _c27                            _c28  \\\n",
       "0  Number of Alarms  Unit Type  Unit sequence in call dispatch   \n",
       "1                 1     ENGINE                               1   \n",
       "2                 1     ENGINE                               1   \n",
       "\n",
       "                       _c29                 _c30  \\\n",
       "0  Fire Prevention District  Supervisor District   \n",
       "1                         2                    5   \n",
       "2                         3                   10   \n",
       "\n",
       "                                   _c31           _c32  \\\n",
       "0  Neighborhooods - Analysis Boundaries          RowID   \n",
       "1                          Hayes Valley  221210313-E36   \n",
       "2                          Potrero Hill  220190150-E29   \n",
       "\n",
       "                                            _c33                    _c34  \n",
       "0                                  case_location  Analysis Neighborhoods  \n",
       "1  POINT (-122.42316555403964 37.77781524520032)                       9  \n",
       "2  POINT (-122.39469970274361 37.76460987856451)                      26  \n",
       "\n",
       "[3 rows x 35 columns]"
      ]
     },
     "execution_count": 17,
     "metadata": {},
     "output_type": "execute_result"
    }
   ],
   "source": [
    "df.limit(3).toPandas()    # Header row not being treated as a header"
   ]
  },
  {
   "cell_type": "code",
   "execution_count": 18,
   "id": "e7411125-6174-4b6b-8739-340f3d0dca9b",
   "metadata": {},
   "outputs": [
    {
     "name": "stderr",
     "output_type": "stream",
     "text": [
      "                                                                                \r"
     ]
    }
   ],
   "source": [
    "#df = spark.read.format(\"csv\").option(KEY, VALUE).load(\"hdfs://nn:9000/sf.csv\")\n",
    "df = (spark.read.format(\"csv\")\n",
    "      .option(\"header\", True)\n",
    "      .load(\"hdfs://nn:9000/sf.csv\"))"
   ]
  },
  {
   "cell_type": "code",
   "execution_count": 19,
   "id": "2a686839-6265-43a6-84b2-d9d5432c5aaa",
   "metadata": {},
   "outputs": [
    {
     "name": "stderr",
     "output_type": "stream",
     "text": [
      "                                                                                \r"
     ]
    },
    {
     "data": {
      "text/html": [
       "<div>\n",
       "<style scoped>\n",
       "    .dataframe tbody tr th:only-of-type {\n",
       "        vertical-align: middle;\n",
       "    }\n",
       "\n",
       "    .dataframe tbody tr th {\n",
       "        vertical-align: top;\n",
       "    }\n",
       "\n",
       "    .dataframe thead th {\n",
       "        text-align: right;\n",
       "    }\n",
       "</style>\n",
       "<table border=\"1\" class=\"dataframe\">\n",
       "  <thead>\n",
       "    <tr style=\"text-align: right;\">\n",
       "      <th></th>\n",
       "      <th>Call Number</th>\n",
       "      <th>Unit ID</th>\n",
       "      <th>Incident Number</th>\n",
       "      <th>Call Type</th>\n",
       "      <th>Call Date</th>\n",
       "      <th>Watch Date</th>\n",
       "      <th>Received DtTm</th>\n",
       "      <th>Entry DtTm</th>\n",
       "      <th>Dispatch DtTm</th>\n",
       "      <th>Response DtTm</th>\n",
       "      <th>...</th>\n",
       "      <th>Call Type Group</th>\n",
       "      <th>Number of Alarms</th>\n",
       "      <th>Unit Type</th>\n",
       "      <th>Unit sequence in call dispatch</th>\n",
       "      <th>Fire Prevention District</th>\n",
       "      <th>Supervisor District</th>\n",
       "      <th>Neighborhooods - Analysis Boundaries</th>\n",
       "      <th>RowID</th>\n",
       "      <th>case_location</th>\n",
       "      <th>Analysis Neighborhoods</th>\n",
       "    </tr>\n",
       "  </thead>\n",
       "  <tbody>\n",
       "    <tr>\n",
       "      <th>0</th>\n",
       "      <td>221210313</td>\n",
       "      <td>E36</td>\n",
       "      <td>22054955</td>\n",
       "      <td>Outside Fire</td>\n",
       "      <td>05/01/2022</td>\n",
       "      <td>04/30/2022</td>\n",
       "      <td>05/01/2022 02:58:25 AM</td>\n",
       "      <td>05/01/2022 02:59:15 AM</td>\n",
       "      <td>05/01/2022 02:59:25 AM</td>\n",
       "      <td>05/01/2022 03:01:06 AM</td>\n",
       "      <td>...</td>\n",
       "      <td>Fire</td>\n",
       "      <td>1</td>\n",
       "      <td>ENGINE</td>\n",
       "      <td>1</td>\n",
       "      <td>2</td>\n",
       "      <td>5</td>\n",
       "      <td>Hayes Valley</td>\n",
       "      <td>221210313-E36</td>\n",
       "      <td>POINT (-122.42316555403964 37.77781524520032)</td>\n",
       "      <td>9</td>\n",
       "    </tr>\n",
       "    <tr>\n",
       "      <th>1</th>\n",
       "      <td>220190150</td>\n",
       "      <td>E29</td>\n",
       "      <td>22008871</td>\n",
       "      <td>Alarms</td>\n",
       "      <td>01/19/2022</td>\n",
       "      <td>01/18/2022</td>\n",
       "      <td>01/19/2022 01:42:12 AM</td>\n",
       "      <td>01/19/2022 01:44:13 AM</td>\n",
       "      <td>01/19/2022 01:44:28 AM</td>\n",
       "      <td>01/19/2022 01:46:47 AM</td>\n",
       "      <td>...</td>\n",
       "      <td>Alarm</td>\n",
       "      <td>1</td>\n",
       "      <td>ENGINE</td>\n",
       "      <td>1</td>\n",
       "      <td>3</td>\n",
       "      <td>10</td>\n",
       "      <td>Potrero Hill</td>\n",
       "      <td>220190150-E29</td>\n",
       "      <td>POINT (-122.39469970274361 37.76460987856451)</td>\n",
       "      <td>26</td>\n",
       "    </tr>\n",
       "    <tr>\n",
       "      <th>2</th>\n",
       "      <td>211233271</td>\n",
       "      <td>T07</td>\n",
       "      <td>21053032</td>\n",
       "      <td>Alarms</td>\n",
       "      <td>05/03/2021</td>\n",
       "      <td>05/03/2021</td>\n",
       "      <td>05/03/2021 09:28:12 PM</td>\n",
       "      <td>05/03/2021 09:28:12 PM</td>\n",
       "      <td>05/03/2021 09:28:17 PM</td>\n",
       "      <td>05/03/2021 09:29:10 PM</td>\n",
       "      <td>...</td>\n",
       "      <td>Alarm</td>\n",
       "      <td>1</td>\n",
       "      <td>TRUCK</td>\n",
       "      <td>2</td>\n",
       "      <td>2</td>\n",
       "      <td>9</td>\n",
       "      <td>Mission</td>\n",
       "      <td>211233271-T07</td>\n",
       "      <td>POINT (-122.42057572093252 37.76418194637148)</td>\n",
       "      <td>20</td>\n",
       "    </tr>\n",
       "  </tbody>\n",
       "</table>\n",
       "<p>3 rows × 35 columns</p>\n",
       "</div>"
      ],
      "text/plain": [
       "  Call Number Unit ID Incident Number     Call Type   Call Date  Watch Date  \\\n",
       "0   221210313     E36        22054955  Outside Fire  05/01/2022  04/30/2022   \n",
       "1   220190150     E29        22008871        Alarms  01/19/2022  01/18/2022   \n",
       "2   211233271     T07        21053032        Alarms  05/03/2021  05/03/2021   \n",
       "\n",
       "            Received DtTm              Entry DtTm           Dispatch DtTm  \\\n",
       "0  05/01/2022 02:58:25 AM  05/01/2022 02:59:15 AM  05/01/2022 02:59:25 AM   \n",
       "1  01/19/2022 01:42:12 AM  01/19/2022 01:44:13 AM  01/19/2022 01:44:28 AM   \n",
       "2  05/03/2021 09:28:12 PM  05/03/2021 09:28:12 PM  05/03/2021 09:28:17 PM   \n",
       "\n",
       "            Response DtTm  ... Call Type Group Number of Alarms Unit Type  \\\n",
       "0  05/01/2022 03:01:06 AM  ...            Fire                1    ENGINE   \n",
       "1  01/19/2022 01:46:47 AM  ...           Alarm                1    ENGINE   \n",
       "2  05/03/2021 09:29:10 PM  ...           Alarm                1     TRUCK   \n",
       "\n",
       "  Unit sequence in call dispatch Fire Prevention District Supervisor District  \\\n",
       "0                              1                        2                   5   \n",
       "1                              1                        3                  10   \n",
       "2                              2                        2                   9   \n",
       "\n",
       "  Neighborhooods - Analysis Boundaries          RowID  \\\n",
       "0                         Hayes Valley  221210313-E36   \n",
       "1                         Potrero Hill  220190150-E29   \n",
       "2                              Mission  211233271-T07   \n",
       "\n",
       "                                   case_location Analysis Neighborhoods  \n",
       "0  POINT (-122.42316555403964 37.77781524520032)                      9  \n",
       "1  POINT (-122.39469970274361 37.76460987856451)                     26  \n",
       "2  POINT (-122.42057572093252 37.76418194637148)                     20  \n",
       "\n",
       "[3 rows x 35 columns]"
      ]
     },
     "execution_count": 19,
     "metadata": {},
     "output_type": "execute_result"
    }
   ],
   "source": [
    "df.limit(3).toPandas()    #  Now the header is loaded in properly"
   ]
  },
  {
   "cell_type": "code",
   "execution_count": 20,
   "id": "c3eebe8f-367c-463a-8e3a-6454d16405f2",
   "metadata": {},
   "outputs": [
    {
     "data": {
      "text/plain": [
       "DataFrame[Call Number: string, Unit ID: string, Incident Number: string, Call Type: string, Call Date: string, Watch Date: string, Received DtTm: string, Entry DtTm: string, Dispatch DtTm: string, Response DtTm: string, On Scene DtTm: string, Transport DtTm: string, Hospital DtTm: string, Call Final Disposition: string, Available DtTm: string, Address: string, City: string, Zipcode of Incident: string, Battalion: string, Station Area: string, Box: string, Original Priority: string, Priority: string, Final Priority: string, ALS Unit: string, Call Type Group: string, Number of Alarms: string, Unit Type: string, Unit sequence in call dispatch: string, Fire Prevention District: string, Supervisor District: string, Neighborhooods - Analysis Boundaries: string, RowID: string, case_location: string, Analysis Neighborhoods: string]"
      ]
     },
     "execution_count": 20,
     "metadata": {},
     "output_type": "execute_result"
    }
   ],
   "source": [
    "df # but everything is a string (schema inference is not done by default because it's expensive)"
   ]
  },
  {
   "cell_type": "code",
   "execution_count": 21,
   "id": "e25f6bf8-cd6e-4a51-88d5-87ecea1d614f",
   "metadata": {},
   "outputs": [
    {
     "name": "stderr",
     "output_type": "stream",
     "text": [
      "                                                                                \r"
     ]
    }
   ],
   "source": [
    "# This operation is much slower because we need a separate Spark job to do the schema inference\n",
    "# 17 tasks total (17 partitions, Spark automatically chooses based on file size and workers available in the cluster)\n",
    "df = (spark.read.format(\"csv\")\n",
    "      .option(\"header\", True)\n",
    "      .option(\"inferSchema\", True)\n",
    "      .load(\"hdfs://nn:9000/sf.csv\"))"
   ]
  },
  {
   "cell_type": "code",
   "execution_count": 22,
   "id": "299b137a-e6e4-4719-8feb-ca8677435fdd",
   "metadata": {},
   "outputs": [
    {
     "data": {
      "text/plain": [
       "DataFrame[Call Number: int, Unit ID: string, Incident Number: int, Call Type: string, Call Date: string, Watch Date: string, Received DtTm: string, Entry DtTm: string, Dispatch DtTm: string, Response DtTm: string, On Scene DtTm: string, Transport DtTm: string, Hospital DtTm: string, Call Final Disposition: string, Available DtTm: string, Address: string, City: string, Zipcode of Incident: int, Battalion: string, Station Area: string, Box: string, Original Priority: string, Priority: string, Final Priority: int, ALS Unit: boolean, Call Type Group: string, Number of Alarms: int, Unit Type: string, Unit sequence in call dispatch: int, Fire Prevention District: string, Supervisor District: string, Neighborhooods - Analysis Boundaries: string, RowID: string, case_location: string, Analysis Neighborhoods: int]"
      ]
     },
     "execution_count": 22,
     "metadata": {},
     "output_type": "execute_result"
    }
   ],
   "source": [
    "df    # Spark Schema Inference is still not smart enough to convert the dates from string to actual dates, so we need to manually fix this\n",
    "# This is \"Transformation\" work (the T in ETL)\n",
    "# Load (L) is into Parquet files"
   ]
  },
  {
   "cell_type": "markdown",
   "id": "3e34f012-9a79-40a2-9e94-72fa3eb023b4",
   "metadata": {},
   "source": [
    "#### How to transform data with functions on columns?"
   ]
  },
  {
   "cell_type": "code",
   "execution_count": 6,
   "id": "058536df-4377-438b-b214-1188b137f353",
   "metadata": {},
   "outputs": [],
   "source": [
    "from pyspark.sql.functions import col, expr"
   ]
  },
  {
   "cell_type": "code",
   "execution_count": 25,
   "id": "d6d4ee34-f4e5-4de0-afda-6d59225649dc",
   "metadata": {},
   "outputs": [
    {
     "data": {
      "text/plain": [
       "Column<'Call Date'>"
      ]
     },
     "execution_count": 25,
     "metadata": {},
     "output_type": "execute_result"
    }
   ],
   "source": [
    "col(\"Call Date\")"
   ]
  },
  {
   "cell_type": "code",
   "execution_count": 26,
   "id": "ca63a7d7-e2d7-4742-9909-81b3724f54be",
   "metadata": {},
   "outputs": [
    {
     "data": {
      "text/plain": [
       "Column<'Call AS Date'>"
      ]
     },
     "execution_count": 26,
     "metadata": {},
     "output_type": "execute_result"
    }
   ],
   "source": [
    "expr(\"Call Date\")    # notice how expr thinks \"Date\" is an alias for \"Call\""
   ]
  },
  {
   "cell_type": "code",
   "execution_count": 8,
   "id": "421d0baa-ebc7-429a-b743-c69fbf30ecc2",
   "metadata": {},
   "outputs": [
    {
     "name": "stderr",
     "output_type": "stream",
     "text": [
      "                                                                                \r"
     ]
    },
    {
     "data": {
      "text/html": [
       "<div>\n",
       "<style scoped>\n",
       "    .dataframe tbody tr th:only-of-type {\n",
       "        vertical-align: middle;\n",
       "    }\n",
       "\n",
       "    .dataframe tbody tr th {\n",
       "        vertical-align: top;\n",
       "    }\n",
       "\n",
       "    .dataframe thead th {\n",
       "        text-align: right;\n",
       "    }\n",
       "</style>\n",
       "<table border=\"1\" class=\"dataframe\">\n",
       "  <thead>\n",
       "    <tr style=\"text-align: right;\">\n",
       "      <th></th>\n",
       "      <th>Call_Date</th>\n",
       "    </tr>\n",
       "  </thead>\n",
       "  <tbody>\n",
       "    <tr>\n",
       "      <th>0</th>\n",
       "      <td>05/13/2020</td>\n",
       "    </tr>\n",
       "    <tr>\n",
       "      <th>1</th>\n",
       "      <td>05/03/2020</td>\n",
       "    </tr>\n",
       "    <tr>\n",
       "      <th>2</th>\n",
       "      <td>04/17/2020</td>\n",
       "    </tr>\n",
       "    <tr>\n",
       "      <th>3</th>\n",
       "      <td>04/25/2020</td>\n",
       "    </tr>\n",
       "    <tr>\n",
       "      <th>4</th>\n",
       "      <td>05/17/2020</td>\n",
       "    </tr>\n",
       "  </tbody>\n",
       "</table>\n",
       "</div>"
      ],
      "text/plain": [
       "    Call_Date\n",
       "0  05/13/2020\n",
       "1  05/03/2020\n",
       "2  04/17/2020\n",
       "3  04/25/2020\n",
       "4  05/17/2020"
      ]
     },
     "execution_count": 8,
     "metadata": {},
     "output_type": "execute_result"
    }
   ],
   "source": [
    "# Selecting a column (specify column name using pyspark.sql.functions.col() ) works similar to SQL\n",
    "example = (df.select(col(\"Call_Date\"))\n",
    "            .limit(5)\n",
    "            .toPandas())\n",
    "example"
   ]
  },
  {
   "cell_type": "code",
   "execution_count": 5,
   "id": "1b6a3835-0164-4010-b7b2-ddc9ed542ad6",
   "metadata": {},
   "outputs": [
    {
     "ename": "NameError",
     "evalue": "name 'expr' is not defined",
     "output_type": "error",
     "traceback": [
      "\u001b[0;31m---------------------------------------------------------------------------\u001b[0m",
      "\u001b[0;31mNameError\u001b[0m                                 Traceback (most recent call last)",
      "Cell \u001b[0;32mIn[5], line 2\u001b[0m\n\u001b[1;32m      1\u001b[0m \u001b[38;5;66;03m# Be careful when using pyspark.sql.functions.expr(); we get an error because of the aliasing the expression is trying to do\u001b[39;00m\n\u001b[0;32m----> 2\u001b[0m example \u001b[38;5;241m=\u001b[39m (df\u001b[38;5;241m.\u001b[39mselect(\u001b[43mexpr\u001b[49m(\u001b[38;5;124m\"\u001b[39m\u001b[38;5;124mCall Date\u001b[39m\u001b[38;5;124m\"\u001b[39m) )\n\u001b[1;32m      3\u001b[0m             \u001b[38;5;241m.\u001b[39mlimit(\u001b[38;5;241m5\u001b[39m)\n\u001b[1;32m      4\u001b[0m             \u001b[38;5;241m.\u001b[39mtoPandas())\n\u001b[1;32m      5\u001b[0m example\n",
      "\u001b[0;31mNameError\u001b[0m: name 'expr' is not defined"
     ]
    }
   ],
   "source": [
    "# Be careful when using pyspark.sql.functions.expr(); we get an error because of the aliasing the expression is trying to do\n",
    "example = (df.select(expr(\"Call Date\") )\n",
    "            .limit(5)\n",
    "            .toPandas())\n",
    "example"
   ]
  },
  {
   "cell_type": "code",
   "execution_count": 31,
   "id": "310b829e-22c2-43e1-a38b-0adc60d6ed89",
   "metadata": {},
   "outputs": [
    {
     "data": {
      "text/html": [
       "<div>\n",
       "<style scoped>\n",
       "    .dataframe tbody tr th:only-of-type {\n",
       "        vertical-align: middle;\n",
       "    }\n",
       "\n",
       "    .dataframe tbody tr th {\n",
       "        vertical-align: top;\n",
       "    }\n",
       "\n",
       "    .dataframe thead th {\n",
       "        text-align: right;\n",
       "    }\n",
       "</style>\n",
       "<table border=\"1\" class=\"dataframe\">\n",
       "  <thead>\n",
       "    <tr style=\"text-align: right;\">\n",
       "      <th></th>\n",
       "      <th>Call Date</th>\n",
       "    </tr>\n",
       "  </thead>\n",
       "  <tbody>\n",
       "    <tr>\n",
       "      <th>0</th>\n",
       "      <td>05/01/2022</td>\n",
       "    </tr>\n",
       "    <tr>\n",
       "      <th>1</th>\n",
       "      <td>01/19/2022</td>\n",
       "    </tr>\n",
       "    <tr>\n",
       "      <th>2</th>\n",
       "      <td>05/03/2021</td>\n",
       "    </tr>\n",
       "    <tr>\n",
       "      <th>3</th>\n",
       "      <td>10/20/2021</td>\n",
       "    </tr>\n",
       "    <tr>\n",
       "      <th>4</th>\n",
       "      <td>04/30/2022</td>\n",
       "    </tr>\n",
       "  </tbody>\n",
       "</table>\n",
       "</div>"
      ],
      "text/plain": [
       "    Call Date\n",
       "0  05/01/2022\n",
       "1  01/19/2022\n",
       "2  05/03/2021\n",
       "3  10/20/2021\n",
       "4  04/30/2022"
      ]
     },
     "execution_count": 31,
     "metadata": {},
     "output_type": "execute_result"
    }
   ],
   "source": [
    "# Put your column name in backticks (`) when using pyspark.sql.functions.expr() if the column name has a space (good practice in general)\n",
    "example = (df.select(expr(\"`Call Date`\") )\n",
    "            .limit(5)\n",
    "            .toPandas())\n",
    "example"
   ]
  },
  {
   "cell_type": "code",
   "execution_count": 34,
   "id": "a5f55417-afb4-4a80-bd93-c29e7dd9e801",
   "metadata": {},
   "outputs": [
    {
     "data": {
      "text/html": [
       "<div>\n",
       "<style scoped>\n",
       "    .dataframe tbody tr th:only-of-type {\n",
       "        vertical-align: middle;\n",
       "    }\n",
       "\n",
       "    .dataframe tbody tr th {\n",
       "        vertical-align: top;\n",
       "    }\n",
       "\n",
       "    .dataframe thead th {\n",
       "        text-align: right;\n",
       "    }\n",
       "</style>\n",
       "<table border=\"1\" class=\"dataframe\">\n",
       "  <thead>\n",
       "    <tr style=\"text-align: right;\">\n",
       "      <th></th>\n",
       "      <th>My Alias</th>\n",
       "    </tr>\n",
       "  </thead>\n",
       "  <tbody>\n",
       "    <tr>\n",
       "      <th>0</th>\n",
       "      <td>05/01/2022</td>\n",
       "    </tr>\n",
       "    <tr>\n",
       "      <th>1</th>\n",
       "      <td>01/19/2022</td>\n",
       "    </tr>\n",
       "    <tr>\n",
       "      <th>2</th>\n",
       "      <td>05/03/2021</td>\n",
       "    </tr>\n",
       "    <tr>\n",
       "      <th>3</th>\n",
       "      <td>10/20/2021</td>\n",
       "    </tr>\n",
       "    <tr>\n",
       "      <th>4</th>\n",
       "      <td>04/30/2022</td>\n",
       "    </tr>\n",
       "  </tbody>\n",
       "</table>\n",
       "</div>"
      ],
      "text/plain": [
       "     My Alias\n",
       "0  05/01/2022\n",
       "1  01/19/2022\n",
       "2  05/03/2021\n",
       "3  10/20/2021\n",
       "4  04/30/2022"
      ]
     },
     "execution_count": 34,
     "metadata": {},
     "output_type": "execute_result"
    }
   ],
   "source": [
    "# We can alias columns in Spark DataFrames too\n",
    "example = (df.select(expr(\"`Call Date`\").alias(\"My Alias\")) \n",
    "            .limit(5)\n",
    "            .toPandas())\n",
    "example"
   ]
  },
  {
   "cell_type": "code",
   "execution_count": 38,
   "id": "dba1e719-b9eb-4840-8f33-d297142f2344",
   "metadata": {},
   "outputs": [
    {
     "data": {
      "text/html": [
       "<div>\n",
       "<style scoped>\n",
       "    .dataframe tbody tr th:only-of-type {\n",
       "        vertical-align: middle;\n",
       "    }\n",
       "\n",
       "    .dataframe tbody tr th {\n",
       "        vertical-align: top;\n",
       "    }\n",
       "\n",
       "    .dataframe thead th {\n",
       "        text-align: right;\n",
       "    }\n",
       "</style>\n",
       "<table border=\"1\" class=\"dataframe\">\n",
       "  <thead>\n",
       "    <tr style=\"text-align: right;\">\n",
       "      <th></th>\n",
       "      <th>Column formatted as Date now</th>\n",
       "    </tr>\n",
       "  </thead>\n",
       "  <tbody>\n",
       "    <tr>\n",
       "      <th>0</th>\n",
       "      <td>2022-05-01</td>\n",
       "    </tr>\n",
       "    <tr>\n",
       "      <th>1</th>\n",
       "      <td>2022-01-19</td>\n",
       "    </tr>\n",
       "    <tr>\n",
       "      <th>2</th>\n",
       "      <td>2021-05-03</td>\n",
       "    </tr>\n",
       "    <tr>\n",
       "      <th>3</th>\n",
       "      <td>2021-10-20</td>\n",
       "    </tr>\n",
       "    <tr>\n",
       "      <th>4</th>\n",
       "      <td>2022-04-30</td>\n",
       "    </tr>\n",
       "  </tbody>\n",
       "</table>\n",
       "</div>"
      ],
      "text/plain": [
       "  Column formatted as Date now\n",
       "0                   2022-05-01\n",
       "1                   2022-01-19\n",
       "2                   2021-05-03\n",
       "3                   2021-10-20\n",
       "4                   2022-04-30"
      ]
     },
     "execution_count": 38,
     "metadata": {},
     "output_type": "execute_result"
    }
   ],
   "source": [
    "# Let's convert the data type from string to date\n",
    "example = (df.select(expr(\"to_date(`Call Date`, 'MM/dd/yyyy')\").alias(\"Column formatted as Date now\")) \n",
    "            .limit(5)\n",
    "            .toPandas())\n",
    "example"
   ]
  },
  {
   "cell_type": "markdown",
   "id": "9c3ea613-8564-451b-a7c9-b85c7325439a",
   "metadata": {},
   "source": [
    "#### Goal: Create a parquet file with this data, with no spaces in the column names"
   ]
  },
  {
   "cell_type": "code",
   "execution_count": 45,
   "id": "a5a63891-e4ad-4ef0-9c8e-9333b012aadb",
   "metadata": {},
   "outputs": [
    {
     "data": {
      "text/plain": [
       "['Call Number', 'Unit ID', 'Incident Number', 'Call Type', 'Call Date']"
      ]
     },
     "execution_count": 45,
     "metadata": {},
     "output_type": "execute_result"
    }
   ],
   "source": [
    "df.columns[ : 5]    # a list of strings (the column headers)"
   ]
  },
  {
   "cell_type": "code",
   "execution_count": 46,
   "id": "971bbbf0-80df-4686-a5f8-7cfa0d20c94d",
   "metadata": {},
   "outputs": [
    {
     "data": {
      "text/plain": [
       "[Column<'Call Number'>,\n",
       " Column<'Unit ID'>,\n",
       " Column<'Incident Number'>,\n",
       " Column<'Call Type'>,\n",
       " Column<'Call Date'>]"
      ]
     },
     "execution_count": 46,
     "metadata": {},
     "output_type": "execute_result"
    }
   ],
   "source": [
    "[col(c) for c in df.columns][ : 5]    # get a Column object for each of the column names in the DataFrame"
   ]
  },
  {
   "cell_type": "code",
   "execution_count": 47,
   "id": "001f1429-c35f-4912-8597-557165580f58",
   "metadata": {},
   "outputs": [
    {
     "data": {
      "text/plain": [
       "[Column<'Call Number AS Call_Number'>,\n",
       " Column<'Unit ID AS Unit_ID'>,\n",
       " Column<'Incident Number AS Incident_Number'>,\n",
       " Column<'Call Type AS Call_Type'>,\n",
       " Column<'Call Date AS Call_Date'>]"
      ]
     },
     "execution_count": 47,
     "metadata": {},
     "output_type": "execute_result"
    }
   ],
   "source": [
    "columns = [col(c).alias(c.replace(' ', '_')) for c in df.columns]    # rename the columns by removing space and replacing with underscore\n",
    "columns[ : 5]"
   ]
  },
  {
   "cell_type": "code",
   "execution_count": 49,
   "id": "f242107b-134e-4ba6-aa42-4c87f170f9a0",
   "metadata": {},
   "outputs": [
    {
     "data": {
      "text/plain": [
       "DataFrame[Call_Number: int, Unit_ID: string, Incident_Number: int, Call_Type: string, Call_Date: string, Watch_Date: string, Received_DtTm: string, Entry_DtTm: string, Dispatch_DtTm: string, Response_DtTm: string, On_Scene_DtTm: string, Transport_DtTm: string, Hospital_DtTm: string, Call_Final_Disposition: string, Available_DtTm: string, Address: string, City: string, Zipcode_of_Incident: int, Battalion: string, Station_Area: string, Box: string, Original_Priority: string, Priority: string, Final_Priority: int, ALS_Unit: boolean, Call_Type_Group: string, Number_of_Alarms: int, Unit_Type: string, Unit_sequence_in_call_dispatch: int, Fire_Prevention_District: string, Supervisor_District: string, Neighborhooods_-_Analysis_Boundaries: string, RowID: string, case_location: string, Analysis_Neighborhoods: int]"
      ]
     },
     "execution_count": 49,
     "metadata": {},
     "output_type": "execute_result"
    }
   ],
   "source": [
    "df.select(columns)   # now our select is using the aliases we made and the output has no spaces in the column header"
   ]
  },
  {
   "cell_type": "code",
   "execution_count": 55,
   "id": "1016c1a9-efc1-4977-ac57-76ab6a663f49",
   "metadata": {},
   "outputs": [
    {
     "data": {
      "text/plain": [
       "17"
      ]
     },
     "execution_count": 55,
     "metadata": {},
     "output_type": "execute_result"
    }
   ],
   "source": [
    "df.rdd.getNumPartitions()"
   ]
  },
  {
   "cell_type": "code",
   "execution_count": 57,
   "id": "92f91697-cd2c-4ff3-af1b-265a0d0065eb",
   "metadata": {},
   "outputs": [
    {
     "name": "stderr",
     "output_type": "stream",
     "text": [
      "                                                                                \r"
     ]
    }
   ],
   "source": [
    "# let's load our dataframe with underscore headers into a parquet file\n",
    "# read data from file into a dataframe using spark.read (gives us a pyspark.sql.readwriter.DataFromeReader)\n",
    "# write data from dataframe into file using df.write (gives us a pyspark.sql.readwriter.DataFrameWriter)\n",
    "\n",
    "(df.select(columns)\n",
    " .limit(10)    # small amount to test\n",
    " .write\n",
    " .format(\"parquet\")\n",
    " .save(\"hdfs://nn:9000/sf.parquet\"))\n",
    "\n",
    "# 17 tasks because Spark uses 17 partitions for the DataFrame"
   ]
  },
  {
   "cell_type": "code",
   "execution_count": 58,
   "id": "7a0a353f-7b9c-4280-87ba-2692d61808bf",
   "metadata": {},
   "outputs": [
    {
     "ename": "AnalysisException",
     "evalue": "[PATH_ALREADY_EXISTS] Path hdfs://nn:9000/sf.parquet already exists. Set mode as \"overwrite\" to overwrite the existing path.",
     "output_type": "error",
     "traceback": [
      "\u001b[0;31m---------------------------------------------------------------------------\u001b[0m",
      "\u001b[0;31mAnalysisException\u001b[0m                         Traceback (most recent call last)",
      "Cell \u001b[0;32mIn[58], line 5\u001b[0m\n\u001b[1;32m      1\u001b[0m \u001b[38;5;66;03m# Since the write for a small amount worked, let's try for the whole dataset\u001b[39;00m\n\u001b[1;32m      2\u001b[0m (\u001b[43mdf\u001b[49m\u001b[38;5;241;43m.\u001b[39;49m\u001b[43mselect\u001b[49m\u001b[43m(\u001b[49m\u001b[43mcolumns\u001b[49m\u001b[43m)\u001b[49m\n\u001b[1;32m      3\u001b[0m \u001b[43m \u001b[49m\u001b[38;5;241;43m.\u001b[39;49m\u001b[43mwrite\u001b[49m\n\u001b[1;32m      4\u001b[0m \u001b[43m \u001b[49m\u001b[38;5;241;43m.\u001b[39;49m\u001b[43mformat\u001b[49m\u001b[43m(\u001b[49m\u001b[38;5;124;43m\"\u001b[39;49m\u001b[38;5;124;43mparquet\u001b[39;49m\u001b[38;5;124;43m\"\u001b[39;49m\u001b[43m)\u001b[49m\n\u001b[0;32m----> 5\u001b[0m \u001b[43m \u001b[49m\u001b[38;5;241;43m.\u001b[39;49m\u001b[43msave\u001b[49m\u001b[43m(\u001b[49m\u001b[38;5;124;43m\"\u001b[39;49m\u001b[38;5;124;43mhdfs://nn:9000/sf.parquet\u001b[39;49m\u001b[38;5;124;43m\"\u001b[39;49m\u001b[43m)\u001b[49m)\n\u001b[1;32m      7\u001b[0m \u001b[38;5;66;03m# ERROR: we have to specify if we want to overwrite the existing files\u001b[39;00m\n",
      "File \u001b[0;32m/usr/local/lib/python3.10/dist-packages/pyspark/sql/readwriter.py:1463\u001b[0m, in \u001b[0;36mDataFrameWriter.save\u001b[0;34m(self, path, format, mode, partitionBy, **options)\u001b[0m\n\u001b[1;32m   1461\u001b[0m     \u001b[38;5;28mself\u001b[39m\u001b[38;5;241m.\u001b[39m_jwrite\u001b[38;5;241m.\u001b[39msave()\n\u001b[1;32m   1462\u001b[0m \u001b[38;5;28;01melse\u001b[39;00m:\n\u001b[0;32m-> 1463\u001b[0m     \u001b[38;5;28;43mself\u001b[39;49m\u001b[38;5;241;43m.\u001b[39;49m\u001b[43m_jwrite\u001b[49m\u001b[38;5;241;43m.\u001b[39;49m\u001b[43msave\u001b[49m\u001b[43m(\u001b[49m\u001b[43mpath\u001b[49m\u001b[43m)\u001b[49m\n",
      "File \u001b[0;32m/usr/local/lib/python3.10/dist-packages/py4j/java_gateway.py:1322\u001b[0m, in \u001b[0;36mJavaMember.__call__\u001b[0;34m(self, *args)\u001b[0m\n\u001b[1;32m   1316\u001b[0m command \u001b[38;5;241m=\u001b[39m proto\u001b[38;5;241m.\u001b[39mCALL_COMMAND_NAME \u001b[38;5;241m+\u001b[39m\\\n\u001b[1;32m   1317\u001b[0m     \u001b[38;5;28mself\u001b[39m\u001b[38;5;241m.\u001b[39mcommand_header \u001b[38;5;241m+\u001b[39m\\\n\u001b[1;32m   1318\u001b[0m     args_command \u001b[38;5;241m+\u001b[39m\\\n\u001b[1;32m   1319\u001b[0m     proto\u001b[38;5;241m.\u001b[39mEND_COMMAND_PART\n\u001b[1;32m   1321\u001b[0m answer \u001b[38;5;241m=\u001b[39m \u001b[38;5;28mself\u001b[39m\u001b[38;5;241m.\u001b[39mgateway_client\u001b[38;5;241m.\u001b[39msend_command(command)\n\u001b[0;32m-> 1322\u001b[0m return_value \u001b[38;5;241m=\u001b[39m \u001b[43mget_return_value\u001b[49m\u001b[43m(\u001b[49m\n\u001b[1;32m   1323\u001b[0m \u001b[43m    \u001b[49m\u001b[43manswer\u001b[49m\u001b[43m,\u001b[49m\u001b[43m \u001b[49m\u001b[38;5;28;43mself\u001b[39;49m\u001b[38;5;241;43m.\u001b[39;49m\u001b[43mgateway_client\u001b[49m\u001b[43m,\u001b[49m\u001b[43m \u001b[49m\u001b[38;5;28;43mself\u001b[39;49m\u001b[38;5;241;43m.\u001b[39;49m\u001b[43mtarget_id\u001b[49m\u001b[43m,\u001b[49m\u001b[43m \u001b[49m\u001b[38;5;28;43mself\u001b[39;49m\u001b[38;5;241;43m.\u001b[39;49m\u001b[43mname\u001b[49m\u001b[43m)\u001b[49m\n\u001b[1;32m   1325\u001b[0m \u001b[38;5;28;01mfor\u001b[39;00m temp_arg \u001b[38;5;129;01min\u001b[39;00m temp_args:\n\u001b[1;32m   1326\u001b[0m     \u001b[38;5;28;01mif\u001b[39;00m \u001b[38;5;28mhasattr\u001b[39m(temp_arg, \u001b[38;5;124m\"\u001b[39m\u001b[38;5;124m_detach\u001b[39m\u001b[38;5;124m\"\u001b[39m):\n",
      "File \u001b[0;32m/usr/local/lib/python3.10/dist-packages/pyspark/errors/exceptions/captured.py:185\u001b[0m, in \u001b[0;36mcapture_sql_exception.<locals>.deco\u001b[0;34m(*a, **kw)\u001b[0m\n\u001b[1;32m    181\u001b[0m converted \u001b[38;5;241m=\u001b[39m convert_exception(e\u001b[38;5;241m.\u001b[39mjava_exception)\n\u001b[1;32m    182\u001b[0m \u001b[38;5;28;01mif\u001b[39;00m \u001b[38;5;129;01mnot\u001b[39;00m \u001b[38;5;28misinstance\u001b[39m(converted, UnknownException):\n\u001b[1;32m    183\u001b[0m     \u001b[38;5;66;03m# Hide where the exception came from that shows a non-Pythonic\u001b[39;00m\n\u001b[1;32m    184\u001b[0m     \u001b[38;5;66;03m# JVM exception message.\u001b[39;00m\n\u001b[0;32m--> 185\u001b[0m     \u001b[38;5;28;01mraise\u001b[39;00m converted \u001b[38;5;28;01mfrom\u001b[39;00m \u001b[38;5;28;01mNone\u001b[39;00m\n\u001b[1;32m    186\u001b[0m \u001b[38;5;28;01melse\u001b[39;00m:\n\u001b[1;32m    187\u001b[0m     \u001b[38;5;28;01mraise\u001b[39;00m\n",
      "\u001b[0;31mAnalysisException\u001b[0m: [PATH_ALREADY_EXISTS] Path hdfs://nn:9000/sf.parquet already exists. Set mode as \"overwrite\" to overwrite the existing path."
     ]
    }
   ],
   "source": [
    "# Since the write for a small amount worked, let's try for the whole dataset\n",
    "(df.select(columns)\n",
    " .write\n",
    " .format(\"parquet\")\n",
    " .save(\"hdfs://nn:9000/sf.parquet\"))\n",
    "\n",
    "# ERROR: we have to specify if we want to overwrite the existing files"
   ]
  },
  {
   "cell_type": "code",
   "execution_count": 59,
   "id": "7f61f82f-7b14-4a3c-9d28-e09110a5e9d1",
   "metadata": {},
   "outputs": [
    {
     "name": "stderr",
     "output_type": "stream",
     "text": [
      "                                                                                \r"
     ]
    }
   ],
   "source": [
    "(df.select(columns)\n",
    " .write\n",
    " .format(\"parquet\")\n",
    " .mode(\"overwrite\")    # could also be append (keep adding), ignore (do nothing if the file already exists), etc.\n",
    " .save(\"hdfs://nn:9000/sf.parquet\"))"
   ]
  },
  {
   "cell_type": "code",
   "execution_count": 60,
   "id": "1a368a62-52d2-40cb-9952-d5615a925e73",
   "metadata": {},
   "outputs": [
    {
     "name": "stdout",
     "output_type": "stream",
     "text": [
      "Found 3 items\n",
      "-rw-r--r--   3 root supergroup   10607756 2023-11-02 04:06 hdfs://nn:9000/ghcnd-stations.txt\n",
      "-rw-r--r--   3 root supergroup 2265533682 2023-11-02 20:24 hdfs://nn:9000/sf.csv\n",
      "drwxr-xr-x   - root supergroup          0 2023-11-02 21:24 hdfs://nn:9000/sf.parquet\n"
     ]
    }
   ],
   "source": [
    "# So what do the parquet files that Spark wrote look like in HDFS?\n",
    "! hdfs dfs -ls hdfs://nn:9000/    \n",
    "\n",
    "# It's a directory called \"sf.parquet\", not a single file called \"sf.parquet\"!"
   ]
  },
  {
   "cell_type": "code",
   "execution_count": 61,
   "id": "cd53c363-30de-47ed-8852-393e43258de5",
   "metadata": {},
   "outputs": [
    {
     "name": "stdout",
     "output_type": "stream",
     "text": [
      "Found 18 items\n",
      "-rw-r--r--   3 root supergroup          0 2023-11-02 21:24 hdfs://nn:9000/sf.parquet/_SUCCESS\n",
      "-rw-r--r--   3 root supergroup   27805433 2023-11-02 21:22 hdfs://nn:9000/sf.parquet/part-00000-6630bd23-68db-484b-84f9-41b7807a17cc-c000.snappy.parquet\n",
      "-rw-r--r--   3 root supergroup   27788944 2023-11-02 21:22 hdfs://nn:9000/sf.parquet/part-00001-6630bd23-68db-484b-84f9-41b7807a17cc-c000.snappy.parquet\n",
      "-rw-r--r--   3 root supergroup   40477903 2023-11-02 21:22 hdfs://nn:9000/sf.parquet/part-00002-6630bd23-68db-484b-84f9-41b7807a17cc-c000.snappy.parquet\n",
      "-rw-r--r--   3 root supergroup   36016086 2023-11-02 21:22 hdfs://nn:9000/sf.parquet/part-00003-6630bd23-68db-484b-84f9-41b7807a17cc-c000.snappy.parquet\n",
      "-rw-r--r--   3 root supergroup   36031567 2023-11-02 21:22 hdfs://nn:9000/sf.parquet/part-00004-6630bd23-68db-484b-84f9-41b7807a17cc-c000.snappy.parquet\n",
      "-rw-r--r--   3 root supergroup   36080343 2023-11-02 21:23 hdfs://nn:9000/sf.parquet/part-00005-6630bd23-68db-484b-84f9-41b7807a17cc-c000.snappy.parquet\n",
      "-rw-r--r--   3 root supergroup   35943551 2023-11-02 21:23 hdfs://nn:9000/sf.parquet/part-00006-6630bd23-68db-484b-84f9-41b7807a17cc-c000.snappy.parquet\n",
      "-rw-r--r--   3 root supergroup   35910610 2023-11-02 21:23 hdfs://nn:9000/sf.parquet/part-00007-6630bd23-68db-484b-84f9-41b7807a17cc-c000.snappy.parquet\n",
      "-rw-r--r--   3 root supergroup   36435318 2023-11-02 21:23 hdfs://nn:9000/sf.parquet/part-00008-6630bd23-68db-484b-84f9-41b7807a17cc-c000.snappy.parquet\n",
      "-rw-r--r--   3 root supergroup   35366522 2023-11-02 21:23 hdfs://nn:9000/sf.parquet/part-00009-6630bd23-68db-484b-84f9-41b7807a17cc-c000.snappy.parquet\n",
      "-rw-r--r--   3 root supergroup   34237927 2023-11-02 21:23 hdfs://nn:9000/sf.parquet/part-00010-6630bd23-68db-484b-84f9-41b7807a17cc-c000.snappy.parquet\n",
      "-rw-r--r--   3 root supergroup   33947693 2023-11-02 21:23 hdfs://nn:9000/sf.parquet/part-00011-6630bd23-68db-484b-84f9-41b7807a17cc-c000.snappy.parquet\n",
      "-rw-r--r--   3 root supergroup   33487699 2023-11-02 21:23 hdfs://nn:9000/sf.parquet/part-00012-6630bd23-68db-484b-84f9-41b7807a17cc-c000.snappy.parquet\n",
      "-rw-r--r--   3 root supergroup   34899250 2023-11-02 21:24 hdfs://nn:9000/sf.parquet/part-00013-6630bd23-68db-484b-84f9-41b7807a17cc-c000.snappy.parquet\n",
      "-rw-r--r--   3 root supergroup   35715225 2023-11-02 21:24 hdfs://nn:9000/sf.parquet/part-00014-6630bd23-68db-484b-84f9-41b7807a17cc-c000.snappy.parquet\n",
      "-rw-r--r--   3 root supergroup   35768659 2023-11-02 21:24 hdfs://nn:9000/sf.parquet/part-00015-6630bd23-68db-484b-84f9-41b7807a17cc-c000.snappy.parquet\n",
      "-rw-r--r--   3 root supergroup   29362733 2023-11-02 21:24 hdfs://nn:9000/sf.parquet/part-00016-6630bd23-68db-484b-84f9-41b7807a17cc-c000.snappy.parquet\n"
     ]
    }
   ],
   "source": [
    "# we have 17 different files, 1 per partition/Spark task\n",
    "! hdfs dfs -ls hdfs://nn:9000/sf.parquet/"
   ]
  },
  {
   "cell_type": "code",
   "execution_count": 4,
   "id": "93c7cbe5-ded9-4021-b484-299589507d0a",
   "metadata": {},
   "outputs": [
    {
     "name": "stderr",
     "output_type": "stream",
     "text": [
      "                                                                                \r"
     ]
    }
   ],
   "source": [
    "# Spark is designed to work with Parquet directories like this (this arrangement is quite common), so no need to combine\n",
    "# loading in the Parquet files is much faster than CSV (column format, compression)\n",
    "df = spark.read.format(\"parquet\").load(\"hdfs://nn:9000/sf.parquet/\")"
   ]
  },
  {
   "cell_type": "code",
   "execution_count": 63,
   "id": "d96e99ea-f2f2-4408-8566-0485c78a3efb",
   "metadata": {},
   "outputs": [
    {
     "data": {
      "text/plain": [
       "DataFrame[Call_Number: int, Unit_ID: string, Incident_Number: int, Call_Type: string, Call_Date: string, Watch_Date: string, Received_DtTm: string, Entry_DtTm: string, Dispatch_DtTm: string, Response_DtTm: string, On_Scene_DtTm: string, Transport_DtTm: string, Hospital_DtTm: string, Call_Final_Disposition: string, Available_DtTm: string, Address: string, City: string, Zipcode_of_Incident: int, Battalion: string, Station_Area: string, Box: string, Original_Priority: string, Priority: string, Final_Priority: int, ALS_Unit: boolean, Call_Type_Group: string, Number_of_Alarms: int, Unit_Type: string, Unit_sequence_in_call_dispatch: int, Fire_Prevention_District: string, Supervisor_District: string, Neighborhooods_-_Analysis_Boundaries: string, RowID: string, case_location: string, Analysis_Neighborhoods: int]"
      ]
     },
     "execution_count": 63,
     "metadata": {},
     "output_type": "execute_result"
    }
   ],
   "source": [
    "df"
   ]
  },
  {
   "cell_type": "markdown",
   "id": "8741fb68-ddb9-4500-b802-eb3927f95d2c",
   "metadata": {},
   "source": [
    "#### Generally, load CSV, transform data, write to Parquet, and then use Parquet for analysis exclusively!"
   ]
  },
  {
   "cell_type": "code",
   "execution_count": 64,
   "id": "dd5d2a86-ed5c-45bd-ae50-9a9e563aacd4",
   "metadata": {},
   "outputs": [
    {
     "data": {
      "text/plain": [
       "6"
      ]
     },
     "execution_count": 64,
     "metadata": {},
     "output_type": "execute_result"
    }
   ],
   "source": [
    "# Less partitions are needed (before when we read in text, numPartitions was 17) because of compression, column format (text is way bloated)\n",
    "# Spark is smart enough to realize that we can use fewer partitions than files because the files are smaller\n",
    "df.rdd.getNumPartitions()"
   ]
  },
  {
   "cell_type": "code",
   "execution_count": 65,
   "id": "052b74e5-471e-4d7f-9039-77d1c42de0f4",
   "metadata": {},
   "outputs": [
    {
     "name": "stdout",
     "output_type": "stream",
     "text": [
      "Deleted hdfs://nn:9000/sf.csv\n"
     ]
    }
   ],
   "source": [
    "# at this point, we can remove the sf.csv from HDFS because we don't need it (have it in Parquet format), free up space\n",
    "! hdfs dfs -rm hdfs://nn:9000/sf.csv"
   ]
  },
  {
   "cell_type": "code",
   "execution_count": 67,
   "id": "8e80670a-0190-47e4-8a01-29df4313a1ad",
   "metadata": {},
   "outputs": [],
   "source": [
    "df = spark.read.format(\"parquet\").load(\"hdfs://nn:9000/sf.parquet\")"
   ]
  },
  {
   "cell_type": "code",
   "execution_count": 10,
   "id": "42c81ac8-bbd0-4460-b351-750987ad21c5",
   "metadata": {},
   "outputs": [],
   "source": [
    "# a view is somewhat like an RDD; instructions on how to generate the table if needed, but doesn't materialize until needed\n",
    "df.createOrReplaceTempView(\"calls\")    # better than createView(), handles case where need to run code again"
   ]
  },
  {
   "cell_type": "code",
   "execution_count": 73,
   "id": "fc5f5e68-49c2-4605-88f0-f8343f5c5548",
   "metadata": {},
   "outputs": [
    {
     "data": {
      "text/plain": [
       "DataFrame[Call_Number: int, Unit_ID: string, Incident_Number: int, Call_Type: string, Call_Date: string, Watch_Date: string, Received_DtTm: string, Entry_DtTm: string, Dispatch_DtTm: string, Response_DtTm: string, On_Scene_DtTm: string, Transport_DtTm: string, Hospital_DtTm: string, Call_Final_Disposition: string, Available_DtTm: string, Address: string, City: string, Zipcode_of_Incident: int, Battalion: string, Station_Area: string, Box: string, Original_Priority: string, Priority: string, Final_Priority: int, ALS_Unit: boolean, Call_Type_Group: string, Number_of_Alarms: int, Unit_Type: string, Unit_sequence_in_call_dispatch: int, Fire_Prevention_District: string, Supervisor_District: string, Neighborhooods_-_Analysis_Boundaries: string, RowID: string, case_location: string, Analysis_Neighborhoods: int]"
      ]
     },
     "execution_count": 73,
     "metadata": {},
     "output_type": "execute_result"
    }
   ],
   "source": [
    "# spark.sql returns a DataFrame back (DF run on top of RDD), so no work has been done yet\n",
    "spark.sql(\"\"\"\n",
    "SELECT \n",
    "    *\n",
    "FROM\n",
    "    calls\n",
    "LIMIT\n",
    "    3\n",
    "\"\"\")"
   ]
  },
  {
   "cell_type": "code",
   "execution_count": 74,
   "id": "4bf308e4-0b3a-4f43-80d5-8f9e4c1d023d",
   "metadata": {},
   "outputs": [
    {
     "name": "stderr",
     "output_type": "stream",
     "text": [
      "                                                                                \r"
     ]
    },
    {
     "data": {
      "text/html": [
       "<div>\n",
       "<style scoped>\n",
       "    .dataframe tbody tr th:only-of-type {\n",
       "        vertical-align: middle;\n",
       "    }\n",
       "\n",
       "    .dataframe tbody tr th {\n",
       "        vertical-align: top;\n",
       "    }\n",
       "\n",
       "    .dataframe thead th {\n",
       "        text-align: right;\n",
       "    }\n",
       "</style>\n",
       "<table border=\"1\" class=\"dataframe\">\n",
       "  <thead>\n",
       "    <tr style=\"text-align: right;\">\n",
       "      <th></th>\n",
       "      <th>Call_Number</th>\n",
       "      <th>Unit_ID</th>\n",
       "      <th>Incident_Number</th>\n",
       "      <th>Call_Type</th>\n",
       "      <th>Call_Date</th>\n",
       "      <th>Watch_Date</th>\n",
       "      <th>Received_DtTm</th>\n",
       "      <th>Entry_DtTm</th>\n",
       "      <th>Dispatch_DtTm</th>\n",
       "      <th>Response_DtTm</th>\n",
       "      <th>...</th>\n",
       "      <th>Call_Type_Group</th>\n",
       "      <th>Number_of_Alarms</th>\n",
       "      <th>Unit_Type</th>\n",
       "      <th>Unit_sequence_in_call_dispatch</th>\n",
       "      <th>Fire_Prevention_District</th>\n",
       "      <th>Supervisor_District</th>\n",
       "      <th>Neighborhooods_-_Analysis_Boundaries</th>\n",
       "      <th>RowID</th>\n",
       "      <th>case_location</th>\n",
       "      <th>Analysis_Neighborhoods</th>\n",
       "    </tr>\n",
       "  </thead>\n",
       "  <tbody>\n",
       "    <tr>\n",
       "      <th>0</th>\n",
       "      <td>201340825</td>\n",
       "      <td>T06</td>\n",
       "      <td>20055834</td>\n",
       "      <td>Other</td>\n",
       "      <td>05/13/2020</td>\n",
       "      <td>05/13/2020</td>\n",
       "      <td>05/13/2020 08:51:30 AM</td>\n",
       "      <td>05/13/2020 08:51:30 AM</td>\n",
       "      <td>05/13/2020 08:54:56 AM</td>\n",
       "      <td>05/13/2020 08:55:10 AM</td>\n",
       "      <td>...</td>\n",
       "      <td>Alarm</td>\n",
       "      <td>1</td>\n",
       "      <td>TRUCK</td>\n",
       "      <td>1</td>\n",
       "      <td>2</td>\n",
       "      <td>8</td>\n",
       "      <td>Mission</td>\n",
       "      <td>201340825-T06</td>\n",
       "      <td>POINT (-122.42251458613262 37.770727334245194)</td>\n",
       "      <td>20</td>\n",
       "    </tr>\n",
       "    <tr>\n",
       "      <th>1</th>\n",
       "      <td>201241707</td>\n",
       "      <td>FB3</td>\n",
       "      <td>20052084</td>\n",
       "      <td>Outside Fire</td>\n",
       "      <td>05/03/2020</td>\n",
       "      <td>05/03/2020</td>\n",
       "      <td>05/03/2020 01:46:02 PM</td>\n",
       "      <td>05/03/2020 01:46:02 PM</td>\n",
       "      <td>05/03/2020 01:46:11 PM</td>\n",
       "      <td>05/03/2020 01:47:41 PM</td>\n",
       "      <td>...</td>\n",
       "      <td>Alarm</td>\n",
       "      <td>1</td>\n",
       "      <td>SUPPORT</td>\n",
       "      <td>2</td>\n",
       "      <td>1</td>\n",
       "      <td>3</td>\n",
       "      <td>Financial District/South Beach</td>\n",
       "      <td>201241707-FB3</td>\n",
       "      <td>POINT (-122.3946511276673 37.79530574375478)</td>\n",
       "      <td>8</td>\n",
       "    </tr>\n",
       "    <tr>\n",
       "      <th>2</th>\n",
       "      <td>201083222</td>\n",
       "      <td>AM118</td>\n",
       "      <td>20045948</td>\n",
       "      <td>Medical Incident</td>\n",
       "      <td>04/17/2020</td>\n",
       "      <td>04/17/2020</td>\n",
       "      <td>04/17/2020 09:19:43 PM</td>\n",
       "      <td>04/17/2020 09:19:43 PM</td>\n",
       "      <td>04/17/2020 09:21:10 PM</td>\n",
       "      <td>04/17/2020 09:21:55 PM</td>\n",
       "      <td>...</td>\n",
       "      <td>Non Life-threatening</td>\n",
       "      <td>1</td>\n",
       "      <td>PRIVATE</td>\n",
       "      <td>2</td>\n",
       "      <td>2</td>\n",
       "      <td>6</td>\n",
       "      <td>South of Market</td>\n",
       "      <td>201083222-AM118</td>\n",
       "      <td>POINT (-122.41071806030364 37.778959763358266)</td>\n",
       "      <td>34</td>\n",
       "    </tr>\n",
       "  </tbody>\n",
       "</table>\n",
       "<p>3 rows × 35 columns</p>\n",
       "</div>"
      ],
      "text/plain": [
       "   Call_Number Unit_ID  Incident_Number         Call_Type   Call_Date  \\\n",
       "0    201340825     T06         20055834             Other  05/13/2020   \n",
       "1    201241707     FB3         20052084      Outside Fire  05/03/2020   \n",
       "2    201083222   AM118         20045948  Medical Incident  04/17/2020   \n",
       "\n",
       "   Watch_Date           Received_DtTm              Entry_DtTm  \\\n",
       "0  05/13/2020  05/13/2020 08:51:30 AM  05/13/2020 08:51:30 AM   \n",
       "1  05/03/2020  05/03/2020 01:46:02 PM  05/03/2020 01:46:02 PM   \n",
       "2  04/17/2020  04/17/2020 09:19:43 PM  04/17/2020 09:19:43 PM   \n",
       "\n",
       "            Dispatch_DtTm           Response_DtTm  ...       Call_Type_Group  \\\n",
       "0  05/13/2020 08:54:56 AM  05/13/2020 08:55:10 AM  ...                 Alarm   \n",
       "1  05/03/2020 01:46:11 PM  05/03/2020 01:47:41 PM  ...                 Alarm   \n",
       "2  04/17/2020 09:21:10 PM  04/17/2020 09:21:55 PM  ...  Non Life-threatening   \n",
       "\n",
       "  Number_of_Alarms Unit_Type Unit_sequence_in_call_dispatch  \\\n",
       "0                1     TRUCK                              1   \n",
       "1                1   SUPPORT                              2   \n",
       "2                1   PRIVATE                              2   \n",
       "\n",
       "  Fire_Prevention_District Supervisor_District  \\\n",
       "0                        2                   8   \n",
       "1                        1                   3   \n",
       "2                        2                   6   \n",
       "\n",
       "  Neighborhooods_-_Analysis_Boundaries            RowID  \\\n",
       "0                              Mission    201340825-T06   \n",
       "1       Financial District/South Beach    201241707-FB3   \n",
       "2                      South of Market  201083222-AM118   \n",
       "\n",
       "                                    case_location Analysis_Neighborhoods  \n",
       "0  POINT (-122.42251458613262 37.770727334245194)                     20  \n",
       "1    POINT (-122.3946511276673 37.79530574375478)                      8  \n",
       "2  POINT (-122.41071806030364 37.778959763358266)                     34  \n",
       "\n",
       "[3 rows x 35 columns]"
      ]
     },
     "execution_count": 74,
     "metadata": {},
     "output_type": "execute_result"
    }
   ],
   "source": [
    "# we can use an action to trigger the query to run\n",
    "# this triggers the view to calculate and then the query to run, giving us a DataFrame back\n",
    "spark.sql(\"\"\"\n",
    "SELECT \n",
    "    *\n",
    "FROM\n",
    "    calls\n",
    "LIMIT\n",
    "    3\n",
    "\"\"\").toPandas()"
   ]
  },
  {
   "cell_type": "code",
   "execution_count": 75,
   "id": "7c645fc7-eab6-45c3-b465-a47397c6090e",
   "metadata": {},
   "outputs": [
    {
     "name": "stderr",
     "output_type": "stream",
     "text": [
      "23/11/02 22:53:50 WARN HiveConf: HiveConf of name hive.stats.jdbc.timeout does not exist\n",
      "23/11/02 22:53:50 WARN HiveConf: HiveConf of name hive.stats.retries.wait does not exist\n",
      "23/11/02 22:53:57 WARN ObjectStore: Version information not found in metastore. hive.metastore.schema.verification is not enabled so recording the schema version 2.3.0\n",
      "23/11/02 22:53:57 WARN ObjectStore: setMetaStoreSchemaVersion called but recording version is disabled: version = 2.3.0, comment = Set by MetaStore UNKNOWN@172.25.0.6\n",
      "23/11/02 22:53:57 WARN ObjectStore: Failed to get database default, returning NoSuchObjectException\n",
      "23/11/02 22:53:58 WARN ObjectStore: Failed to get database global_temp, returning NoSuchObjectException\n"
     ]
    },
    {
     "name": "stdout",
     "output_type": "stream",
     "text": [
      "+---------+---------+-----------+\n",
      "|namespace|tableName|isTemporary|\n",
      "+---------+---------+-----------+\n",
      "|         |    calls|       true|\n",
      "+---------+---------+-----------+\n",
      "\n"
     ]
    }
   ],
   "source": [
    "# we can use an action to trigger the query to run\n",
    "spark.sql(\"\"\"\n",
    "SHOW TABLES\n",
    "\"\"\").show()"
   ]
  },
  {
   "cell_type": "code",
   "execution_count": 86,
   "id": "44411281-d014-4de4-8e57-ae4633cba973",
   "metadata": {},
   "outputs": [
    {
     "name": "stderr",
     "output_type": "stream",
     "text": [
      "                                                                                \r"
     ]
    }
   ],
   "source": [
    "# Since spark.sql is returning a DataFrame, we can write to a table\n",
    "# same df.write methodology as before\n",
    "# This takes a while: Spark needs to filter the large dataset (exists on 6 different partitions) and then creates a table\n",
    "spark.sql(\"\"\"\n",
    "SELECT \n",
    "    *\n",
    "FROM\n",
    "    calls\n",
    "WHERE\n",
    "    Call_Type LIKE \"Odor%\"\n",
    "\"\"\").write.mode(\"overwrite\").saveAsTable(\"stinky\")"
   ]
  },
  {
   "cell_type": "code",
   "execution_count": 79,
   "id": "49ecfb71-6bb0-44ce-9db0-822e829d0a8d",
   "metadata": {},
   "outputs": [
    {
     "name": "stdout",
     "output_type": "stream",
     "text": [
      "+---------+---------+-----------+\n",
      "|namespace|tableName|isTemporary|\n",
      "+---------+---------+-----------+\n",
      "|  default|   stinky|      false|\n",
      "|         |    calls|       true|\n",
      "+---------+---------+-----------+\n",
      "\n"
     ]
    }
   ],
   "source": [
    "spark.sql(\"\"\"\n",
    "SHOW TABLES\n",
    "\"\"\").show()"
   ]
  },
  {
   "cell_type": "code",
   "execution_count": 80,
   "id": "6d2db78a-b8d1-4c9a-9906-307bbc315857",
   "metadata": {},
   "outputs": [
    {
     "name": "stdout",
     "output_type": "stream",
     "text": [
      "Found 1 items\n",
      "drwxr-xr-x   - root supergroup          0 2023-11-02 22:56 hdfs://nn:9000/user/hive/warehouse/stinky\n"
     ]
    }
   ],
   "source": [
    "# Where's the table? The tables are created in the Hive directory we specified when creating the Spark session.\n",
    "! hdfs dfs -ls hdfs://nn:9000/user/hive/warehouse"
   ]
  },
  {
   "cell_type": "code",
   "execution_count": 87,
   "id": "379000e4-a0c6-4732-a951-e2e451b1d0d7",
   "metadata": {},
   "outputs": [
    {
     "name": "stdout",
     "output_type": "stream",
     "text": [
      "Found 7 items\n",
      "-rw-r--r--   3 root supergroup          0 2023-11-02 23:02 hdfs://nn:9000/user/hive/warehouse/stinky/_SUCCESS\n",
      "-rw-r--r--   3 root supergroup     334214 2023-11-02 23:02 hdfs://nn:9000/user/hive/warehouse/stinky/part-00000-dffd4c29-e9d2-47f9-80ac-fd59e12c55c4-c000.snappy.parquet\n",
      "-rw-r--r--   3 root supergroup     370478 2023-11-02 23:02 hdfs://nn:9000/user/hive/warehouse/stinky/part-00001-dffd4c29-e9d2-47f9-80ac-fd59e12c55c4-c000.snappy.parquet\n",
      "-rw-r--r--   3 root supergroup     173436 2023-11-02 23:02 hdfs://nn:9000/user/hive/warehouse/stinky/part-00002-dffd4c29-e9d2-47f9-80ac-fd59e12c55c4-c000.snappy.parquet\n",
      "-rw-r--r--   3 root supergroup     209189 2023-11-02 23:02 hdfs://nn:9000/user/hive/warehouse/stinky/part-00003-dffd4c29-e9d2-47f9-80ac-fd59e12c55c4-c000.snappy.parquet\n",
      "-rw-r--r--   3 root supergroup     138716 2023-11-02 23:02 hdfs://nn:9000/user/hive/warehouse/stinky/part-00004-dffd4c29-e9d2-47f9-80ac-fd59e12c55c4-c000.snappy.parquet\n",
      "-rw-r--r--   3 root supergroup      70149 2023-11-02 23:02 hdfs://nn:9000/user/hive/warehouse/stinky/part-00005-dffd4c29-e9d2-47f9-80ac-fd59e12c55c4-c000.snappy.parquet\n"
     ]
    }
   ],
   "source": [
    "# The table actually exists as 6 parquet files in the Hive directory (6 = numPartitions of the DF from reading in the non-filtered parquet)\n",
    "! hdfs dfs -ls hdfs://nn:9000/user/hive/warehouse/stinky"
   ]
  },
  {
   "cell_type": "code",
   "execution_count": 89,
   "id": "da897cad-5992-4aa6-a95a-45ebaa24d672",
   "metadata": {},
   "outputs": [
    {
     "data": {
      "text/plain": [
       "2"
      ]
     },
     "execution_count": 89,
     "metadata": {},
     "output_type": "execute_result"
    }
   ],
   "source": [
    "# Even though writing the table took 6 partitions, when Spark reads it in, it can be smart and choose less partitions (here it's chosen 2)\n",
    "# because the data is smaller (stinky is a subset of calls) so we don't need as many partitions to fit chunks of data in memory\n",
    "spark.sql(\"\"\"\n",
    "SELECT\n",
    "    *\n",
    "FROM\n",
    "    stinky\n",
    "\"\"\").rdd.getNumPartitions()"
   ]
  },
  {
   "cell_type": "code",
   "execution_count": 90,
   "id": "29d1415b-9c46-4a82-ae96-db3d02237972",
   "metadata": {},
   "outputs": [
    {
     "data": {
      "text/plain": [
       "DataFrame[Call_Number: int, Unit_ID: string, Incident_Number: int, Call_Type: string, Call_Date: string, Watch_Date: string, Received_DtTm: string, Entry_DtTm: string, Dispatch_DtTm: string, Response_DtTm: string, On_Scene_DtTm: string, Transport_DtTm: string, Hospital_DtTm: string, Call_Final_Disposition: string, Available_DtTm: string, Address: string, City: string, Zipcode_of_Incident: int, Battalion: string, Station_Area: string, Box: string, Original_Priority: string, Priority: string, Final_Priority: int, ALS_Unit: boolean, Call_Type_Group: string, Number_of_Alarms: int, Unit_Type: string, Unit_sequence_in_call_dispatch: int, Fire_Prevention_District: string, Supervisor_District: string, Neighborhooods_-_Analysis_Boundaries: string, RowID: string, case_location: string, Analysis_Neighborhoods: int]"
      ]
     },
     "execution_count": 90,
     "metadata": {},
     "output_type": "execute_result"
    }
   ],
   "source": [
    "spark.table(\"calls\")    # pass a view to .table(), get a DataFrame"
   ]
  },
  {
   "cell_type": "code",
   "execution_count": 91,
   "id": "f657152f-a8fc-490e-872d-629c2af1b268",
   "metadata": {},
   "outputs": [
    {
     "data": {
      "text/plain": [
       "DataFrame[Call_Number: int, Unit_ID: string, Incident_Number: int, Call_Type: string, Call_Date: string, Watch_Date: string, Received_DtTm: string, Entry_DtTm: string, Dispatch_DtTm: string, Response_DtTm: string, On_Scene_DtTm: string, Transport_DtTm: string, Hospital_DtTm: string, Call_Final_Disposition: string, Available_DtTm: string, Address: string, City: string, Zipcode_of_Incident: int, Battalion: string, Station_Area: string, Box: string, Original_Priority: string, Priority: string, Final_Priority: int, ALS_Unit: boolean, Call_Type_Group: string, Number_of_Alarms: int, Unit_Type: string, Unit_sequence_in_call_dispatch: int, Fire_Prevention_District: string, Supervisor_District: string, Neighborhooods_-_Analysis_Boundaries: string, RowID: string, case_location: string, Analysis_Neighborhoods: int]"
      ]
     },
     "execution_count": 91,
     "metadata": {},
     "output_type": "execute_result"
    }
   ],
   "source": [
    "spark.table(\"stinky\")    # pass a table to .table(), get a DataFrame"
   ]
  },
  {
   "cell_type": "markdown",
   "id": "7f298d44-45d8-4296-ad6b-8f6c02439ac8",
   "metadata": {},
   "source": [
    "### Grouping, and other queries"
   ]
  },
  {
   "cell_type": "code",
   "execution_count": 13,
   "id": "34d3a118-4489-4afa-8325-729135f247d7",
   "metadata": {},
   "outputs": [],
   "source": [
    "df.withColumnRenamed(\"Neighborhooods_-_Analysis_Boundaries\", \"area\").createOrReplaceTempView(\"calls\")    # rename a column we'll be using to be simpler"
   ]
  },
  {
   "cell_type": "code",
   "execution_count": 93,
   "id": "5f43824f-8aba-4c99-a1d6-2c924abfb31c",
   "metadata": {},
   "outputs": [
    {
     "name": "stdout",
     "output_type": "stream",
     "text": [
      "+---------+---------+-----------+\n",
      "|namespace|tableName|isTemporary|\n",
      "+---------+---------+-----------+\n",
      "|  default|   stinky|      false|\n",
      "|         |    calls|       true|\n",
      "+---------+---------+-----------+\n",
      "\n"
     ]
    }
   ],
   "source": [
    "spark.sql(\"\"\"\n",
    "SHOW TABLES\n",
    "\"\"\").show()"
   ]
  },
  {
   "cell_type": "code",
   "execution_count": 100,
   "id": "834036f8-d206-4f80-b7f5-347cbd1b12c1",
   "metadata": {},
   "outputs": [
    {
     "name": "stderr",
     "output_type": "stream",
     "text": [
      "                                                                                \r"
     ]
    },
    {
     "data": {
      "text/html": [
       "<div>\n",
       "<style scoped>\n",
       "    .dataframe tbody tr th:only-of-type {\n",
       "        vertical-align: middle;\n",
       "    }\n",
       "\n",
       "    .dataframe tbody tr th {\n",
       "        vertical-align: top;\n",
       "    }\n",
       "\n",
       "    .dataframe thead th {\n",
       "        text-align: right;\n",
       "    }\n",
       "</style>\n",
       "<table border=\"1\" class=\"dataframe\">\n",
       "  <thead>\n",
       "    <tr style=\"text-align: right;\">\n",
       "      <th></th>\n",
       "      <th>area</th>\n",
       "      <th>Call_Number</th>\n",
       "      <th>Unit_ID</th>\n",
       "      <th>Incident_Number</th>\n",
       "      <th>Call_Type</th>\n",
       "      <th>Call_Date</th>\n",
       "      <th>Watch_Date</th>\n",
       "      <th>Received_DtTm</th>\n",
       "      <th>Entry_DtTm</th>\n",
       "      <th>Dispatch_DtTm</th>\n",
       "      <th>...</th>\n",
       "      <th>Call_Type_Group</th>\n",
       "      <th>Number_of_Alarms</th>\n",
       "      <th>Unit_Type</th>\n",
       "      <th>Unit_sequence_in_call_dispatch</th>\n",
       "      <th>Fire_Prevention_District</th>\n",
       "      <th>Supervisor_District</th>\n",
       "      <th>area</th>\n",
       "      <th>RowID</th>\n",
       "      <th>case_location</th>\n",
       "      <th>Analysis_Neighborhoods</th>\n",
       "    </tr>\n",
       "  </thead>\n",
       "  <tbody>\n",
       "    <tr>\n",
       "      <th>0</th>\n",
       "      <td>Mission</td>\n",
       "      <td>201340825</td>\n",
       "      <td>T06</td>\n",
       "      <td>20055834</td>\n",
       "      <td>Other</td>\n",
       "      <td>05/13/2020</td>\n",
       "      <td>05/13/2020</td>\n",
       "      <td>05/13/2020 08:51:30 AM</td>\n",
       "      <td>05/13/2020 08:51:30 AM</td>\n",
       "      <td>05/13/2020 08:54:56 AM</td>\n",
       "      <td>...</td>\n",
       "      <td>Alarm</td>\n",
       "      <td>1</td>\n",
       "      <td>TRUCK</td>\n",
       "      <td>1</td>\n",
       "      <td>2</td>\n",
       "      <td>8</td>\n",
       "      <td>Mission</td>\n",
       "      <td>201340825-T06</td>\n",
       "      <td>POINT (-122.42251458613262 37.770727334245194)</td>\n",
       "      <td>20</td>\n",
       "    </tr>\n",
       "    <tr>\n",
       "      <th>1</th>\n",
       "      <td>Financial District/South Beach</td>\n",
       "      <td>201241707</td>\n",
       "      <td>FB3</td>\n",
       "      <td>20052084</td>\n",
       "      <td>Outside Fire</td>\n",
       "      <td>05/03/2020</td>\n",
       "      <td>05/03/2020</td>\n",
       "      <td>05/03/2020 01:46:02 PM</td>\n",
       "      <td>05/03/2020 01:46:02 PM</td>\n",
       "      <td>05/03/2020 01:46:11 PM</td>\n",
       "      <td>...</td>\n",
       "      <td>Alarm</td>\n",
       "      <td>1</td>\n",
       "      <td>SUPPORT</td>\n",
       "      <td>2</td>\n",
       "      <td>1</td>\n",
       "      <td>3</td>\n",
       "      <td>Financial District/South Beach</td>\n",
       "      <td>201241707-FB3</td>\n",
       "      <td>POINT (-122.3946511276673 37.79530574375478)</td>\n",
       "      <td>8</td>\n",
       "    </tr>\n",
       "    <tr>\n",
       "      <th>2</th>\n",
       "      <td>South of Market</td>\n",
       "      <td>201083222</td>\n",
       "      <td>AM118</td>\n",
       "      <td>20045948</td>\n",
       "      <td>Medical Incident</td>\n",
       "      <td>04/17/2020</td>\n",
       "      <td>04/17/2020</td>\n",
       "      <td>04/17/2020 09:19:43 PM</td>\n",
       "      <td>04/17/2020 09:19:43 PM</td>\n",
       "      <td>04/17/2020 09:21:10 PM</td>\n",
       "      <td>...</td>\n",
       "      <td>Non Life-threatening</td>\n",
       "      <td>1</td>\n",
       "      <td>PRIVATE</td>\n",
       "      <td>2</td>\n",
       "      <td>2</td>\n",
       "      <td>6</td>\n",
       "      <td>South of Market</td>\n",
       "      <td>201083222-AM118</td>\n",
       "      <td>POINT (-122.41071806030364 37.778959763358266)</td>\n",
       "      <td>34</td>\n",
       "    </tr>\n",
       "    <tr>\n",
       "      <th>3</th>\n",
       "      <td>Tenderloin</td>\n",
       "      <td>201160160</td>\n",
       "      <td>54</td>\n",
       "      <td>20048802</td>\n",
       "      <td>Medical Incident</td>\n",
       "      <td>04/25/2020</td>\n",
       "      <td>04/24/2020</td>\n",
       "      <td>04/25/2020 01:39:37 AM</td>\n",
       "      <td>04/25/2020 01:41:00 AM</td>\n",
       "      <td>04/25/2020 01:42:09 AM</td>\n",
       "      <td>...</td>\n",
       "      <td>Potentially Life-Threatening</td>\n",
       "      <td>1</td>\n",
       "      <td>MEDIC</td>\n",
       "      <td>1</td>\n",
       "      <td>2</td>\n",
       "      <td>6</td>\n",
       "      <td>Tenderloin</td>\n",
       "      <td>201160160-54</td>\n",
       "      <td>POINT (-122.41632744176792 37.78244849821827)</td>\n",
       "      <td>36</td>\n",
       "    </tr>\n",
       "    <tr>\n",
       "      <th>4</th>\n",
       "      <td>Mission Bay</td>\n",
       "      <td>201382742</td>\n",
       "      <td>70</td>\n",
       "      <td>20057634</td>\n",
       "      <td>Medical Incident</td>\n",
       "      <td>05/17/2020</td>\n",
       "      <td>05/17/2020</td>\n",
       "      <td>05/17/2020 06:16:44 PM</td>\n",
       "      <td>05/17/2020 06:19:46 PM</td>\n",
       "      <td>05/17/2020 06:20:39 PM</td>\n",
       "      <td>...</td>\n",
       "      <td>Non Life-threatening</td>\n",
       "      <td>1</td>\n",
       "      <td>MEDIC</td>\n",
       "      <td>1</td>\n",
       "      <td>3</td>\n",
       "      <td>6</td>\n",
       "      <td>Mission Bay</td>\n",
       "      <td>201382742-70</td>\n",
       "      <td>POINT (-122.39820071397247 37.772033503746634)</td>\n",
       "      <td>4</td>\n",
       "    </tr>\n",
       "  </tbody>\n",
       "</table>\n",
       "<p>5 rows × 36 columns</p>\n",
       "</div>"
      ],
      "text/plain": [
       "                             area  Call_Number Unit_ID  Incident_Number  \\\n",
       "0                         Mission    201340825     T06         20055834   \n",
       "1  Financial District/South Beach    201241707     FB3         20052084   \n",
       "2                 South of Market    201083222   AM118         20045948   \n",
       "3                      Tenderloin    201160160      54         20048802   \n",
       "4                     Mission Bay    201382742      70         20057634   \n",
       "\n",
       "          Call_Type   Call_Date  Watch_Date           Received_DtTm  \\\n",
       "0             Other  05/13/2020  05/13/2020  05/13/2020 08:51:30 AM   \n",
       "1      Outside Fire  05/03/2020  05/03/2020  05/03/2020 01:46:02 PM   \n",
       "2  Medical Incident  04/17/2020  04/17/2020  04/17/2020 09:19:43 PM   \n",
       "3  Medical Incident  04/25/2020  04/24/2020  04/25/2020 01:39:37 AM   \n",
       "4  Medical Incident  05/17/2020  05/17/2020  05/17/2020 06:16:44 PM   \n",
       "\n",
       "               Entry_DtTm           Dispatch_DtTm  ...  \\\n",
       "0  05/13/2020 08:51:30 AM  05/13/2020 08:54:56 AM  ...   \n",
       "1  05/03/2020 01:46:02 PM  05/03/2020 01:46:11 PM  ...   \n",
       "2  04/17/2020 09:19:43 PM  04/17/2020 09:21:10 PM  ...   \n",
       "3  04/25/2020 01:41:00 AM  04/25/2020 01:42:09 AM  ...   \n",
       "4  05/17/2020 06:19:46 PM  05/17/2020 06:20:39 PM  ...   \n",
       "\n",
       "                Call_Type_Group Number_of_Alarms Unit_Type  \\\n",
       "0                         Alarm                1     TRUCK   \n",
       "1                         Alarm                1   SUPPORT   \n",
       "2          Non Life-threatening                1   PRIVATE   \n",
       "3  Potentially Life-Threatening                1     MEDIC   \n",
       "4          Non Life-threatening                1     MEDIC   \n",
       "\n",
       "  Unit_sequence_in_call_dispatch Fire_Prevention_District Supervisor_District  \\\n",
       "0                              1                        2                   8   \n",
       "1                              2                        1                   3   \n",
       "2                              2                        2                   6   \n",
       "3                              1                        2                   6   \n",
       "4                              1                        3                   6   \n",
       "\n",
       "                             area            RowID  \\\n",
       "0                         Mission    201340825-T06   \n",
       "1  Financial District/South Beach    201241707-FB3   \n",
       "2                 South of Market  201083222-AM118   \n",
       "3                      Tenderloin     201160160-54   \n",
       "4                     Mission Bay     201382742-70   \n",
       "\n",
       "                                    case_location Analysis_Neighborhoods  \n",
       "0  POINT (-122.42251458613262 37.770727334245194)                     20  \n",
       "1    POINT (-122.3946511276673 37.79530574375478)                      8  \n",
       "2  POINT (-122.41071806030364 37.778959763358266)                     34  \n",
       "3   POINT (-122.41632744176792 37.78244849821827)                     36  \n",
       "4  POINT (-122.39820071397247 37.772033503746634)                      4  \n",
       "\n",
       "[5 rows x 36 columns]"
      ]
     },
     "execution_count": 100,
     "metadata": {},
     "output_type": "execute_result"
    }
   ],
   "source": [
    "# now we can see our renamed column\n",
    "spark.sql(\"\"\"\n",
    "SELECT\n",
    "    area\n",
    "    , *\n",
    "FROM\n",
    "    calls\n",
    "LIMIT\n",
    "    5\n",
    "\"\"\").toPandas()"
   ]
  },
  {
   "cell_type": "code",
   "execution_count": 101,
   "id": "e2b5195f-d3ad-46fd-ab89-cb3758b44dd5",
   "metadata": {},
   "outputs": [
    {
     "name": "stderr",
     "output_type": "stream",
     "text": [
      "                                                                                \r"
     ]
    },
    {
     "data": {
      "text/html": [
       "<div>\n",
       "<style scoped>\n",
       "    .dataframe tbody tr th:only-of-type {\n",
       "        vertical-align: middle;\n",
       "    }\n",
       "\n",
       "    .dataframe tbody tr th {\n",
       "        vertical-align: top;\n",
       "    }\n",
       "\n",
       "    .dataframe thead th {\n",
       "        text-align: right;\n",
       "    }\n",
       "</style>\n",
       "<table border=\"1\" class=\"dataframe\">\n",
       "  <thead>\n",
       "    <tr style=\"text-align: right;\">\n",
       "      <th></th>\n",
       "      <th>area</th>\n",
       "    </tr>\n",
       "  </thead>\n",
       "  <tbody>\n",
       "    <tr>\n",
       "      <th>0</th>\n",
       "      <td>Inner Sunset</td>\n",
       "    </tr>\n",
       "    <tr>\n",
       "      <th>1</th>\n",
       "      <td>Haight Ashbury</td>\n",
       "    </tr>\n",
       "    <tr>\n",
       "      <th>2</th>\n",
       "      <td>Lincoln Park</td>\n",
       "    </tr>\n",
       "    <tr>\n",
       "      <th>3</th>\n",
       "      <td>Japantown</td>\n",
       "    </tr>\n",
       "    <tr>\n",
       "      <th>4</th>\n",
       "      <td>None</td>\n",
       "    </tr>\n",
       "    <tr>\n",
       "      <th>5</th>\n",
       "      <td>North Beach</td>\n",
       "    </tr>\n",
       "    <tr>\n",
       "      <th>6</th>\n",
       "      <td>Lone Mountain/USF</td>\n",
       "    </tr>\n",
       "    <tr>\n",
       "      <th>7</th>\n",
       "      <td>Western Addition</td>\n",
       "    </tr>\n",
       "    <tr>\n",
       "      <th>8</th>\n",
       "      <td>Bernal Heights</td>\n",
       "    </tr>\n",
       "    <tr>\n",
       "      <th>9</th>\n",
       "      <td>Mission Bay</td>\n",
       "    </tr>\n",
       "    <tr>\n",
       "      <th>10</th>\n",
       "      <td>Hayes Valley</td>\n",
       "    </tr>\n",
       "    <tr>\n",
       "      <th>11</th>\n",
       "      <td>Financial District/South Beach</td>\n",
       "    </tr>\n",
       "    <tr>\n",
       "      <th>12</th>\n",
       "      <td>Lakeshore</td>\n",
       "    </tr>\n",
       "    <tr>\n",
       "      <th>13</th>\n",
       "      <td>Bayview Hunters Point</td>\n",
       "    </tr>\n",
       "    <tr>\n",
       "      <th>14</th>\n",
       "      <td>Visitacion Valley</td>\n",
       "    </tr>\n",
       "    <tr>\n",
       "      <th>15</th>\n",
       "      <td>Inner Richmond</td>\n",
       "    </tr>\n",
       "    <tr>\n",
       "      <th>16</th>\n",
       "      <td>Nob Hill</td>\n",
       "    </tr>\n",
       "    <tr>\n",
       "      <th>17</th>\n",
       "      <td>Oceanview/Merced/Ingleside</td>\n",
       "    </tr>\n",
       "    <tr>\n",
       "      <th>18</th>\n",
       "      <td>Outer Richmond</td>\n",
       "    </tr>\n",
       "    <tr>\n",
       "      <th>19</th>\n",
       "      <td>Treasure Island</td>\n",
       "    </tr>\n",
       "    <tr>\n",
       "      <th>20</th>\n",
       "      <td>Chinatown</td>\n",
       "    </tr>\n",
       "    <tr>\n",
       "      <th>21</th>\n",
       "      <td>Mission</td>\n",
       "    </tr>\n",
       "    <tr>\n",
       "      <th>22</th>\n",
       "      <td>Excelsior</td>\n",
       "    </tr>\n",
       "    <tr>\n",
       "      <th>23</th>\n",
       "      <td>Twin Peaks</td>\n",
       "    </tr>\n",
       "    <tr>\n",
       "      <th>24</th>\n",
       "      <td>Seacliff</td>\n",
       "    </tr>\n",
       "    <tr>\n",
       "      <th>25</th>\n",
       "      <td>Sunset/Parkside</td>\n",
       "    </tr>\n",
       "    <tr>\n",
       "      <th>26</th>\n",
       "      <td>Presidio Heights</td>\n",
       "    </tr>\n",
       "    <tr>\n",
       "      <th>27</th>\n",
       "      <td>Portola</td>\n",
       "    </tr>\n",
       "    <tr>\n",
       "      <th>28</th>\n",
       "      <td>Golden Gate Park</td>\n",
       "    </tr>\n",
       "    <tr>\n",
       "      <th>29</th>\n",
       "      <td>Glen Park</td>\n",
       "    </tr>\n",
       "    <tr>\n",
       "      <th>30</th>\n",
       "      <td>McLaren Park</td>\n",
       "    </tr>\n",
       "    <tr>\n",
       "      <th>31</th>\n",
       "      <td>Presidio</td>\n",
       "    </tr>\n",
       "    <tr>\n",
       "      <th>32</th>\n",
       "      <td>Tenderloin</td>\n",
       "    </tr>\n",
       "    <tr>\n",
       "      <th>33</th>\n",
       "      <td>Potrero Hill</td>\n",
       "    </tr>\n",
       "    <tr>\n",
       "      <th>34</th>\n",
       "      <td>Outer Mission</td>\n",
       "    </tr>\n",
       "    <tr>\n",
       "      <th>35</th>\n",
       "      <td>Castro/Upper Market</td>\n",
       "    </tr>\n",
       "    <tr>\n",
       "      <th>36</th>\n",
       "      <td>Marina</td>\n",
       "    </tr>\n",
       "    <tr>\n",
       "      <th>37</th>\n",
       "      <td>Noe Valley</td>\n",
       "    </tr>\n",
       "    <tr>\n",
       "      <th>38</th>\n",
       "      <td>Russian Hill</td>\n",
       "    </tr>\n",
       "    <tr>\n",
       "      <th>39</th>\n",
       "      <td>South of Market</td>\n",
       "    </tr>\n",
       "    <tr>\n",
       "      <th>40</th>\n",
       "      <td>Pacific Heights</td>\n",
       "    </tr>\n",
       "    <tr>\n",
       "      <th>41</th>\n",
       "      <td>West of Twin Peaks</td>\n",
       "    </tr>\n",
       "  </tbody>\n",
       "</table>\n",
       "</div>"
      ],
      "text/plain": [
       "                              area\n",
       "0                     Inner Sunset\n",
       "1                   Haight Ashbury\n",
       "2                     Lincoln Park\n",
       "3                        Japantown\n",
       "4                             None\n",
       "5                      North Beach\n",
       "6                Lone Mountain/USF\n",
       "7                 Western Addition\n",
       "8                   Bernal Heights\n",
       "9                      Mission Bay\n",
       "10                    Hayes Valley\n",
       "11  Financial District/South Beach\n",
       "12                       Lakeshore\n",
       "13           Bayview Hunters Point\n",
       "14               Visitacion Valley\n",
       "15                  Inner Richmond\n",
       "16                        Nob Hill\n",
       "17      Oceanview/Merced/Ingleside\n",
       "18                  Outer Richmond\n",
       "19                 Treasure Island\n",
       "20                       Chinatown\n",
       "21                         Mission\n",
       "22                       Excelsior\n",
       "23                      Twin Peaks\n",
       "24                        Seacliff\n",
       "25                 Sunset/Parkside\n",
       "26                Presidio Heights\n",
       "27                         Portola\n",
       "28                Golden Gate Park\n",
       "29                       Glen Park\n",
       "30                    McLaren Park\n",
       "31                        Presidio\n",
       "32                      Tenderloin\n",
       "33                    Potrero Hill\n",
       "34                   Outer Mission\n",
       "35             Castro/Upper Market\n",
       "36                          Marina\n",
       "37                      Noe Valley\n",
       "38                    Russian Hill\n",
       "39                 South of Market\n",
       "40                 Pacific Heights\n",
       "41              West of Twin Peaks"
      ]
     },
     "execution_count": 101,
     "metadata": {},
     "output_type": "execute_result"
    }
   ],
   "source": [
    "# DISTINCT example using SQL: what areas are in SF?\n",
    "spark.sql(\"\"\"\n",
    "SELECT DISTINCT\n",
    "    area\n",
    "FROM\n",
    "    calls\n",
    "\"\"\").toPandas()"
   ]
  },
  {
   "cell_type": "code",
   "execution_count": 109,
   "id": "b61a511a-a43d-4464-82f5-e412f9df3a6d",
   "metadata": {},
   "outputs": [
    {
     "name": "stderr",
     "output_type": "stream",
     "text": [
      "                                                                                \r"
     ]
    },
    {
     "data": {
      "text/html": [
       "<div>\n",
       "<style scoped>\n",
       "    .dataframe tbody tr th:only-of-type {\n",
       "        vertical-align: middle;\n",
       "    }\n",
       "\n",
       "    .dataframe tbody tr th {\n",
       "        vertical-align: top;\n",
       "    }\n",
       "\n",
       "    .dataframe thead th {\n",
       "        text-align: right;\n",
       "    }\n",
       "</style>\n",
       "<table border=\"1\" class=\"dataframe\">\n",
       "  <thead>\n",
       "    <tr style=\"text-align: right;\">\n",
       "      <th></th>\n",
       "      <th>Neighborhooods_-_Analysis_Boundaries</th>\n",
       "    </tr>\n",
       "  </thead>\n",
       "  <tbody>\n",
       "    <tr>\n",
       "      <th>0</th>\n",
       "      <td>Inner Sunset</td>\n",
       "    </tr>\n",
       "    <tr>\n",
       "      <th>1</th>\n",
       "      <td>Haight Ashbury</td>\n",
       "    </tr>\n",
       "    <tr>\n",
       "      <th>2</th>\n",
       "      <td>Lincoln Park</td>\n",
       "    </tr>\n",
       "    <tr>\n",
       "      <th>3</th>\n",
       "      <td>Japantown</td>\n",
       "    </tr>\n",
       "    <tr>\n",
       "      <th>4</th>\n",
       "      <td>None</td>\n",
       "    </tr>\n",
       "    <tr>\n",
       "      <th>5</th>\n",
       "      <td>North Beach</td>\n",
       "    </tr>\n",
       "    <tr>\n",
       "      <th>6</th>\n",
       "      <td>Lone Mountain/USF</td>\n",
       "    </tr>\n",
       "    <tr>\n",
       "      <th>7</th>\n",
       "      <td>Western Addition</td>\n",
       "    </tr>\n",
       "    <tr>\n",
       "      <th>8</th>\n",
       "      <td>Bernal Heights</td>\n",
       "    </tr>\n",
       "    <tr>\n",
       "      <th>9</th>\n",
       "      <td>Mission Bay</td>\n",
       "    </tr>\n",
       "    <tr>\n",
       "      <th>10</th>\n",
       "      <td>Hayes Valley</td>\n",
       "    </tr>\n",
       "    <tr>\n",
       "      <th>11</th>\n",
       "      <td>Financial District/South Beach</td>\n",
       "    </tr>\n",
       "    <tr>\n",
       "      <th>12</th>\n",
       "      <td>Lakeshore</td>\n",
       "    </tr>\n",
       "    <tr>\n",
       "      <th>13</th>\n",
       "      <td>Bayview Hunters Point</td>\n",
       "    </tr>\n",
       "    <tr>\n",
       "      <th>14</th>\n",
       "      <td>Visitacion Valley</td>\n",
       "    </tr>\n",
       "    <tr>\n",
       "      <th>15</th>\n",
       "      <td>Inner Richmond</td>\n",
       "    </tr>\n",
       "    <tr>\n",
       "      <th>16</th>\n",
       "      <td>Nob Hill</td>\n",
       "    </tr>\n",
       "    <tr>\n",
       "      <th>17</th>\n",
       "      <td>Oceanview/Merced/Ingleside</td>\n",
       "    </tr>\n",
       "    <tr>\n",
       "      <th>18</th>\n",
       "      <td>Outer Richmond</td>\n",
       "    </tr>\n",
       "    <tr>\n",
       "      <th>19</th>\n",
       "      <td>Treasure Island</td>\n",
       "    </tr>\n",
       "    <tr>\n",
       "      <th>20</th>\n",
       "      <td>Chinatown</td>\n",
       "    </tr>\n",
       "    <tr>\n",
       "      <th>21</th>\n",
       "      <td>Mission</td>\n",
       "    </tr>\n",
       "    <tr>\n",
       "      <th>22</th>\n",
       "      <td>Excelsior</td>\n",
       "    </tr>\n",
       "    <tr>\n",
       "      <th>23</th>\n",
       "      <td>Twin Peaks</td>\n",
       "    </tr>\n",
       "    <tr>\n",
       "      <th>24</th>\n",
       "      <td>Seacliff</td>\n",
       "    </tr>\n",
       "    <tr>\n",
       "      <th>25</th>\n",
       "      <td>Sunset/Parkside</td>\n",
       "    </tr>\n",
       "    <tr>\n",
       "      <th>26</th>\n",
       "      <td>Presidio Heights</td>\n",
       "    </tr>\n",
       "    <tr>\n",
       "      <th>27</th>\n",
       "      <td>Portola</td>\n",
       "    </tr>\n",
       "    <tr>\n",
       "      <th>28</th>\n",
       "      <td>Golden Gate Park</td>\n",
       "    </tr>\n",
       "    <tr>\n",
       "      <th>29</th>\n",
       "      <td>Glen Park</td>\n",
       "    </tr>\n",
       "    <tr>\n",
       "      <th>30</th>\n",
       "      <td>McLaren Park</td>\n",
       "    </tr>\n",
       "    <tr>\n",
       "      <th>31</th>\n",
       "      <td>Presidio</td>\n",
       "    </tr>\n",
       "    <tr>\n",
       "      <th>32</th>\n",
       "      <td>Tenderloin</td>\n",
       "    </tr>\n",
       "    <tr>\n",
       "      <th>33</th>\n",
       "      <td>Potrero Hill</td>\n",
       "    </tr>\n",
       "    <tr>\n",
       "      <th>34</th>\n",
       "      <td>Outer Mission</td>\n",
       "    </tr>\n",
       "    <tr>\n",
       "      <th>35</th>\n",
       "      <td>Castro/Upper Market</td>\n",
       "    </tr>\n",
       "    <tr>\n",
       "      <th>36</th>\n",
       "      <td>Marina</td>\n",
       "    </tr>\n",
       "    <tr>\n",
       "      <th>37</th>\n",
       "      <td>Noe Valley</td>\n",
       "    </tr>\n",
       "    <tr>\n",
       "      <th>38</th>\n",
       "      <td>Russian Hill</td>\n",
       "    </tr>\n",
       "    <tr>\n",
       "      <th>39</th>\n",
       "      <td>South of Market</td>\n",
       "    </tr>\n",
       "    <tr>\n",
       "      <th>40</th>\n",
       "      <td>Pacific Heights</td>\n",
       "    </tr>\n",
       "    <tr>\n",
       "      <th>41</th>\n",
       "      <td>West of Twin Peaks</td>\n",
       "    </tr>\n",
       "  </tbody>\n",
       "</table>\n",
       "</div>"
      ],
      "text/plain": [
       "   Neighborhooods_-_Analysis_Boundaries\n",
       "0                          Inner Sunset\n",
       "1                        Haight Ashbury\n",
       "2                          Lincoln Park\n",
       "3                             Japantown\n",
       "4                                  None\n",
       "5                           North Beach\n",
       "6                     Lone Mountain/USF\n",
       "7                      Western Addition\n",
       "8                        Bernal Heights\n",
       "9                           Mission Bay\n",
       "10                         Hayes Valley\n",
       "11       Financial District/South Beach\n",
       "12                            Lakeshore\n",
       "13                Bayview Hunters Point\n",
       "14                    Visitacion Valley\n",
       "15                       Inner Richmond\n",
       "16                             Nob Hill\n",
       "17           Oceanview/Merced/Ingleside\n",
       "18                       Outer Richmond\n",
       "19                      Treasure Island\n",
       "20                            Chinatown\n",
       "21                              Mission\n",
       "22                            Excelsior\n",
       "23                           Twin Peaks\n",
       "24                             Seacliff\n",
       "25                      Sunset/Parkside\n",
       "26                     Presidio Heights\n",
       "27                              Portola\n",
       "28                     Golden Gate Park\n",
       "29                            Glen Park\n",
       "30                         McLaren Park\n",
       "31                             Presidio\n",
       "32                           Tenderloin\n",
       "33                         Potrero Hill\n",
       "34                        Outer Mission\n",
       "35                  Castro/Upper Market\n",
       "36                               Marina\n",
       "37                           Noe Valley\n",
       "38                         Russian Hill\n",
       "39                      South of Market\n",
       "40                      Pacific Heights\n",
       "41                   West of Twin Peaks"
      ]
     },
     "execution_count": 109,
     "metadata": {},
     "output_type": "execute_result"
    }
   ],
   "source": [
    "# DISTINCT example using Spark: what areas are in SF?\n",
    "df.select(\"Neighborhooods_-_Analysis_Boundaries\").distinct().toPandas()"
   ]
  },
  {
   "cell_type": "code",
   "execution_count": 113,
   "id": "3847ca00-bb0c-4442-9278-9b886a704693",
   "metadata": {},
   "outputs": [
    {
     "name": "stderr",
     "output_type": "stream",
     "text": [
      "                                                                                \r"
     ]
    },
    {
     "data": {
      "text/html": [
       "<div>\n",
       "<style scoped>\n",
       "    .dataframe tbody tr th:only-of-type {\n",
       "        vertical-align: middle;\n",
       "    }\n",
       "\n",
       "    .dataframe tbody tr th {\n",
       "        vertical-align: top;\n",
       "    }\n",
       "\n",
       "    .dataframe thead th {\n",
       "        text-align: right;\n",
       "    }\n",
       "</style>\n",
       "<table border=\"1\" class=\"dataframe\">\n",
       "  <thead>\n",
       "    <tr style=\"text-align: right;\">\n",
       "      <th></th>\n",
       "      <th>area</th>\n",
       "      <th>Num_Calls</th>\n",
       "    </tr>\n",
       "  </thead>\n",
       "  <tbody>\n",
       "    <tr>\n",
       "      <th>0</th>\n",
       "      <td>Tenderloin</td>\n",
       "      <td>809041</td>\n",
       "    </tr>\n",
       "    <tr>\n",
       "      <th>1</th>\n",
       "      <td>South of Market</td>\n",
       "      <td>583631</td>\n",
       "    </tr>\n",
       "    <tr>\n",
       "      <th>2</th>\n",
       "      <td>Mission</td>\n",
       "      <td>543289</td>\n",
       "    </tr>\n",
       "    <tr>\n",
       "      <th>3</th>\n",
       "      <td>Financial District/South Beach</td>\n",
       "      <td>402331</td>\n",
       "    </tr>\n",
       "    <tr>\n",
       "      <th>4</th>\n",
       "      <td>Bayview Hunters Point</td>\n",
       "      <td>326423</td>\n",
       "    </tr>\n",
       "    <tr>\n",
       "      <th>5</th>\n",
       "      <td>Sunset/Parkside</td>\n",
       "      <td>233135</td>\n",
       "    </tr>\n",
       "    <tr>\n",
       "      <th>6</th>\n",
       "      <td>Western Addition</td>\n",
       "      <td>222759</td>\n",
       "    </tr>\n",
       "    <tr>\n",
       "      <th>7</th>\n",
       "      <td>Nob Hill</td>\n",
       "      <td>198957</td>\n",
       "    </tr>\n",
       "    <tr>\n",
       "      <th>8</th>\n",
       "      <td>Outer Richmond</td>\n",
       "      <td>159714</td>\n",
       "    </tr>\n",
       "    <tr>\n",
       "      <th>9</th>\n",
       "      <td>Hayes Valley</td>\n",
       "      <td>148946</td>\n",
       "    </tr>\n",
       "    <tr>\n",
       "      <th>10</th>\n",
       "      <td>Castro/Upper Market</td>\n",
       "      <td>144533</td>\n",
       "    </tr>\n",
       "    <tr>\n",
       "      <th>11</th>\n",
       "      <td>West of Twin Peaks</td>\n",
       "      <td>131856</td>\n",
       "    </tr>\n",
       "    <tr>\n",
       "      <th>12</th>\n",
       "      <td>North Beach</td>\n",
       "      <td>126516</td>\n",
       "    </tr>\n",
       "    <tr>\n",
       "      <th>13</th>\n",
       "      <td>Pacific Heights</td>\n",
       "      <td>125234</td>\n",
       "    </tr>\n",
       "    <tr>\n",
       "      <th>14</th>\n",
       "      <td>Chinatown</td>\n",
       "      <td>123221</td>\n",
       "    </tr>\n",
       "    <tr>\n",
       "      <th>15</th>\n",
       "      <td>Excelsior</td>\n",
       "      <td>120771</td>\n",
       "    </tr>\n",
       "    <tr>\n",
       "      <th>16</th>\n",
       "      <td>Marina</td>\n",
       "      <td>116713</td>\n",
       "    </tr>\n",
       "    <tr>\n",
       "      <th>17</th>\n",
       "      <td>Bernal Heights</td>\n",
       "      <td>113744</td>\n",
       "    </tr>\n",
       "    <tr>\n",
       "      <th>18</th>\n",
       "      <td>Potrero Hill</td>\n",
       "      <td>110187</td>\n",
       "    </tr>\n",
       "    <tr>\n",
       "      <th>19</th>\n",
       "      <td>Inner Sunset</td>\n",
       "      <td>95266</td>\n",
       "    </tr>\n",
       "    <tr>\n",
       "      <th>20</th>\n",
       "      <td>Russian Hill</td>\n",
       "      <td>92968</td>\n",
       "    </tr>\n",
       "    <tr>\n",
       "      <th>21</th>\n",
       "      <td>Haight Ashbury</td>\n",
       "      <td>89918</td>\n",
       "    </tr>\n",
       "    <tr>\n",
       "      <th>22</th>\n",
       "      <td>Outer Mission</td>\n",
       "      <td>87582</td>\n",
       "    </tr>\n",
       "    <tr>\n",
       "      <th>23</th>\n",
       "      <td>Lakeshore</td>\n",
       "      <td>87206</td>\n",
       "    </tr>\n",
       "    <tr>\n",
       "      <th>24</th>\n",
       "      <td>Inner Richmond</td>\n",
       "      <td>84338</td>\n",
       "    </tr>\n",
       "    <tr>\n",
       "      <th>25</th>\n",
       "      <td>Oceanview/Merced/Ingleside</td>\n",
       "      <td>84027</td>\n",
       "    </tr>\n",
       "    <tr>\n",
       "      <th>26</th>\n",
       "      <td>Visitacion Valley</td>\n",
       "      <td>77346</td>\n",
       "    </tr>\n",
       "    <tr>\n",
       "      <th>27</th>\n",
       "      <td>Lone Mountain/USF</td>\n",
       "      <td>72502</td>\n",
       "    </tr>\n",
       "    <tr>\n",
       "      <th>28</th>\n",
       "      <td>Mission Bay</td>\n",
       "      <td>72477</td>\n",
       "    </tr>\n",
       "    <tr>\n",
       "      <th>29</th>\n",
       "      <td>Noe Valley</td>\n",
       "      <td>65199</td>\n",
       "    </tr>\n",
       "    <tr>\n",
       "      <th>30</th>\n",
       "      <td>Portola</td>\n",
       "      <td>57161</td>\n",
       "    </tr>\n",
       "    <tr>\n",
       "      <th>31</th>\n",
       "      <td>Japantown</td>\n",
       "      <td>53161</td>\n",
       "    </tr>\n",
       "    <tr>\n",
       "      <th>32</th>\n",
       "      <td>Presidio Heights</td>\n",
       "      <td>52465</td>\n",
       "    </tr>\n",
       "    <tr>\n",
       "      <th>33</th>\n",
       "      <td>Treasure Island</td>\n",
       "      <td>40610</td>\n",
       "    </tr>\n",
       "    <tr>\n",
       "      <th>34</th>\n",
       "      <td>Twin Peaks</td>\n",
       "      <td>35483</td>\n",
       "    </tr>\n",
       "    <tr>\n",
       "      <th>35</th>\n",
       "      <td>Golden Gate Park</td>\n",
       "      <td>35188</td>\n",
       "    </tr>\n",
       "    <tr>\n",
       "      <th>36</th>\n",
       "      <td>Glen Park</td>\n",
       "      <td>28906</td>\n",
       "    </tr>\n",
       "    <tr>\n",
       "      <th>37</th>\n",
       "      <td>Presidio</td>\n",
       "      <td>23613</td>\n",
       "    </tr>\n",
       "    <tr>\n",
       "      <th>38</th>\n",
       "      <td>None</td>\n",
       "      <td>16743</td>\n",
       "    </tr>\n",
       "    <tr>\n",
       "      <th>39</th>\n",
       "      <td>Seacliff</td>\n",
       "      <td>10052</td>\n",
       "    </tr>\n",
       "    <tr>\n",
       "      <th>40</th>\n",
       "      <td>McLaren Park</td>\n",
       "      <td>6941</td>\n",
       "    </tr>\n",
       "    <tr>\n",
       "      <th>41</th>\n",
       "      <td>Lincoln Park</td>\n",
       "      <td>5903</td>\n",
       "    </tr>\n",
       "  </tbody>\n",
       "</table>\n",
       "</div>"
      ],
      "text/plain": [
       "                              area  Num_Calls\n",
       "0                       Tenderloin     809041\n",
       "1                  South of Market     583631\n",
       "2                          Mission     543289\n",
       "3   Financial District/South Beach     402331\n",
       "4            Bayview Hunters Point     326423\n",
       "5                  Sunset/Parkside     233135\n",
       "6                 Western Addition     222759\n",
       "7                         Nob Hill     198957\n",
       "8                   Outer Richmond     159714\n",
       "9                     Hayes Valley     148946\n",
       "10             Castro/Upper Market     144533\n",
       "11              West of Twin Peaks     131856\n",
       "12                     North Beach     126516\n",
       "13                 Pacific Heights     125234\n",
       "14                       Chinatown     123221\n",
       "15                       Excelsior     120771\n",
       "16                          Marina     116713\n",
       "17                  Bernal Heights     113744\n",
       "18                    Potrero Hill     110187\n",
       "19                    Inner Sunset      95266\n",
       "20                    Russian Hill      92968\n",
       "21                  Haight Ashbury      89918\n",
       "22                   Outer Mission      87582\n",
       "23                       Lakeshore      87206\n",
       "24                  Inner Richmond      84338\n",
       "25      Oceanview/Merced/Ingleside      84027\n",
       "26               Visitacion Valley      77346\n",
       "27               Lone Mountain/USF      72502\n",
       "28                     Mission Bay      72477\n",
       "29                      Noe Valley      65199\n",
       "30                         Portola      57161\n",
       "31                       Japantown      53161\n",
       "32                Presidio Heights      52465\n",
       "33                 Treasure Island      40610\n",
       "34                      Twin Peaks      35483\n",
       "35                Golden Gate Park      35188\n",
       "36                       Glen Park      28906\n",
       "37                        Presidio      23613\n",
       "38                            None      16743\n",
       "39                        Seacliff      10052\n",
       "40                    McLaren Park       6941\n",
       "41                    Lincoln Park       5903"
      ]
     },
     "execution_count": 113,
     "metadata": {},
     "output_type": "execute_result"
    }
   ],
   "source": [
    "# Using SQL: how many calls per area in SF?\n",
    "spark.sql(\"\"\"\n",
    "SELECT\n",
    "    area\n",
    "    , count(*) as `Num_Calls`\n",
    "FROM\n",
    "    calls\n",
    "GROUP BY\n",
    "    area\n",
    "ORDER BY\n",
    "    count(*) DESC\n",
    "\"\"\").toPandas()"
   ]
  },
  {
   "cell_type": "code",
   "execution_count": 117,
   "id": "5224b9ed-74f8-4de1-adce-19c152e0827b",
   "metadata": {},
   "outputs": [
    {
     "name": "stderr",
     "output_type": "stream",
     "text": [
      "                                                                                \r"
     ]
    },
    {
     "data": {
      "text/html": [
       "<div>\n",
       "<style scoped>\n",
       "    .dataframe tbody tr th:only-of-type {\n",
       "        vertical-align: middle;\n",
       "    }\n",
       "\n",
       "    .dataframe tbody tr th {\n",
       "        vertical-align: top;\n",
       "    }\n",
       "\n",
       "    .dataframe thead th {\n",
       "        text-align: right;\n",
       "    }\n",
       "</style>\n",
       "<table border=\"1\" class=\"dataframe\">\n",
       "  <thead>\n",
       "    <tr style=\"text-align: right;\">\n",
       "      <th></th>\n",
       "      <th>Call_Type_Group</th>\n",
       "      <th>Call_Type</th>\n",
       "      <th>Num_Calls</th>\n",
       "    </tr>\n",
       "  </thead>\n",
       "  <tbody>\n",
       "    <tr>\n",
       "      <th>0</th>\n",
       "      <td>None</td>\n",
       "      <td>Medical Incident</td>\n",
       "      <td>1783402</td>\n",
       "    </tr>\n",
       "    <tr>\n",
       "      <th>1</th>\n",
       "      <td>Potentially Life-Threatening</td>\n",
       "      <td>Medical Incident</td>\n",
       "      <td>1448636</td>\n",
       "    </tr>\n",
       "    <tr>\n",
       "      <th>2</th>\n",
       "      <td>Non Life-threatening</td>\n",
       "      <td>Medical Incident</td>\n",
       "      <td>716653</td>\n",
       "    </tr>\n",
       "    <tr>\n",
       "      <th>3</th>\n",
       "      <td>None</td>\n",
       "      <td>Structure Fire</td>\n",
       "      <td>416250</td>\n",
       "    </tr>\n",
       "    <tr>\n",
       "      <th>4</th>\n",
       "      <td>Alarm</td>\n",
       "      <td>Alarms</td>\n",
       "      <td>366116</td>\n",
       "    </tr>\n",
       "    <tr>\n",
       "      <th>...</th>\n",
       "      <td>...</td>\n",
       "      <td>...</td>\n",
       "      <td>...</td>\n",
       "    </tr>\n",
       "    <tr>\n",
       "      <th>73</th>\n",
       "      <td>Alarm</td>\n",
       "      <td>Vehicle Fire</td>\n",
       "      <td>13</td>\n",
       "    </tr>\n",
       "    <tr>\n",
       "      <th>74</th>\n",
       "      <td>Fire</td>\n",
       "      <td>Train / Rail Fire</td>\n",
       "      <td>10</td>\n",
       "    </tr>\n",
       "    <tr>\n",
       "      <th>75</th>\n",
       "      <td>None</td>\n",
       "      <td>Lightning Strike (Investigation)</td>\n",
       "      <td>9</td>\n",
       "    </tr>\n",
       "    <tr>\n",
       "      <th>76</th>\n",
       "      <td>Alarm</td>\n",
       "      <td>Oil Spill</td>\n",
       "      <td>5</td>\n",
       "    </tr>\n",
       "    <tr>\n",
       "      <th>77</th>\n",
       "      <td>Fire</td>\n",
       "      <td>Administrative</td>\n",
       "      <td>1</td>\n",
       "    </tr>\n",
       "  </tbody>\n",
       "</table>\n",
       "<p>78 rows × 3 columns</p>\n",
       "</div>"
      ],
      "text/plain": [
       "                 Call_Type_Group                         Call_Type  Num_Calls\n",
       "0                           None                  Medical Incident    1783402\n",
       "1   Potentially Life-Threatening                  Medical Incident    1448636\n",
       "2           Non Life-threatening                  Medical Incident     716653\n",
       "3                           None                    Structure Fire     416250\n",
       "4                          Alarm                            Alarms     366116\n",
       "..                           ...                               ...        ...\n",
       "73                         Alarm                      Vehicle Fire         13\n",
       "74                          Fire                 Train / Rail Fire         10\n",
       "75                          None  Lightning Strike (Investigation)          9\n",
       "76                         Alarm                         Oil Spill          5\n",
       "77                          Fire                    Administrative          1\n",
       "\n",
       "[78 rows x 3 columns]"
      ]
     },
     "execution_count": 117,
     "metadata": {},
     "output_type": "execute_result"
    }
   ],
   "source": [
    "# How many calls are there per group/type?\n",
    "spark.sql(\"\"\"\n",
    "SELECT\n",
    "    Call_Type_Group\n",
    "    , Call_Type    \n",
    "    , count(*) as `Num_Calls`\n",
    "FROM\n",
    "    calls\n",
    "GROUP BY\n",
    "    Call_Type_Group\n",
    "    , Call_Type\n",
    "ORDER BY\n",
    "    count(*) DESC\n",
    "\"\"\").toPandas()"
   ]
  },
  {
   "cell_type": "code",
   "execution_count": 119,
   "id": "8b1775aa-8bb6-49c0-9da9-db5e056fca36",
   "metadata": {},
   "outputs": [
    {
     "name": "stderr",
     "output_type": "stream",
     "text": [
      "                                                                                \r"
     ]
    },
    {
     "data": {
      "text/html": [
       "<div>\n",
       "<style scoped>\n",
       "    .dataframe tbody tr th:only-of-type {\n",
       "        vertical-align: middle;\n",
       "    }\n",
       "\n",
       "    .dataframe tbody tr th {\n",
       "        vertical-align: top;\n",
       "    }\n",
       "\n",
       "    .dataframe thead th {\n",
       "        text-align: right;\n",
       "    }\n",
       "</style>\n",
       "<table border=\"1\" class=\"dataframe\">\n",
       "  <thead>\n",
       "    <tr style=\"text-align: right;\">\n",
       "      <th></th>\n",
       "      <th>Call_Type_Group</th>\n",
       "      <th>Percent</th>\n",
       "    </tr>\n",
       "  </thead>\n",
       "  <tbody>\n",
       "    <tr>\n",
       "      <th>0</th>\n",
       "      <td>Potentially Life-Threatening</td>\n",
       "      <td>94.230156</td>\n",
       "    </tr>\n",
       "    <tr>\n",
       "      <th>1</th>\n",
       "      <td>Non Life-threatening</td>\n",
       "      <td>92.417455</td>\n",
       "    </tr>\n",
       "    <tr>\n",
       "      <th>2</th>\n",
       "      <td>None</td>\n",
       "      <td>63.295298</td>\n",
       "    </tr>\n",
       "    <tr>\n",
       "      <th>3</th>\n",
       "      <td>Alarm</td>\n",
       "      <td>48.662342</td>\n",
       "    </tr>\n",
       "    <tr>\n",
       "      <th>4</th>\n",
       "      <td>Fire</td>\n",
       "      <td>38.300729</td>\n",
       "    </tr>\n",
       "  </tbody>\n",
       "</table>\n",
       "</div>"
      ],
      "text/plain": [
       "                Call_Type_Group    Percent\n",
       "0  Potentially Life-Threatening  94.230156\n",
       "1          Non Life-threatening  92.417455\n",
       "2                          None  63.295298\n",
       "3                         Alarm  48.662342\n",
       "4                          Fire  38.300729"
      ]
     },
     "execution_count": 119,
     "metadata": {},
     "output_type": "execute_result"
    }
   ],
   "source": [
    "# Using SQL: For each group, what percentage of calls are represented by the biggest type (ex. 80% of Fires are Train/Rail Fires)?\n",
    "spark.sql(\"\"\"\n",
    "SELECT\n",
    "    Call_Type_Group\n",
    "    , (MAX(count) / SUM(count)) * 100 as Percent\n",
    "FROM\n",
    "    (\n",
    "    SELECT\n",
    "        Call_Type_Group\n",
    "        , Call_Type    \n",
    "        , count(*) as `count`\n",
    "    FROM\n",
    "        calls\n",
    "    GROUP BY\n",
    "        Call_Type_Group\n",
    "        , Call_Type\n",
    "    ) subq\n",
    "GROUP BY\n",
    "    Call_Type_Group\n",
    "ORDER BY\n",
    "    Percent DESC\n",
    "\"\"\").toPandas()"
   ]
  },
  {
   "cell_type": "code",
   "execution_count": 132,
   "id": "a28d4e15-a611-4fee-95c1-f126390d7433",
   "metadata": {},
   "outputs": [
    {
     "name": "stderr",
     "output_type": "stream",
     "text": [
      "                                                                                \r"
     ]
    },
    {
     "data": {
      "text/html": [
       "<div>\n",
       "<style scoped>\n",
       "    .dataframe tbody tr th:only-of-type {\n",
       "        vertical-align: middle;\n",
       "    }\n",
       "\n",
       "    .dataframe tbody tr th {\n",
       "        vertical-align: top;\n",
       "    }\n",
       "\n",
       "    .dataframe thead th {\n",
       "        text-align: right;\n",
       "    }\n",
       "</style>\n",
       "<table border=\"1\" class=\"dataframe\">\n",
       "  <thead>\n",
       "    <tr style=\"text-align: right;\">\n",
       "      <th></th>\n",
       "      <th>Call_Type_Group</th>\n",
       "      <th>Percent</th>\n",
       "    </tr>\n",
       "  </thead>\n",
       "  <tbody>\n",
       "    <tr>\n",
       "      <th>0</th>\n",
       "      <td>Potentially Life-Threatening</td>\n",
       "      <td>94.230156</td>\n",
       "    </tr>\n",
       "    <tr>\n",
       "      <th>1</th>\n",
       "      <td>Non Life-threatening</td>\n",
       "      <td>92.417455</td>\n",
       "    </tr>\n",
       "    <tr>\n",
       "      <th>2</th>\n",
       "      <td>None</td>\n",
       "      <td>63.295298</td>\n",
       "    </tr>\n",
       "    <tr>\n",
       "      <th>3</th>\n",
       "      <td>Alarm</td>\n",
       "      <td>48.662342</td>\n",
       "    </tr>\n",
       "    <tr>\n",
       "      <th>4</th>\n",
       "      <td>Fire</td>\n",
       "      <td>38.300729</td>\n",
       "    </tr>\n",
       "  </tbody>\n",
       "</table>\n",
       "</div>"
      ],
      "text/plain": [
       "                Call_Type_Group    Percent\n",
       "0  Potentially Life-Threatening  94.230156\n",
       "1          Non Life-threatening  92.417455\n",
       "2                          None  63.295298\n",
       "3                         Alarm  48.662342\n",
       "4                          Fire  38.300729"
      ]
     },
     "execution_count": 132,
     "metadata": {},
     "output_type": "execute_result"
    }
   ],
   "source": [
    "# Using Spark: For each group, what percentage of calls are represented by the biggest type (ex. 80% of Fires are Train/Rail Fires)?\n",
    "(spark.table(\"calls\")\n",
    " .groupby(\"Call_Type_Group\", \"Call_Type\")   # gives us GroupedData; to transform GroupedData to a DataFrame, we need to aggregate\n",
    " .count()    # this count is not an action (results might be intermediate), it's a transformation (gives us back a DataFrame with \"count\" column added)\n",
    " .groupby(\"Call_Type_Group\")\n",
    " .agg(expr(\"MAX(count) * 100 / SUM(count)\").alias(\"Percent\"))   # GroupedData.agg() lets us do more complex aggregates than count/max/avg/etc. \n",
    " .orderBy(\"Percent\", ascending=False)\n",
    ").toPandas()"
   ]
  },
  {
   "cell_type": "code",
   "execution_count": 126,
   "id": "d17ac791-a12b-4283-93a4-6cd951f663d2",
   "metadata": {},
   "outputs": [
    {
     "name": "stderr",
     "output_type": "stream",
     "text": [
      "                                                                                \r"
     ]
    },
    {
     "data": {
      "text/html": [
       "<div>\n",
       "<style scoped>\n",
       "    .dataframe tbody tr th:only-of-type {\n",
       "        vertical-align: middle;\n",
       "    }\n",
       "\n",
       "    .dataframe tbody tr th {\n",
       "        vertical-align: top;\n",
       "    }\n",
       "\n",
       "    .dataframe thead th {\n",
       "        text-align: right;\n",
       "    }\n",
       "</style>\n",
       "<table border=\"1\" class=\"dataframe\">\n",
       "  <thead>\n",
       "    <tr style=\"text-align: right;\">\n",
       "      <th></th>\n",
       "      <th>Call_Type_Group</th>\n",
       "      <th>Call_Type</th>\n",
       "      <th>count</th>\n",
       "    </tr>\n",
       "  </thead>\n",
       "  <tbody>\n",
       "    <tr>\n",
       "      <th>0</th>\n",
       "      <td>None</td>\n",
       "      <td>Elevator / Escalator Rescue</td>\n",
       "      <td>7062</td>\n",
       "    </tr>\n",
       "    <tr>\n",
       "      <th>1</th>\n",
       "      <td>None</td>\n",
       "      <td>Marine Fire</td>\n",
       "      <td>222</td>\n",
       "    </tr>\n",
       "    <tr>\n",
       "      <th>2</th>\n",
       "      <td>None</td>\n",
       "      <td>Aircraft Emergency</td>\n",
       "      <td>1263</td>\n",
       "    </tr>\n",
       "    <tr>\n",
       "      <th>3</th>\n",
       "      <td>None</td>\n",
       "      <td>Confined Space / Structure Collapse</td>\n",
       "      <td>286</td>\n",
       "    </tr>\n",
       "    <tr>\n",
       "      <th>4</th>\n",
       "      <td>None</td>\n",
       "      <td>Administrative</td>\n",
       "      <td>306</td>\n",
       "    </tr>\n",
       "    <tr>\n",
       "      <th>...</th>\n",
       "      <td>...</td>\n",
       "      <td>...</td>\n",
       "      <td>...</td>\n",
       "    </tr>\n",
       "    <tr>\n",
       "      <th>73</th>\n",
       "      <td>Alarm</td>\n",
       "      <td>Watercraft in Distress</td>\n",
       "      <td>14</td>\n",
       "    </tr>\n",
       "    <tr>\n",
       "      <th>74</th>\n",
       "      <td>Fire</td>\n",
       "      <td>Train / Rail Fire</td>\n",
       "      <td>10</td>\n",
       "    </tr>\n",
       "    <tr>\n",
       "      <th>75</th>\n",
       "      <td>Alarm</td>\n",
       "      <td>Vehicle Fire</td>\n",
       "      <td>13</td>\n",
       "    </tr>\n",
       "    <tr>\n",
       "      <th>76</th>\n",
       "      <td>Fire</td>\n",
       "      <td>Administrative</td>\n",
       "      <td>1</td>\n",
       "    </tr>\n",
       "    <tr>\n",
       "      <th>77</th>\n",
       "      <td>Potentially Life-Threatening</td>\n",
       "      <td>Structure Fire</td>\n",
       "      <td>16</td>\n",
       "    </tr>\n",
       "  </tbody>\n",
       "</table>\n",
       "<p>78 rows × 3 columns</p>\n",
       "</div>"
      ],
      "text/plain": [
       "                 Call_Type_Group                            Call_Type  count\n",
       "0                           None          Elevator / Escalator Rescue   7062\n",
       "1                           None                          Marine Fire    222\n",
       "2                           None                   Aircraft Emergency   1263\n",
       "3                           None  Confined Space / Structure Collapse    286\n",
       "4                           None                       Administrative    306\n",
       "..                           ...                                  ...    ...\n",
       "73                         Alarm               Watercraft in Distress     14\n",
       "74                          Fire                    Train / Rail Fire     10\n",
       "75                         Alarm                         Vehicle Fire     13\n",
       "76                          Fire                       Administrative      1\n",
       "77  Potentially Life-Threatening                       Structure Fire     16\n",
       "\n",
       "[78 rows x 3 columns]"
      ]
     },
     "execution_count": 126,
     "metadata": {},
     "output_type": "execute_result"
    }
   ],
   "source": [
    "# Example intermediate results\n",
    "(spark.table(\"calls\")\n",
    " .groupby(\"Call_Type_Group\", \"Call_Type\")\n",
    " .count()\n",
    " # .groupby(\"Call_Type_Group\")\n",
    " # .agg(expr(\"MAX(count)\"))\n",
    ").toPandas()"
   ]
  },
  {
   "cell_type": "code",
   "execution_count": 11,
   "id": "b7ba821b-c7a8-435e-8f46-d79933ceeb15",
   "metadata": {},
   "outputs": [
    {
     "name": "stderr",
     "output_type": "stream",
     "text": [
      "                                                                                \r"
     ]
    },
    {
     "data": {
      "text/html": [
       "<div>\n",
       "<style scoped>\n",
       "    .dataframe tbody tr th:only-of-type {\n",
       "        vertical-align: middle;\n",
       "    }\n",
       "\n",
       "    .dataframe tbody tr th {\n",
       "        vertical-align: top;\n",
       "    }\n",
       "\n",
       "    .dataframe thead th {\n",
       "        text-align: right;\n",
       "    }\n",
       "</style>\n",
       "<table border=\"1\" class=\"dataframe\">\n",
       "  <thead>\n",
       "    <tr style=\"text-align: right;\">\n",
       "      <th></th>\n",
       "      <th>Call_Type_Group</th>\n",
       "      <th>max(count)</th>\n",
       "    </tr>\n",
       "  </thead>\n",
       "  <tbody>\n",
       "    <tr>\n",
       "      <th>0</th>\n",
       "      <td>Alarm</td>\n",
       "      <td>366116</td>\n",
       "    </tr>\n",
       "    <tr>\n",
       "      <th>1</th>\n",
       "      <td>None</td>\n",
       "      <td>1783402</td>\n",
       "    </tr>\n",
       "    <tr>\n",
       "      <th>2</th>\n",
       "      <td>Potentially Life-Threatening</td>\n",
       "      <td>1448636</td>\n",
       "    </tr>\n",
       "    <tr>\n",
       "      <th>3</th>\n",
       "      <td>Non Life-threatening</td>\n",
       "      <td>716653</td>\n",
       "    </tr>\n",
       "    <tr>\n",
       "      <th>4</th>\n",
       "      <td>Fire</td>\n",
       "      <td>51061</td>\n",
       "    </tr>\n",
       "  </tbody>\n",
       "</table>\n",
       "</div>"
      ],
      "text/plain": [
       "                Call_Type_Group  max(count)\n",
       "0                         Alarm      366116\n",
       "1                          None     1783402\n",
       "2  Potentially Life-Threatening     1448636\n",
       "3          Non Life-threatening      716653\n",
       "4                          Fire       51061"
      ]
     },
     "execution_count": 11,
     "metadata": {},
     "output_type": "execute_result"
    }
   ],
   "source": [
    "# Example intermediate results\n",
    "(spark.table(\"calls\")\n",
    " .groupby(\"Call_Type_Group\", \"Call_Type\")\n",
    " .count()\n",
    " .groupby(\"Call_Type_Group\")\n",
    " .agg(expr(\"MAX(count)\"))\n",
    ").toPandas()"
   ]
  },
  {
   "cell_type": "markdown",
   "id": "99cc4926-cd1d-470b-b45a-465a357f70a1",
   "metadata": {},
   "source": [
    "#### Windowing Example"
   ]
  },
  {
   "cell_type": "code",
   "execution_count": 18,
   "id": "4969ac43-7279-4050-8cad-91cf4917fb0a",
   "metadata": {},
   "outputs": [
    {
     "name": "stderr",
     "output_type": "stream",
     "text": [
      "                                                                                \r"
     ]
    },
    {
     "data": {
      "text/html": [
       "<div>\n",
       "<style scoped>\n",
       "    .dataframe tbody tr th:only-of-type {\n",
       "        vertical-align: middle;\n",
       "    }\n",
       "\n",
       "    .dataframe tbody tr th {\n",
       "        vertical-align: top;\n",
       "    }\n",
       "\n",
       "    .dataframe thead th {\n",
       "        text-align: right;\n",
       "    }\n",
       "</style>\n",
       "<table border=\"1\" class=\"dataframe\">\n",
       "  <thead>\n",
       "    <tr style=\"text-align: right;\">\n",
       "      <th></th>\n",
       "      <th>area</th>\n",
       "      <th>Call_Number</th>\n",
       "      <th>row_num</th>\n",
       "    </tr>\n",
       "  </thead>\n",
       "  <tbody>\n",
       "    <tr>\n",
       "      <th>0</th>\n",
       "      <td>Bayview Hunters Point</td>\n",
       "      <td>1030119</td>\n",
       "      <td>1</td>\n",
       "    </tr>\n",
       "    <tr>\n",
       "      <th>1</th>\n",
       "      <td>Bayview Hunters Point</td>\n",
       "      <td>1040031</td>\n",
       "      <td>2</td>\n",
       "    </tr>\n",
       "    <tr>\n",
       "      <th>2</th>\n",
       "      <td>Bayview Hunters Point</td>\n",
       "      <td>1040078</td>\n",
       "      <td>3</td>\n",
       "    </tr>\n",
       "    <tr>\n",
       "      <th>3</th>\n",
       "      <td>Bernal Heights</td>\n",
       "      <td>1040089</td>\n",
       "      <td>1</td>\n",
       "    </tr>\n",
       "    <tr>\n",
       "      <th>4</th>\n",
       "      <td>Bernal Heights</td>\n",
       "      <td>1040245</td>\n",
       "      <td>2</td>\n",
       "    </tr>\n",
       "    <tr>\n",
       "      <th>5</th>\n",
       "      <td>Bernal Heights</td>\n",
       "      <td>1040246</td>\n",
       "      <td>3</td>\n",
       "    </tr>\n",
       "    <tr>\n",
       "      <th>6</th>\n",
       "      <td>Castro/Upper Market</td>\n",
       "      <td>1040038</td>\n",
       "      <td>1</td>\n",
       "    </tr>\n",
       "    <tr>\n",
       "      <th>7</th>\n",
       "      <td>Castro/Upper Market</td>\n",
       "      <td>1040038</td>\n",
       "      <td>2</td>\n",
       "    </tr>\n",
       "    <tr>\n",
       "      <th>8</th>\n",
       "      <td>Castro/Upper Market</td>\n",
       "      <td>1040038</td>\n",
       "      <td>3</td>\n",
       "    </tr>\n",
       "    <tr>\n",
       "      <th>9</th>\n",
       "      <td>Chinatown</td>\n",
       "      <td>1030120</td>\n",
       "      <td>1</td>\n",
       "    </tr>\n",
       "  </tbody>\n",
       "</table>\n",
       "</div>"
      ],
      "text/plain": [
       "                    area  Call_Number  row_num\n",
       "0  Bayview Hunters Point      1030119        1\n",
       "1  Bayview Hunters Point      1040031        2\n",
       "2  Bayview Hunters Point      1040078        3\n",
       "3         Bernal Heights      1040089        1\n",
       "4         Bernal Heights      1040245        2\n",
       "5         Bernal Heights      1040246        3\n",
       "6    Castro/Upper Market      1040038        1\n",
       "7    Castro/Upper Market      1040038        2\n",
       "8    Castro/Upper Market      1040038        3\n",
       "9              Chinatown      1030120        1"
      ]
     },
     "execution_count": 18,
     "metadata": {},
     "output_type": "execute_result"
    }
   ],
   "source": [
    "# What are the 3 smallest call numbers for each area?\n",
    "# we can try to rank the call numbers relative to the area (ROW NUM and ORDER BY) to get the minimum 3\n",
    "spark.sql(\"\"\"\n",
    "SELECT\n",
    "    *\n",
    "FROM\n",
    "    (\n",
    "    SELECT\n",
    "        area,\n",
    "        Call_Number,\n",
    "        ROW_NUMBER() OVER(PARTITION BY area ORDER BY Call_Number) as row_num\n",
    "    FROM\n",
    "        calls\n",
    "    )\n",
    "WHERE\n",
    "    row_num <= 3   -- Using a subquery here is tedious, would rather avoid if possible\n",
    "LIMIT\n",
    "    10\n",
    "\"\"\").toPandas()"
   ]
  },
  {
   "cell_type": "code",
   "execution_count": 19,
   "id": "0fcf453c-609c-48b7-b711-e3ea72c19204",
   "metadata": {},
   "outputs": [
    {
     "name": "stderr",
     "output_type": "stream",
     "text": [
      "                                                                                \r"
     ]
    },
    {
     "data": {
      "text/html": [
       "<div>\n",
       "<style scoped>\n",
       "    .dataframe tbody tr th:only-of-type {\n",
       "        vertical-align: middle;\n",
       "    }\n",
       "\n",
       "    .dataframe tbody tr th {\n",
       "        vertical-align: top;\n",
       "    }\n",
       "\n",
       "    .dataframe thead th {\n",
       "        text-align: right;\n",
       "    }\n",
       "</style>\n",
       "<table border=\"1\" class=\"dataframe\">\n",
       "  <thead>\n",
       "    <tr style=\"text-align: right;\">\n",
       "      <th></th>\n",
       "      <th>area</th>\n",
       "      <th>Call_Number</th>\n",
       "      <th>row_num</th>\n",
       "    </tr>\n",
       "  </thead>\n",
       "  <tbody>\n",
       "    <tr>\n",
       "      <th>0</th>\n",
       "      <td>Bayview Hunters Point</td>\n",
       "      <td>1030119</td>\n",
       "      <td>1</td>\n",
       "    </tr>\n",
       "    <tr>\n",
       "      <th>1</th>\n",
       "      <td>Bayview Hunters Point</td>\n",
       "      <td>1040031</td>\n",
       "      <td>2</td>\n",
       "    </tr>\n",
       "    <tr>\n",
       "      <th>2</th>\n",
       "      <td>Bayview Hunters Point</td>\n",
       "      <td>1040078</td>\n",
       "      <td>3</td>\n",
       "    </tr>\n",
       "    <tr>\n",
       "      <th>3</th>\n",
       "      <td>Bernal Heights</td>\n",
       "      <td>1040089</td>\n",
       "      <td>1</td>\n",
       "    </tr>\n",
       "    <tr>\n",
       "      <th>4</th>\n",
       "      <td>Bernal Heights</td>\n",
       "      <td>1040245</td>\n",
       "      <td>2</td>\n",
       "    </tr>\n",
       "    <tr>\n",
       "      <th>5</th>\n",
       "      <td>Bernal Heights</td>\n",
       "      <td>1040246</td>\n",
       "      <td>3</td>\n",
       "    </tr>\n",
       "    <tr>\n",
       "      <th>6</th>\n",
       "      <td>Castro/Upper Market</td>\n",
       "      <td>1040038</td>\n",
       "      <td>1</td>\n",
       "    </tr>\n",
       "    <tr>\n",
       "      <th>7</th>\n",
       "      <td>Castro/Upper Market</td>\n",
       "      <td>1040038</td>\n",
       "      <td>2</td>\n",
       "    </tr>\n",
       "    <tr>\n",
       "      <th>8</th>\n",
       "      <td>Castro/Upper Market</td>\n",
       "      <td>1040038</td>\n",
       "      <td>3</td>\n",
       "    </tr>\n",
       "    <tr>\n",
       "      <th>9</th>\n",
       "      <td>Chinatown</td>\n",
       "      <td>1030120</td>\n",
       "      <td>1</td>\n",
       "    </tr>\n",
       "  </tbody>\n",
       "</table>\n",
       "</div>"
      ],
      "text/plain": [
       "                    area  Call_Number  row_num\n",
       "0  Bayview Hunters Point      1030119        1\n",
       "1  Bayview Hunters Point      1040031        2\n",
       "2  Bayview Hunters Point      1040078        3\n",
       "3         Bernal Heights      1040089        1\n",
       "4         Bernal Heights      1040245        2\n",
       "5         Bernal Heights      1040246        3\n",
       "6    Castro/Upper Market      1040038        1\n",
       "7    Castro/Upper Market      1040038        2\n",
       "8    Castro/Upper Market      1040038        3\n",
       "9              Chinatown      1030120        1"
      ]
     },
     "execution_count": 19,
     "metadata": {},
     "output_type": "execute_result"
    }
   ],
   "source": [
    "# We can use the fact that we're dealing with DataFrames here to avoid the subquery\n",
    "spark.sql(\"\"\"\n",
    "    SELECT\n",
    "        area,\n",
    "        Call_Number,\n",
    "        ROW_NUMBER() OVER(PARTITION BY area ORDER BY Call_Number) as row_num\n",
    "    FROM\n",
    "        calls\n",
    "\"\"\").where(\"row_num <= 3\").limit(10).toPandas()"
   ]
  },
  {
   "cell_type": "code",
   "execution_count": null,
   "id": "e02c43d1-1cdb-4eeb-a52f-61df5ca53675",
   "metadata": {},
   "outputs": [],
   "source": []
  }
 ],
 "metadata": {
  "kernelspec": {
   "display_name": "Python 3 (ipykernel)",
   "language": "python",
   "name": "python3"
  },
  "language_info": {
   "codemirror_mode": {
    "name": "ipython",
    "version": 3
   },
   "file_extension": ".py",
   "mimetype": "text/x-python",
   "name": "python",
   "nbconvert_exporter": "python",
   "pygments_lexer": "ipython3",
   "version": "3.10.12"
  }
 },
 "nbformat": 4,
 "nbformat_minor": 5
}
