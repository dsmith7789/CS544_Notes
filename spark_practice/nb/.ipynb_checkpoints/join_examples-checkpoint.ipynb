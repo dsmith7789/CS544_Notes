{
 "cells": [
  {
   "cell_type": "markdown",
   "id": "aa5ef85f-a4c6-4a73-a8ef-0c1594a0df29",
   "metadata": {},
   "source": [
    "## Analyzing Fire Department Calls and Holidays"
   ]
  },
  {
   "cell_type": "code",
   "execution_count": 1,
   "id": "da748e9b-dca4-4ff5-ade7-1a5a8c3eadc9",
   "metadata": {},
   "outputs": [
    {
     "name": "stderr",
     "output_type": "stream",
     "text": [
      "Setting default log level to \"WARN\".\n",
      "To adjust logging level use sc.setLogLevel(newLevel). For SparkR, use setLogLevel(newLevel).\n",
      "23/11/03 01:45:17 WARN NativeCodeLoader: Unable to load native-hadoop library for your platform... using builtin-java classes where applicable\n"
     ]
    }
   ],
   "source": [
    "from pyspark.sql import SparkSession\n",
    "spark = (SparkSession.builder.appName(\"cs544\")\n",
    "         .master(\"spark://boss:7077\")\n",
    "         .config(\"spark.executor.memory\", \"512M\")\n",
    "         .config(\"spark.sql.warehouse.dir\", \"hdfs://nn:9000/user/hive/warehouse\")\n",
    "         .enableHiveSupport()\n",
    "         .getOrCreate())"
   ]
  },
  {
   "cell_type": "code",
   "execution_count": 2,
   "id": "2b5bbd60-a5cc-4438-a01f-74c891c1cba5",
   "metadata": {},
   "outputs": [
    {
     "name": "stdout",
     "output_type": "stream",
     "text": [
      "--2023-11-03 01:46:02--  https://raw.githubusercontent.com/tylerharter/us-federal-holidays/main/holidays2.csv\n",
      "Resolving raw.githubusercontent.com (raw.githubusercontent.com)... 185.199.108.133, 185.199.111.133, 185.199.109.133, ...\n",
      "Connecting to raw.githubusercontent.com (raw.githubusercontent.com)|185.199.108.133|:443... connected.\n",
      "HTTP request sent, awaiting response... 200 OK\n",
      "Length: 3495 (3.4K) [text/plain]\n",
      "Saving to: ‘holidays2.csv’\n",
      "\n",
      "holidays2.csv       100%[===================>]   3.41K  --.-KB/s    in 0s      \n",
      "\n",
      "2023-11-03 01:46:02 (24.7 MB/s) - ‘holidays2.csv’ saved [3495/3495]\n",
      "\n"
     ]
    }
   ],
   "source": [
    "! wget https://raw.githubusercontent.com/tylerharter/us-federal-holidays/main/holidays2.csv"
   ]
  },
  {
   "cell_type": "code",
   "execution_count": 3,
   "id": "b0dbb23c-6139-4a90-9b1f-dfde4788b112",
   "metadata": {},
   "outputs": [],
   "source": [
    "! hdfs dfs -cp holidays2.csv hdfs://nn:9000/"
   ]
  },
  {
   "cell_type": "code",
   "execution_count": 4,
   "id": "477f6ee4-2b71-4d5e-9131-da575dc50352",
   "metadata": {},
   "outputs": [
    {
     "name": "stderr",
     "output_type": "stream",
     "text": [
      "23/11/03 01:46:41 WARN SparkStringUtils: Truncated the string representation of a plan since it was too large. This behavior can be adjusted by setting 'spark.sql.debug.maxToStringFields'.\n"
     ]
    }
   ],
   "source": [
    "(spark.read\n",
    " .format(\"parquet\")\n",
    " .load(\"hdfs://nn:9000/sf.parquet\")\n",
    " .createOrReplaceTempView(\"calls\")\n",
    ")"
   ]
  },
  {
   "cell_type": "code",
   "execution_count": 5,
   "id": "e09e3a90-74bf-46bb-9d4e-651dcab62b7e",
   "metadata": {},
   "outputs": [
    {
     "name": "stderr",
     "output_type": "stream",
     "text": [
      "                                                                                \r"
     ]
    }
   ],
   "source": [
    "(spark.read\n",
    " .format(\"csv\")\n",
    " .option(\"inferSchema\", True)\n",
    " .option(\"header\", True)\n",
    " .load(\"hdfs://nn:9000/holidays2.csv\")\n",
    " .createOrReplaceTempView(\"holidays\")\n",
    ")"
   ]
  },
  {
   "cell_type": "code",
   "execution_count": null,
   "id": "0cfbdb27-d1ef-4624-8078-9c92ac9d8368",
   "metadata": {},
   "outputs": [],
   "source": []
  }
 ],
 "metadata": {
  "kernelspec": {
   "display_name": "Python 3 (ipykernel)",
   "language": "python",
   "name": "python3"
  },
  "language_info": {
   "codemirror_mode": {
    "name": "ipython",
    "version": 3
   },
   "file_extension": ".py",
   "mimetype": "text/x-python",
   "name": "python",
   "nbconvert_exporter": "python",
   "pygments_lexer": "ipython3",
   "version": "3.10.12"
  }
 },
 "nbformat": 4,
 "nbformat_minor": 5
}
